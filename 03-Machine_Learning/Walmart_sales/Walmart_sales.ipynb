{
 "cells": [
  {
   "cell_type": "markdown",
   "metadata": {},
   "source": [
    "# Walmart sales project\n",
    "\n",
    "\n",
    "Contents\n",
    "--------\n",
    "1. [Loading the dataset](#loading)\n",
    "2. [Perspectives](#perspectives)\n",
    "\n"
   ]
  }
 ],
 "metadata": {
  "language_info": {
   "name": "python"
  }
 },
 "nbformat": 4,
 "nbformat_minor": 2
}
