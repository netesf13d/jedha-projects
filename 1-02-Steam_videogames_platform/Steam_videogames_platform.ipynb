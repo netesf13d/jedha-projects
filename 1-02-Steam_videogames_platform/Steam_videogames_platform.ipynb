{
 "cells": [
  {
   "cell_type": "markdown",
   "metadata": {},
   "source": [
    "# Steam videogames platform project\n",
    "\n",
    "In this project, we conduct a study of Steam's game marketplace to understand the videogames market, and determine the most influencial factors for games popularity. We are provided a dataset containing information about the videogames available on Steam platform: names, description, developer, release date, number of owners, ratings, etc. The data corresponds to what is accessible to a customer of the platform. In the perspective of a real market analysis, it is nevertheless missing important information such as the production costs and duration, production means (eg use of generative AI), more precise info on the game mechanics, geographical/age distribution of players, etc.\n",
    "\n",
    "For our analysis, we will follow the guidelines proposed in the project description.\n",
    "\n",
    "Contents\n",
    "--------\n",
    "1. [Data loading and preprocessing](#loading)\n",
    "2. [Macro-level analysis](#macro)\n",
    "3. [Genres analysis](#genres)\n",
    "4. [Platform analysis](#macro)\n",
    "5. [Conclusion and perspectives](#conclusion)\n",
    "\n",
    "\n",
    "We will highlight both the use of Spark SQL API and SQL-like statements for the data analysis in this project. Spark API will be used for data preprocessing and the preparation of relevant dataframes. SQL-like statements will be used subsequently to carry data analysis proper."
   ]
  },
  {
   "cell_type": "code",
   "execution_count": 1,
   "metadata": {},
   "outputs": [],
   "source": [
    "from pyspark import SparkContext\n",
    "from pyspark.sql import SparkSession\n",
    "from pyspark.sql import functions as F\n",
    "from pyspark.sql import Window\n",
    "\n",
    "sc = SparkContext(appName=\"steam-videogames-platform-analysis\")\n",
    "spark = SparkSession.builder.appName('steam-videogames-platform-analysis') \\\n",
    "                            .getOrCreate()\n",
    "\n",
    "\n",
    "import numpy as np\n",
    "import pandas as pd\n",
    "import matplotlib.pyplot as plt\n",
    "import matplotlib.dates as mdates"
   ]
  },
  {
   "cell_type": "markdown",
   "metadata": {},
   "source": [
    "## <a name=\"loading\"></a> Data loading and preprocessing\n",
    "\n",
    "The dataset can be found in a public S3 bucket. If direct data loading from S3 URL is not possible, the following code uses `boto3` to download the file, then converts the resulting string to RDD before reading.\n",
    "```python\n",
    "import boto3\n",
    "from botocore import UNSIGNED\n",
    "from botocore.client import Config\n",
    "\n",
    "s3 = boto3.client('s3', config=Config(signature_version=UNSIGNED))\n",
    "obj = s3.get_object(Bucket='full-stack-bigdata-datasets',\n",
    "                    Key='Big_Data/Project_Steam/steam_game_output.json')\n",
    "data = obj['Body'].read().decode('utf-8')\n",
    "\n",
    "# convert to rdd before reading\n",
    "rddjson = sc.parallelize([data])\n",
    "raw_df = spark.read.json(rddjson)\n",
    "```\n",
    "\n",
    "An alternative way is to download the dataset on the local file system from\n",
    "[https://full-stack-bigdata-datasets.s3.amazonaws.com/Big_Data/Project_Steam/steam_game_output.json](https://full-stack-bigdata-datasets.s3.amazonaws.com/Big_Data/Project_Steam/steam_game_output.json)."
   ]
  },
  {
   "cell_type": "code",
   "execution_count": 2,
   "metadata": {},
   "outputs": [
    {
     "name": "stdout",
     "output_type": "stream",
     "text": [
      "root\n",
      " |-- data: struct (nullable = true)\n",
      " |    |-- appid: long (nullable = true)\n",
      " |    |-- categories: array (nullable = true)\n",
      " |    |-- ccu: long (nullable = true)\n",
      " |    |-- developer: string (nullable = true)\n",
      " |    |-- discount: string (nullable = true)\n",
      " |    |-- genre: string (nullable = true)\n",
      " |    |-- header_image: string (nullable = true)\n",
      " |    |-- initialprice: string (nullable = true)\n",
      " |    |-- languages: string (nullable = true)\n",
      " |    |-- name: string (nullable = true)\n",
      " |    |-- negative: long (nullable = true)\n",
      " |    |-- owners: string (nullable = true)\n",
      " |    |-- platforms: struct (nullable = true)\n",
      " |    |-- positive: long (nullable = true)\n",
      " |    |-- price: string (nullable = true)\n",
      " |    |-- publisher: string (nullable = true)\n",
      " |    |-- release_date: string (nullable = true)\n",
      " |    |-- required_age: string (nullable = true)\n",
      " |    |-- short_description: string (nullable = true)\n",
      " |    |-- tags: struct (nullable = true)\n",
      " |    |-- type: string (nullable = true)\n",
      " |    |-- website: string (nullable = true)\n",
      " |-- id: string (nullable = true)\n",
      "\n"
     ]
    }
   ],
   "source": [
    "## direct download from S3\n",
    "# raw_df = spark.read.json('s3a://full-stack-bigdata-datasets/Big_Data/Project_Steam/steam_game_output.json')\n",
    "\n",
    "## from local filesystem\n",
    "raw_df = spark.read.json('./steam_game_output.json')\n",
    "\n",
    "raw_df.printSchema(2)"
   ]
  },
  {
   "cell_type": "markdown",
   "metadata": {},
   "source": [
    "### Column parsing and preprocessing"
   ]
  },
  {
   "cell_type": "code",
   "execution_count": 3,
   "metadata": {},
   "outputs": [],
   "source": [
    "## parse release date\n",
    "def to_date_(col, formats=('yyyy/MM/d', 'yyyy/MM')):\n",
    "    return F.coalesce(*[F.to_date(col, f) for f in formats])\n",
    "\n",
    "raw_df = raw_df.withColumn(\n",
    "    'data',\n",
    "    raw_df['data'].withField('release_date', to_date_(raw_df['data.release_date']))\n",
    ")"
   ]
  },
  {
   "cell_type": "markdown",
   "metadata": {},
   "source": [
    "This code is unnecessarily complex: we modify a field inside the struct column `'data'` of the dataset. This column basically contains all the data, including the a replica of the other column `'id'`. To make things simpler, we extract the `'data'` column, for easier access to the different fields."
   ]
  },
  {
   "cell_type": "code",
   "execution_count": 4,
   "metadata": {},
   "outputs": [
    {
     "name": "stdout",
     "output_type": "stream",
     "text": [
      "root\n",
      " |-- appid: long (nullable = true)\n",
      " |-- categories: array (nullable = true)\n",
      " |    |-- element: string (containsNull = true)\n",
      " |-- ccu: long (nullable = true)\n",
      " |-- developer: string (nullable = true)\n",
      " |-- discount: string (nullable = true)\n",
      " |-- genre: string (nullable = true)\n",
      " |-- header_image: string (nullable = true)\n",
      " |-- initialprice: string (nullable = true)\n",
      " |-- languages: string (nullable = true)\n",
      " |-- name: string (nullable = true)\n",
      " |-- negative: long (nullable = true)\n",
      " |-- owners: string (nullable = true)\n",
      " |-- platforms: struct (nullable = true)\n",
      " |    |-- linux: boolean (nullable = true)\n",
      " |    |-- mac: boolean (nullable = true)\n",
      " |    |-- windows: boolean (nullable = true)\n",
      " |-- positive: long (nullable = true)\n",
      " |-- price: string (nullable = true)\n",
      " |-- publisher: string (nullable = true)\n",
      " |-- release_date: date (nullable = true)\n",
      " |-- required_age: string (nullable = true)\n",
      " |-- short_description: string (nullable = true)\n",
      " |-- tags: struct (nullable = true)\n",
      " |    |-- 1980s: long (nullable = true)\n",
      " |    |-- 1990's: long (nullable = true)\n",
      " |    |-- 2.5D: long (nullable = true)\n",
      " |    |-- 2D: long (nullable = true)\n",
      " |    |-- 2D Fighter: long (nullable = true)\n",
      " |    |-- 2D Platformer: long (nullable = true)\n",
      " |    |-- 360 Video: long (nullable = true)\n",
      " |    |-- 3D: long (nullable = true)\n",
      " |    |-- 3D Fighter: long (nullable = true)\n",
      " |    |-- 3D Platformer: long (nullable = true)\n",
      " |    |-- 3D Vision: long (nullable = true)\n",
      " |    |-- 4 Player Local: long (nullable = true)\n",
      " |    |-- 4X: long (nullable = true)\n",
      " |    |-- 6DOF: long (nullable = true)\n",
      " |    |-- 8-bit Music: long (nullable = true)\n",
      " |    |-- ATV: long (nullable = true)\n",
      " |    |-- Abstract: long (nullable = true)\n",
      " |    |-- Action: long (nullable = true)\n",
      " |    |-- Action RPG: long (nullable = true)\n",
      " |    |-- Action RTS: long (nullable = true)\n",
      " |    |-- Action Roguelike: long (nullable = true)\n",
      " |    |-- Action-Adventure: long (nullable = true)\n",
      " |    |-- Addictive: long (nullable = true)\n",
      " |    |-- Adventure: long (nullable = true)\n",
      " |    |-- Agriculture: long (nullable = true)\n",
      " |    |-- Aliens: long (nullable = true)\n",
      " |    |-- Alternate History: long (nullable = true)\n",
      " |    |-- Ambient: long (nullable = true)\n",
      " |    |-- America: long (nullable = true)\n",
      " |    |-- Animation & Modeling: long (nullable = true)\n",
      " |    |-- Anime: long (nullable = true)\n",
      " |    |-- Arcade: long (nullable = true)\n",
      " |    |-- Archery: long (nullable = true)\n",
      " |    |-- Arena Shooter: long (nullable = true)\n",
      " |    |-- Artificial Intelligence: long (nullable = true)\n",
      " |    |-- Assassin: long (nullable = true)\n",
      " |    |-- Asymmetric VR: long (nullable = true)\n",
      " |    |-- Asynchronous Multiplayer: long (nullable = true)\n",
      " |    |-- Atmospheric: long (nullable = true)\n",
      " |    |-- Audio Production: long (nullable = true)\n",
      " |    |-- Auto Battler: long (nullable = true)\n",
      " |    |-- Automation: long (nullable = true)\n",
      " |    |-- Automobile Sim: long (nullable = true)\n",
      " |    |-- BMX: long (nullable = true)\n",
      " |    |-- Base-Building: long (nullable = true)\n",
      " |    |-- Baseball: long (nullable = true)\n",
      " |    |-- Based On A Novel: long (nullable = true)\n",
      " |    |-- Basketball: long (nullable = true)\n",
      " |    |-- Battle Royale: long (nullable = true)\n",
      " |    |-- Beat 'em up: long (nullable = true)\n",
      " |    |-- Beautiful: long (nullable = true)\n",
      " |    |-- Benchmark: long (nullable = true)\n",
      " |    |-- Bikes: long (nullable = true)\n",
      " |    |-- Blood: long (nullable = true)\n",
      " |    |-- Board Game: long (nullable = true)\n",
      " |    |-- Boss Rush: long (nullable = true)\n",
      " |    |-- Bowling: long (nullable = true)\n",
      " |    |-- Boxing: long (nullable = true)\n",
      " |    |-- Building: long (nullable = true)\n",
      " |    |-- Bullet Hell: long (nullable = true)\n",
      " |    |-- Bullet Time: long (nullable = true)\n",
      " |    |-- CRPG: long (nullable = true)\n",
      " |    |-- Capitalism: long (nullable = true)\n",
      " |    |-- Card Battler: long (nullable = true)\n",
      " |    |-- Card Game: long (nullable = true)\n",
      " |    |-- Cartoon: long (nullable = true)\n",
      " |    |-- Cartoony: long (nullable = true)\n",
      " |    |-- Casual: long (nullable = true)\n",
      " |    |-- Cats: long (nullable = true)\n",
      " |    |-- Character Action Game: long (nullable = true)\n",
      " |    |-- Character Customization: long (nullable = true)\n",
      " |    |-- Chess: long (nullable = true)\n",
      " |    |-- Choices Matter: long (nullable = true)\n",
      " |    |-- Choose Your Own Adventure: long (nullable = true)\n",
      " |    |-- Cinematic: long (nullable = true)\n",
      " |    |-- City Builder: long (nullable = true)\n",
      " |    |-- Class-Based: long (nullable = true)\n",
      " |    |-- Classic: long (nullable = true)\n",
      " |    |-- Clicker: long (nullable = true)\n",
      " |    |-- Co-op: long (nullable = true)\n",
      " |    |-- Co-op Campaign: long (nullable = true)\n",
      " |    |-- Coding: long (nullable = true)\n",
      " |    |-- Cold War: long (nullable = true)\n",
      " |    |-- Collectathon: long (nullable = true)\n",
      " |    |-- Colony Sim: long (nullable = true)\n",
      " |    |-- Colorful: long (nullable = true)\n",
      " |    |-- Combat: long (nullable = true)\n",
      " |    |-- Combat Racing: long (nullable = true)\n",
      " |    |-- Comedy: long (nullable = true)\n",
      " |    |-- Comic Book: long (nullable = true)\n",
      " |    |-- Competitive: long (nullable = true)\n",
      " |    |-- Conspiracy: long (nullable = true)\n",
      " |    |-- Controller: long (nullable = true)\n",
      " |    |-- Conversation: long (nullable = true)\n",
      " |    |-- Cooking: long (nullable = true)\n",
      " |    |-- Cozy: long (nullable = true)\n",
      " |    |-- Crafting: long (nullable = true)\n",
      " |    |-- Creature Collector: long (nullable = true)\n",
      " |    |-- Cricket: long (nullable = true)\n",
      " |    |-- Crime: long (nullable = true)\n",
      " |    |-- Crowdfunded: long (nullable = true)\n",
      " |    |-- Cult Classic: long (nullable = true)\n",
      " |    |-- Cute: long (nullable = true)\n",
      " |    |-- Cyberpunk: long (nullable = true)\n",
      " |    |-- Cycling: long (nullable = true)\n",
      " |    |-- Dark: long (nullable = true)\n",
      " |    |-- Dark Comedy: long (nullable = true)\n",
      " |    |-- Dark Fantasy: long (nullable = true)\n",
      " |    |-- Dark Humor: long (nullable = true)\n",
      " |    |-- Dating Sim: long (nullable = true)\n",
      " |    |-- Deckbuilding: long (nullable = true)\n",
      " |    |-- Demons: long (nullable = true)\n",
      " |    |-- Design & Illustration: long (nullable = true)\n",
      " |    |-- Destruction: long (nullable = true)\n",
      " |    |-- Detective: long (nullable = true)\n",
      " |    |-- Difficult: long (nullable = true)\n",
      " |    |-- Dinosaurs: long (nullable = true)\n",
      " |    |-- Diplomacy: long (nullable = true)\n",
      " |    |-- Documentary: long (nullable = true)\n",
      " |    |-- Dog: long (nullable = true)\n",
      " |    |-- Dragons: long (nullable = true)\n",
      " |    |-- Drama: long (nullable = true)\n",
      " |    |-- Driving: long (nullable = true)\n",
      " |    |-- Dungeon Crawler: long (nullable = true)\n",
      " |    |-- Dungeons & Dragons: long (nullable = true)\n",
      " |    |-- Dynamic Narration: long (nullable = true)\n",
      " |    |-- Dystopian : long (nullable = true)\n",
      " |    |-- Early Access: long (nullable = true)\n",
      " |    |-- Economy: long (nullable = true)\n",
      " |    |-- Education: long (nullable = true)\n",
      " |    |-- Electronic: long (nullable = true)\n",
      " |    |-- Electronic Music: long (nullable = true)\n",
      " |    |-- Emotional: long (nullable = true)\n",
      " |    |-- Epic: long (nullable = true)\n",
      " |    |-- Episodic: long (nullable = true)\n",
      " |    |-- Escape Room: long (nullable = true)\n",
      " |    |-- Experience: long (nullable = true)\n",
      " |    |-- Experimental: long (nullable = true)\n",
      " |    |-- Exploration: long (nullable = true)\n",
      " |    |-- FMV: long (nullable = true)\n",
      " |    |-- FPS: long (nullable = true)\n",
      " |    |-- Faith: long (nullable = true)\n",
      " |    |-- Family Friendly: long (nullable = true)\n",
      " |    |-- Fantasy: long (nullable = true)\n",
      " |    |-- Farming: long (nullable = true)\n",
      " |    |-- Farming Sim: long (nullable = true)\n",
      " |    |-- Fast-Paced: long (nullable = true)\n",
      " |    |-- Feature Film: long (nullable = true)\n",
      " |    |-- Female Protagonist: long (nullable = true)\n",
      " |    |-- Fighting: long (nullable = true)\n",
      " |    |-- First-Person: long (nullable = true)\n",
      " |    |-- Fishing: long (nullable = true)\n",
      " |    |-- Flight: long (nullable = true)\n",
      " |    |-- Football: long (nullable = true)\n",
      " |    |-- Foreign: long (nullable = true)\n",
      " |    |-- Free to Play: long (nullable = true)\n",
      " |    |-- Funny: long (nullable = true)\n",
      " |    |-- Futuristic: long (nullable = true)\n",
      " |    |-- Gambling: long (nullable = true)\n",
      " |    |-- Game Development: long (nullable = true)\n",
      " |    |-- GameMaker: long (nullable = true)\n",
      " |    |-- Games Workshop: long (nullable = true)\n",
      " |    |-- Gaming: long (nullable = true)\n",
      " |    |-- God Game: long (nullable = true)\n",
      " |    |-- Golf: long (nullable = true)\n",
      " |    |-- Gore: long (nullable = true)\n",
      " |    |-- Gothic: long (nullable = true)\n",
      " |    |-- Grand Strategy: long (nullable = true)\n",
      " |    |-- Great Soundtrack: long (nullable = true)\n",
      " |    |-- Grid-Based Movement: long (nullable = true)\n",
      " |    |-- Gun Customization: long (nullable = true)\n",
      " |    |-- Hack and Slash: long (nullable = true)\n",
      " |    |-- Hacking: long (nullable = true)\n",
      " |    |-- Hand-drawn: long (nullable = true)\n",
      " |    |-- Hardware: long (nullable = true)\n",
      " |    |-- Heist: long (nullable = true)\n",
      " |    |-- Hentai: long (nullable = true)\n",
      " |    |-- Hero Shooter: long (nullable = true)\n",
      " |    |-- Hex Grid: long (nullable = true)\n",
      " |    |-- Hidden Object: long (nullable = true)\n",
      " |    |-- Historical: long (nullable = true)\n",
      " |    |-- Hockey: long (nullable = true)\n",
      " |    |-- Horror: long (nullable = true)\n",
      " |    |-- Horses: long (nullable = true)\n",
      " |    |-- Hunting: long (nullable = true)\n",
      " |    |-- Idler: long (nullable = true)\n",
      " |    |-- Illuminati: long (nullable = true)\n",
      " |    |-- Immersive: long (nullable = true)\n",
      " |    |-- Immersive Sim: long (nullable = true)\n",
      " |    |-- Indie: long (nullable = true)\n",
      " |    |-- Instrumental Music: long (nullable = true)\n",
      " |    |-- Intentionally Awkward Controls: long (nullable = true)\n",
      " |    |-- Interactive Fiction: long (nullable = true)\n",
      " |    |-- Inventory Management: long (nullable = true)\n",
      " |    |-- Investigation: long (nullable = true)\n",
      " |    |-- Isometric: long (nullable = true)\n",
      " |    |-- JRPG: long (nullable = true)\n",
      " |    |-- Jet: long (nullable = true)\n",
      " |    |-- Job Simulator: long (nullable = true)\n",
      " |    |-- Jump Scare: long (nullable = true)\n",
      " |    |-- Kickstarter: long (nullable = true)\n",
      " |    |-- LEGO: long (nullable = true)\n",
      " |    |-- LGBTQ+: long (nullable = true)\n",
      " |    |-- Lemmings: long (nullable = true)\n",
      " |    |-- Level Editor: long (nullable = true)\n",
      " |    |-- Life Sim: long (nullable = true)\n",
      " |    |-- Linear: long (nullable = true)\n",
      " |    |-- Local Co-Op: long (nullable = true)\n",
      " |    |-- Local Multiplayer: long (nullable = true)\n",
      " |    |-- Logic: long (nullable = true)\n",
      " |    |-- Loot: long (nullable = true)\n",
      " |    |-- Looter Shooter: long (nullable = true)\n",
      " |    |-- Lore-Rich: long (nullable = true)\n",
      " |    |-- Lovecraftian: long (nullable = true)\n",
      " |    |-- MMORPG: long (nullable = true)\n",
      " |    |-- MOBA: long (nullable = true)\n",
      " |    |-- Magic: long (nullable = true)\n",
      " |    |-- Mahjong: long (nullable = true)\n",
      " |    |-- Management: long (nullable = true)\n",
      " |    |-- Mars: long (nullable = true)\n",
      " |    |-- Martial Arts: long (nullable = true)\n",
      " |    |-- Massively Multiplayer: long (nullable = true)\n",
      " |    |-- Masterpiece: long (nullable = true)\n",
      " |    |-- Match 3: long (nullable = true)\n",
      " |    |-- Mature: long (nullable = true)\n",
      " |    |-- Mechs: long (nullable = true)\n",
      " |    |-- Medical Sim: long (nullable = true)\n",
      " |    |-- Medieval: long (nullable = true)\n",
      " |    |-- Memes: long (nullable = true)\n",
      " |    |-- Metroidvania: long (nullable = true)\n",
      " |    |-- Military: long (nullable = true)\n",
      " |    |-- Mini Golf: long (nullable = true)\n",
      " |    |-- Minigames: long (nullable = true)\n",
      " |    |-- Minimalist: long (nullable = true)\n",
      " |    |-- Mining: long (nullable = true)\n",
      " |    |-- Mod: long (nullable = true)\n",
      " |    |-- Moddable: long (nullable = true)\n",
      " |    |-- Modern: long (nullable = true)\n",
      " |    |-- Motocross: long (nullable = true)\n",
      " |    |-- Motorbike: long (nullable = true)\n",
      " |    |-- Mouse only: long (nullable = true)\n",
      " |    |-- Movie: long (nullable = true)\n",
      " |    |-- Multiplayer: long (nullable = true)\n",
      " |    |-- Multiple Endings: long (nullable = true)\n",
      " |    |-- Music: long (nullable = true)\n",
      " |    |-- Music-Based Procedural Generation: long (nullable = true)\n",
      " |    |-- Musou: long (nullable = true)\n",
      " |    |-- Mystery: long (nullable = true)\n",
      " |    |-- Mystery Dungeon: long (nullable = true)\n",
      " |    |-- Mythology: long (nullable = true)\n",
      " |    |-- NSFW: long (nullable = true)\n",
      " |    |-- Narration: long (nullable = true)\n",
      " |    |-- Narrative: long (nullable = true)\n",
      " |    |-- Nature: long (nullable = true)\n",
      " |    |-- Naval: long (nullable = true)\n",
      " |    |-- Naval Combat: long (nullable = true)\n",
      " |    |-- Ninja: long (nullable = true)\n",
      " |    |-- Noir: long (nullable = true)\n",
      " |    |-- Nonlinear: long (nullable = true)\n",
      " |    |-- Nostalgia: long (nullable = true)\n",
      " |    |-- Nudity: long (nullable = true)\n",
      " |    |-- Offroad: long (nullable = true)\n",
      " |    |-- Old School: long (nullable = true)\n",
      " |    |-- On-Rails Shooter: long (nullable = true)\n",
      " |    |-- Online Co-Op: long (nullable = true)\n",
      " |    |-- Open World: long (nullable = true)\n",
      " |    |-- Open World Survival Craft: long (nullable = true)\n",
      " |    |-- Otome: long (nullable = true)\n",
      " |    |-- Outbreak Sim: long (nullable = true)\n",
      " |    |-- Parkour: long (nullable = true)\n",
      " |    |-- Parody : long (nullable = true)\n",
      " |    |-- Party: long (nullable = true)\n",
      " |    |-- Party Game: long (nullable = true)\n",
      " |    |-- Party-Based RPG: long (nullable = true)\n",
      " |    |-- Perma Death: long (nullable = true)\n",
      " |    |-- Philosophical: long (nullable = true)\n",
      " |    |-- Photo Editing: long (nullable = true)\n",
      " |    |-- Physics: long (nullable = true)\n",
      " |    |-- Pinball: long (nullable = true)\n",
      " |    |-- Pirates: long (nullable = true)\n",
      " |    |-- Pixel Graphics: long (nullable = true)\n",
      " |    |-- Platformer: long (nullable = true)\n",
      " |    |-- Point & Click: long (nullable = true)\n",
      " |    |-- Political: long (nullable = true)\n",
      " |    |-- Political Sim: long (nullable = true)\n",
      " |    |-- Politics: long (nullable = true)\n",
      " |    |-- Pool: long (nullable = true)\n",
      " |    |-- Post-apocalyptic: long (nullable = true)\n",
      " |    |-- Precision Platformer: long (nullable = true)\n",
      " |    |-- Procedural Generation: long (nullable = true)\n",
      " |    |-- Programming: long (nullable = true)\n",
      " |    |-- Psychedelic: long (nullable = true)\n",
      " |    |-- Psychological: long (nullable = true)\n",
      " |    |-- Psychological Horror: long (nullable = true)\n",
      " |    |-- Puzzle: long (nullable = true)\n",
      " |    |-- Puzzle-Platformer: long (nullable = true)\n",
      " |    |-- PvE: long (nullable = true)\n",
      " |    |-- PvP: long (nullable = true)\n",
      " |    |-- Quick-Time Events: long (nullable = true)\n",
      " |    |-- RPG: long (nullable = true)\n",
      " |    |-- RPGMaker: long (nullable = true)\n",
      " |    |-- RTS: long (nullable = true)\n",
      " |    |-- Racing: long (nullable = true)\n",
      " |    |-- Real Time Tactics: long (nullable = true)\n",
      " |    |-- Real-Time: long (nullable = true)\n",
      " |    |-- Real-Time with Pause: long (nullable = true)\n",
      " |    |-- Realistic: long (nullable = true)\n",
      " |    |-- Reboot: long (nullable = true)\n",
      " |    |-- Relaxing: long (nullable = true)\n",
      " |    |-- Remake: long (nullable = true)\n",
      " |    |-- Replay Value: long (nullable = true)\n",
      " |    |-- Resource Management: long (nullable = true)\n",
      " |    |-- Retro: long (nullable = true)\n",
      " |    |-- Rhythm: long (nullable = true)\n",
      " |    |-- Robots: long (nullable = true)\n",
      " |    |-- Rock Music: long (nullable = true)\n",
      " |    |-- Rogue-like: long (nullable = true)\n",
      " |    |-- Rogue-lite: long (nullable = true)\n",
      " |    |-- Roguelike Deckbuilder: long (nullable = true)\n",
      " |    |-- Roguevania: long (nullable = true)\n",
      " |    |-- Romance: long (nullable = true)\n",
      " |    |-- Rome: long (nullable = true)\n",
      " |    |-- Rugby: long (nullable = true)\n",
      " |    |-- Runner: long (nullable = true)\n",
      " |    |-- Sailing: long (nullable = true)\n",
      " |    |-- Sandbox: long (nullable = true)\n",
      " |    |-- Satire: long (nullable = true)\n",
      " |    |-- Sci-fi: long (nullable = true)\n",
      " |    |-- Science: long (nullable = true)\n",
      " |    |-- Score Attack: long (nullable = true)\n",
      " |    |-- Sequel: long (nullable = true)\n",
      " |    |-- Sexual Content: long (nullable = true)\n",
      " |    |-- Shoot 'Em Up: long (nullable = true)\n",
      " |    |-- Shooter: long (nullable = true)\n",
      " |    |-- Shop Keeper: long (nullable = true)\n",
      " |    |-- Short: long (nullable = true)\n",
      " |    |-- Side Scroller: long (nullable = true)\n",
      " |    |-- Silent Protagonist: long (nullable = true)\n",
      " |    |-- Simulation: long (nullable = true)\n",
      " |    |-- Singleplayer: long (nullable = true)\n",
      " |    |-- Skateboarding: long (nullable = true)\n",
      " |    |-- Skating: long (nullable = true)\n",
      " |    |-- Skiing: long (nullable = true)\n",
      " |    |-- Sniper: long (nullable = true)\n",
      " |    |-- Snooker: long (nullable = true)\n",
      " |    |-- Snow: long (nullable = true)\n",
      " |    |-- Snowboarding: long (nullable = true)\n",
      " |    |-- Soccer: long (nullable = true)\n",
      " |    |-- Social Deduction: long (nullable = true)\n",
      " |    |-- Software: long (nullable = true)\n",
      " |    |-- Software Training: long (nullable = true)\n",
      " |    |-- Sokoban: long (nullable = true)\n",
      " |    |-- Solitaire: long (nullable = true)\n",
      " |    |-- Souls-like: long (nullable = true)\n",
      " |    |-- Soundtrack: long (nullable = true)\n",
      " |    |-- Space: long (nullable = true)\n",
      " |    |-- Space Sim: long (nullable = true)\n",
      " |    |-- Spaceships: long (nullable = true)\n",
      " |    |-- Spectacle fighter: long (nullable = true)\n",
      " |    |-- Spelling: long (nullable = true)\n",
      " |    |-- Split Screen: long (nullable = true)\n",
      " |    |-- Sports: long (nullable = true)\n",
      " |    |-- Stealth: long (nullable = true)\n",
      " |    |-- Steam Machine: long (nullable = true)\n",
      " |    |-- Steampunk: long (nullable = true)\n",
      " |    |-- Story Rich: long (nullable = true)\n",
      " |    |-- Strategy: long (nullable = true)\n",
      " |    |-- Strategy RPG: long (nullable = true)\n",
      " |    |-- Stylized: long (nullable = true)\n",
      " |    |-- Submarine: long (nullable = true)\n",
      " |    |-- Superhero: long (nullable = true)\n",
      " |    |-- Supernatural: long (nullable = true)\n",
      " |    |-- Surreal: long (nullable = true)\n",
      " |    |-- Survival: long (nullable = true)\n",
      " |    |-- Survival Horror: long (nullable = true)\n",
      " |    |-- Swordplay: long (nullable = true)\n",
      " |    |-- Tabletop: long (nullable = true)\n",
      " |    |-- Tactical: long (nullable = true)\n",
      " |    |-- Tactical RPG: long (nullable = true)\n",
      " |    |-- Tanks: long (nullable = true)\n",
      " |    |-- Team-Based: long (nullable = true)\n",
      " |    |-- Tennis: long (nullable = true)\n",
      " |    |-- Text-Based: long (nullable = true)\n",
      " |    |-- Third Person: long (nullable = true)\n",
      " |    |-- Third-Person Shooter: long (nullable = true)\n",
      " |    |-- Thriller: long (nullable = true)\n",
      " |    |-- Tile-Matching: long (nullable = true)\n",
      " |    |-- Time Attack: long (nullable = true)\n",
      " |    |-- Time Management: long (nullable = true)\n",
      " |    |-- Time Manipulation: long (nullable = true)\n",
      " |    |-- Time Travel: long (nullable = true)\n",
      " |    |-- Top-Down: long (nullable = true)\n",
      " |    |-- Top-Down Shooter: long (nullable = true)\n",
      " |    |-- Touch-Friendly: long (nullable = true)\n",
      " |    |-- Tower Defense: long (nullable = true)\n",
      " |    |-- TrackIR: long (nullable = true)\n",
      " |    |-- Trading: long (nullable = true)\n",
      " |    |-- Trading Card Game: long (nullable = true)\n",
      " |    |-- Traditional Roguelike: long (nullable = true)\n",
      " |    |-- Trains: long (nullable = true)\n",
      " |    |-- Transhumanism: long (nullable = true)\n",
      " |    |-- Transportation: long (nullable = true)\n",
      " |    |-- Trivia: long (nullable = true)\n",
      " |    |-- Turn-Based: long (nullable = true)\n",
      " |    |-- Turn-Based Combat: long (nullable = true)\n",
      " |    |-- Turn-Based Strategy: long (nullable = true)\n",
      " |    |-- Turn-Based Tactics: long (nullable = true)\n",
      " |    |-- Tutorial: long (nullable = true)\n",
      " |    |-- Twin Stick Shooter: long (nullable = true)\n",
      " |    |-- Typing: long (nullable = true)\n",
      " |    |-- Underground: long (nullable = true)\n",
      " |    |-- Underwater: long (nullable = true)\n",
      " |    |-- Unforgiving: long (nullable = true)\n",
      " |    |-- Utilities: long (nullable = true)\n",
      " |    |-- VR: long (nullable = true)\n",
      " |    |-- VR Only: long (nullable = true)\n",
      " |    |-- Vampire: long (nullable = true)\n",
      " |    |-- Vehicular Combat: long (nullable = true)\n",
      " |    |-- Video Production: long (nullable = true)\n",
      " |    |-- Vikings: long (nullable = true)\n",
      " |    |-- Villain Protagonist: long (nullable = true)\n",
      " |    |-- Violent: long (nullable = true)\n",
      " |    |-- Visual Novel: long (nullable = true)\n",
      " |    |-- Voice Control: long (nullable = true)\n",
      " |    |-- Volleyball: long (nullable = true)\n",
      " |    |-- Voxel: long (nullable = true)\n",
      " |    |-- Walking Simulator: long (nullable = true)\n",
      " |    |-- War: long (nullable = true)\n",
      " |    |-- Wargame: long (nullable = true)\n",
      " |    |-- Warhammer 40K: long (nullable = true)\n",
      " |    |-- Web Publishing: long (nullable = true)\n",
      " |    |-- Well-Written: long (nullable = true)\n",
      " |    |-- Werewolves: long (nullable = true)\n",
      " |    |-- Western: long (nullable = true)\n",
      " |    |-- Wholesome: long (nullable = true)\n",
      " |    |-- Word Game: long (nullable = true)\n",
      " |    |-- World War I: long (nullable = true)\n",
      " |    |-- World War II: long (nullable = true)\n",
      " |    |-- Wrestling: long (nullable = true)\n",
      " |    |-- Zombies: long (nullable = true)\n",
      " |    |-- e-sports: long (nullable = true)\n",
      " |-- type: string (nullable = true)\n",
      " |-- website: string (nullable = true)\n",
      "\n"
     ]
    }
   ],
   "source": [
    "## extract the 'data' fields as a dataframe\n",
    "df = raw_df.select('data.*').alias('*')\n",
    "df.printSchema(2)"
   ]
  },
  {
   "cell_type": "code",
   "execution_count": 5,
   "metadata": {},
   "outputs": [
    {
     "name": "stdout",
     "output_type": "stream",
     "text": [
      "+------------+\n",
      "|required_age|\n",
      "+------------+\n",
      "|           0|\n",
      "|           0|\n",
      "|           0|\n",
      "|           0|\n",
      "|           0|\n",
      "+------------+\n",
      "only showing top 5 rows\n",
      "\n"
     ]
    }
   ],
   "source": [
    "## convert price to $\n",
    "df = df.withColumn('price', df['price'].cast('float') / 100) \\\n",
    "       .withColumn('initialprice', df['initialprice'].cast('float') / 100)\n",
    "\n",
    "## parse required_age as int\n",
    "df = df.withColumn(\n",
    "    'required_age',\n",
    "    F.regexp_extract(df['required_age'], r'\\d+', 0).cast('Integer')\n",
    ")\n",
    "df.select('required_age').show(5) # most games have no age requirement"
   ]
  },
  {
   "cell_type": "markdown",
   "metadata": {},
   "source": [
    "The owner ranges are specified on a logarithmic scale (each successive range increases in size by a factor $\\sim 2$). In order to preserve such scaling, we estimate the number of owners from the two bounds by taking their *geometric* mean. This is problematic for the lowest range (0 - 20000), which we estimate by $\\sqrt{20000} \\simeq 141$. We must keep in mind that this last value probably underestimates the actual number of owners."
   ]
  },
  {
   "cell_type": "code",
   "execution_count": 6,
   "metadata": {},
   "outputs": [
    {
     "name": "stdout",
     "output_type": "stream",
     "text": [
      "+----------+-----------+-------------------+\n",
      "|owners_low|owners_high|         owners_est|\n",
      "+----------+-----------+-------------------+\n",
      "|     1.0E7|      2.0E7|1.414213562373095E7|\n",
      "|       0.0|    20000.0|  141.4213562373095|\n",
      "|  200000.0|   500000.0|  316227.7660168379|\n",
      "|  100000.0|   200000.0| 141421.35623730952|\n",
      "|       0.0|    20000.0|  141.4213562373095|\n",
      "|  100000.0|   200000.0| 141421.35623730952|\n",
      "|       0.0|    20000.0|  141.4213562373095|\n",
      "|   20000.0|    50000.0| 31622.776601683792|\n",
      "|       0.0|    20000.0|  141.4213562373095|\n",
      "|       0.0|    20000.0|  141.4213562373095|\n",
      "|       0.0|    20000.0|  141.4213562373095|\n",
      "|  200000.0|   500000.0|  316227.7660168379|\n",
      "|       0.0|    20000.0|  141.4213562373095|\n",
      "|  100000.0|   200000.0| 141421.35623730952|\n",
      "|   20000.0|    50000.0| 31622.776601683792|\n",
      "|   20000.0|    50000.0| 31622.776601683792|\n",
      "|       0.0|    20000.0|  141.4213562373095|\n",
      "|  100000.0|   200000.0| 141421.35623730952|\n",
      "|   20000.0|    50000.0| 31622.776601683792|\n",
      "|   20000.0|    50000.0| 31622.776601683792|\n",
      "+----------+-----------+-------------------+\n",
      "only showing top 20 rows\n",
      "\n"
     ]
    }
   ],
   "source": [
    "owners_low = F.regexp_replace(F.split(df['owners'], ' .. ')[0], ',', '').cast('Double')\n",
    "owners_high = F.regexp_replace(F.split(df['owners'], ' .. ')[1], ',', '').cast('Double')\n",
    "owners_est = F.sqrt(F.when(owners_low==0, 1).otherwise(owners_low) * owners_high)\n",
    "df = df.withColumn('owners_low', owners_low) \\\n",
    "       .withColumn('owners_high', owners_high) \\\n",
    "       .withColumn('owners_est', owners_est)\n",
    "df.select('owners_low', 'owners_high', 'owners_est').show()"
   ]
  },
  {
   "cell_type": "markdown",
   "metadata": {},
   "source": [
    "### Construction of intermediate dataframes"
   ]
  },
  {
   "cell_type": "code",
   "execution_count": 7,
   "metadata": {},
   "outputs": [
    {
     "name": "stdout",
     "output_type": "stream",
     "text": [
      "+-------+------------------------------------+--------------------+--------------------+--------------------+----+--------+--------+-----+------------+--------+-----+------------+------------+----------+-----------+-------------------+\n",
      "|  appid|                                name|           developer|           publisher|               genre|type|positive|negative|price|initialprice|discount|  ccu|release_date|required_age|owners_low|owners_high|         owners_est|\n",
      "+-------+------------------------------------+--------------------+--------------------+--------------------+----+--------+--------+-----+------------+--------+-----+------------+------------+----------+-----------+-------------------+\n",
      "|     10|                      Counter-Strike|               Valve|               Valve|              Action|game|  201215|    5199| 9.99|        9.99|       0|13990|  2000-11-01|           0|     1.0E7|      2.0E7|1.414213562373095E7|\n",
      "|1000000|                           ASCENXION|IndigoBlue Game S...|PsychoFlux Entert...|Action, Adventure...|game|      27|       5| 9.99|        9.99|       0|    0|  2021-05-14|           0|       0.0|    20000.0|  141.4213562373095|\n",
      "|1000010|                         Crown Trick|        NEXT Studios|Team17, NEXT Studios|Adventure, Indie,...|game|    4032|     646| 5.99|       19.99|      70|   99|  2020-10-16|           0|  200000.0|   500000.0|  316227.7660168379|\n",
      "|1000030|                Cook, Serve, Deli...| Vertigo Gaming Inc.| Vertigo Gaming Inc.|Action, Indie, Si...|game|    1575|     115|19.99|       19.99|       0|   76|  2020-10-14|           0|  100000.0|   200000.0| 141421.35623730952|\n",
      "|1000040|                            细胞战争|       DoubleC Games|       DoubleC Games|Action, Casual, I...|game|       0|       1| 1.99|        1.99|       0|    0|  2019-03-30|           0|       0.0|    20000.0|  141.4213562373095|\n",
      "|1000080|                             Zengeon|  IndieLeague Studio|            2P Games|Action, Adventure...|game|    1018|     462| 7.99|       19.99|      60|    3|  2019-06-24|           0|  100000.0|   200000.0| 141421.35623730952|\n",
      "|1000100|干支セトラ　陽ノ卷｜干支etc.　陽之卷|            七月九日|     Starship Studio|Adventure, Indie,...|game|      18|       6|12.99|       12.99|       0|    0|  2019-01-24|           0|       0.0|    20000.0|  141.4213562373095|\n",
      "|1000110|            Jumping Master(跳跳大咖)|  重庆环游者网络科技|  重庆环游者网络科技|Action, Adventure...|game|      50|      34|  0.0|         0.0|       0|    0|  2019-04-08|           0|   20000.0|    50000.0| 31622.776601683792|\n",
      "|1000130|                       Cube Defender|    Simon Codrington|    Simon Codrington|       Casual, Indie|game|       6|       0| 2.99|        2.99|       0|    0|  2019-01-06|           0|       0.0|    20000.0|  141.4213562373095|\n",
      "|1000280|                Tower of Origin2-...|        Villain Role|        Villain Role|          Indie, RPG|game|      32|      12|13.99|       13.99|       0|    0|  2021-09-09|           0|       0.0|    20000.0|  141.4213562373095|\n",
      "+-------+------------------------------------+--------------------+--------------------+--------------------+----+--------+--------+-----+------------+--------+-----+------------+------------+----------+-----------+-------------------+\n",
      "only showing top 10 rows\n",
      "\n"
     ]
    }
   ],
   "source": [
    "## main dataframe\n",
    "main_cols = [\n",
    "    'appid', 'name', 'developer', 'publisher', 'genre', 'type',\n",
    "    'positive', 'negative', 'price', 'initialprice', 'discount', 'ccu',\n",
    "    'release_date', 'required_age', 'owners_low', 'owners_high', 'owners_est'\n",
    "]\n",
    "main_df = df.select(*main_cols)\n",
    "\n",
    "main_df.show(10)"
   ]
  },
  {
   "cell_type": "code",
   "execution_count": 8,
   "metadata": {},
   "outputs": [
    {
     "name": "stdout",
     "output_type": "stream",
     "text": [
      "+-------+------------+\n",
      "|  appid|release_date|\n",
      "+-------+------------+\n",
      "|     10|  2000-11-01|\n",
      "|1000000|  2021-05-14|\n",
      "|1000010|  2020-10-16|\n",
      "|1000030|  2020-10-14|\n",
      "|1000040|  2019-03-30|\n",
      "|1000080|  2019-06-24|\n",
      "|1000100|  2019-01-24|\n",
      "|1000110|  2019-04-08|\n",
      "|1000130|  2019-01-06|\n",
      "|1000280|  2021-09-09|\n",
      "+-------+------------+\n",
      "only showing top 10 rows\n",
      "\n"
     ]
    }
   ],
   "source": [
    "## release dates dataframe\n",
    "release_dates_df = df.select('appid', 'release_date')\n",
    "\n",
    "release_dates_df.show(10)"
   ]
  },
  {
   "cell_type": "code",
   "execution_count": 9,
   "metadata": {},
   "outputs": [
    {
     "name": "stdout",
     "output_type": "stream",
     "text": [
      "+-------+-----+------+----+---+----------+-------------+---------+---+----------+-------------+---------+--------------+---+----+-----------+---+--------+------+----------+----------+----------------+----------------+---------+---------+-----------+------+-----------------+-------+-------+--------------------+-----+------+-------+-------------+-----------------------+--------+-------------+------------------------+-----------+----------------+------------+----------+--------------+---+-------------+--------+----------------+----------+-------------+-----------+---------+---------+-----+-----+----------+---------+-------+------+--------+-----------+-----------+----+----------+------------+---------+-------+--------+------+----+---------------------+-----------------------+-----+--------------+-------------------------+---------+------------+-----------+-------+-------+-----+--------------+------+--------+------------+----------+--------+------+-------------+------+----------+-----------+----------+----------+------------+-------+----+--------+------------------+-------+-----+-----------+------------+----+---------+-------+----+-----------+------------+----------+----------+------------+------+---------------------+-----------+---------+---------+---------+---------+-----------+---+-------+-----+-------+---------------+------------------+-----------------+----------+------------+-------+---------+----------+----------------+---------+----+--------+-----------+----------+------------+-----------+---+----+-----+---------------+-------+-------+-----------+----------+------------+------------------+--------+------------+-------+------+--------+-------+------------+-----+----------+--------+----------------+---------+--------------+------+--------+----+----+------+--------------+----------------+-------------------+-----------------+--------------+-------+----------+--------+-----+------+------------+--------+-------------+----------+------+------+------+-------+-----+----------+---------+-------------+-----+------------------+------------------------------+-------------------+--------------------+-------------+---------+----+---+-------------+----------+-----------+----+------+--------+------------+--------+------+-----------+-----------------+-----+----+--------------+---------+------------+------+----+-----+-------+----------+----+------------+---------------------+-----------+-------+------+-----+-----------+--------+-----+------------+--------+---------+---------+----------+------+---+--------+------+---------+---------+----------+-----+-----------+----------------+-----+---------------------------------+-----+-------+---------------+---------+----+---------+---------+------+-----+------------+-----+----+---------+---------+------+-------+----------+----------------+------------+----------+-------------------------+-----+------------+-------+-------+-----+----------+---------------+-----------+-------------+-------------+-------+-------+-------+--------------+----------+-------------+---------+-------------+--------+----+----------------+--------------------+---------------------+-----------+-----------+-------------+--------------------+------+-----------------+---+---+-----------------+---+--------+---+------+-----------------+---------+--------------------+---------+------+--------+------+------------+-------------------+-----+------+------+----------+----------+----------+---------------------+----------+-------+----+-----+------+-------+-------+------+------+-------+------------+------+--------------+------------+-------+-----------+-----+-------------+------------------+----------+------------+-------------+-------+------+------+-------+----+------------+------+----------------+--------+-----------------+-------+---------+----------+----------+-----+---------+----------+-----------------+--------+------------+------+-------+-------------+---------+----------+--------+------------+--------+---------+---------+------------+-------+--------+---------------+---------+--------+--------+------------+-----+----------+------+----------+------------+--------------------+--------+-------------+-----------+---------------+-----------------+-----------+--------+----------------+--------------+-------------+-------+-------+-----------------+---------------------+------+-------------+--------------+------+----------+-----------------+-------------------+------------------+--------+------------------+------+-----------+----------+-----------+---------+---+-------+-------+----------------+----------------+-------+-------------------+-------+------------+-------------+----------+-----+-----------------+---+-------+-------------+--------------+------------+----------+-------+---------+---------+-----------+------------+---------+-------+--------+\n",
      "|  appid|1980s|1990's|2.5D| 2D|2D Fighter|2D Platformer|360 Video| 3D|3D Fighter|3D Platformer|3D Vision|4 Player Local| 4X|6DOF|8-bit Music|ATV|Abstract|Action|Action RPG|Action RTS|Action Roguelike|Action-Adventure|Addictive|Adventure|Agriculture|Aliens|Alternate History|Ambient|America|Animation & Modeling|Anime|Arcade|Archery|Arena Shooter|Artificial Intelligence|Assassin|Asymmetric VR|Asynchronous Multiplayer|Atmospheric|Audio Production|Auto Battler|Automation|Automobile Sim|BMX|Base-Building|Baseball|Based On A Novel|Basketball|Battle Royale|Beat 'em up|Beautiful|Benchmark|Bikes|Blood|Board Game|Boss Rush|Bowling|Boxing|Building|Bullet Hell|Bullet Time|CRPG|Capitalism|Card Battler|Card Game|Cartoon|Cartoony|Casual|Cats|Character Action Game|Character Customization|Chess|Choices Matter|Choose Your Own Adventure|Cinematic|City Builder|Class-Based|Classic|Clicker|Co-op|Co-op Campaign|Coding|Cold War|Collectathon|Colony Sim|Colorful|Combat|Combat Racing|Comedy|Comic Book|Competitive|Conspiracy|Controller|Conversation|Cooking|Cozy|Crafting|Creature Collector|Cricket|Crime|Crowdfunded|Cult Classic|Cute|Cyberpunk|Cycling|Dark|Dark Comedy|Dark Fantasy|Dark Humor|Dating Sim|Deckbuilding|Demons|Design & Illustration|Destruction|Detective|Difficult|Dinosaurs|Diplomacy|Documentary|Dog|Dragons|Drama|Driving|Dungeon Crawler|Dungeons & Dragons|Dynamic Narration|Dystopian |Early Access|Economy|Education|Electronic|Electronic Music|Emotional|Epic|Episodic|Escape Room|Experience|Experimental|Exploration|FMV| FPS|Faith|Family Friendly|Fantasy|Farming|Farming Sim|Fast-Paced|Feature Film|Female Protagonist|Fighting|First-Person|Fishing|Flight|Football|Foreign|Free to Play|Funny|Futuristic|Gambling|Game Development|GameMaker|Games Workshop|Gaming|God Game|Golf|Gore|Gothic|Grand Strategy|Great Soundtrack|Grid-Based Movement|Gun Customization|Hack and Slash|Hacking|Hand-drawn|Hardware|Heist|Hentai|Hero Shooter|Hex Grid|Hidden Object|Historical|Hockey|Horror|Horses|Hunting|Idler|Illuminati|Immersive|Immersive Sim|Indie|Instrumental Music|Intentionally Awkward Controls|Interactive Fiction|Inventory Management|Investigation|Isometric|JRPG|Jet|Job Simulator|Jump Scare|Kickstarter|LEGO|LGBTQ+|Lemmings|Level Editor|Life Sim|Linear|Local Co-Op|Local Multiplayer|Logic|Loot|Looter Shooter|Lore-Rich|Lovecraftian|MMORPG|MOBA|Magic|Mahjong|Management|Mars|Martial Arts|Massively Multiplayer|Masterpiece|Match 3|Mature|Mechs|Medical Sim|Medieval|Memes|Metroidvania|Military|Mini Golf|Minigames|Minimalist|Mining|Mod|Moddable|Modern|Motocross|Motorbike|Mouse only|Movie|Multiplayer|Multiple Endings|Music|Music-Based Procedural Generation|Musou|Mystery|Mystery Dungeon|Mythology|NSFW|Narration|Narrative|Nature|Naval|Naval Combat|Ninja|Noir|Nonlinear|Nostalgia|Nudity|Offroad|Old School|On-Rails Shooter|Online Co-Op|Open World|Open World Survival Craft|Otome|Outbreak Sim|Parkour|Parody |Party|Party Game|Party-Based RPG|Perma Death|Philosophical|Photo Editing|Physics|Pinball|Pirates|Pixel Graphics|Platformer|Point & Click|Political|Political Sim|Politics|Pool|Post-apocalyptic|Precision Platformer|Procedural Generation|Programming|Psychedelic|Psychological|Psychological Horror|Puzzle|Puzzle-Platformer|PvE|PvP|Quick-Time Events|RPG|RPGMaker|RTS|Racing|Real Time Tactics|Real-Time|Real-Time with Pause|Realistic|Reboot|Relaxing|Remake|Replay Value|Resource Management|Retro|Rhythm|Robots|Rock Music|Rogue-like|Rogue-lite|Roguelike Deckbuilder|Roguevania|Romance|Rome|Rugby|Runner|Sailing|Sandbox|Satire|Sci-fi|Science|Score Attack|Sequel|Sexual Content|Shoot 'Em Up|Shooter|Shop Keeper|Short|Side Scroller|Silent Protagonist|Simulation|Singleplayer|Skateboarding|Skating|Skiing|Sniper|Snooker|Snow|Snowboarding|Soccer|Social Deduction|Software|Software Training|Sokoban|Solitaire|Souls-like|Soundtrack|Space|Space Sim|Spaceships|Spectacle fighter|Spelling|Split Screen|Sports|Stealth|Steam Machine|Steampunk|Story Rich|Strategy|Strategy RPG|Stylized|Submarine|Superhero|Supernatural|Surreal|Survival|Survival Horror|Swordplay|Tabletop|Tactical|Tactical RPG|Tanks|Team-Based|Tennis|Text-Based|Third Person|Third-Person Shooter|Thriller|Tile-Matching|Time Attack|Time Management|Time Manipulation|Time Travel|Top-Down|Top-Down Shooter|Touch-Friendly|Tower Defense|TrackIR|Trading|Trading Card Game|Traditional Roguelike|Trains|Transhumanism|Transportation|Trivia|Turn-Based|Turn-Based Combat|Turn-Based Strategy|Turn-Based Tactics|Tutorial|Twin Stick Shooter|Typing|Underground|Underwater|Unforgiving|Utilities| VR|VR Only|Vampire|Vehicular Combat|Video Production|Vikings|Villain Protagonist|Violent|Visual Novel|Voice Control|Volleyball|Voxel|Walking Simulator|War|Wargame|Warhammer 40K|Web Publishing|Well-Written|Werewolves|Western|Wholesome|Word Game|World War I|World War II|Wrestling|Zombies|e-sports|\n",
      "+-------+-----+------+----+---+----------+-------------+---------+---+----------+-------------+---------+--------------+---+----+-----------+---+--------+------+----------+----------+----------------+----------------+---------+---------+-----------+------+-----------------+-------+-------+--------------------+-----+------+-------+-------------+-----------------------+--------+-------------+------------------------+-----------+----------------+------------+----------+--------------+---+-------------+--------+----------------+----------+-------------+-----------+---------+---------+-----+-----+----------+---------+-------+------+--------+-----------+-----------+----+----------+------------+---------+-------+--------+------+----+---------------------+-----------------------+-----+--------------+-------------------------+---------+------------+-----------+-------+-------+-----+--------------+------+--------+------------+----------+--------+------+-------------+------+----------+-----------+----------+----------+------------+-------+----+--------+------------------+-------+-----+-----------+------------+----+---------+-------+----+-----------+------------+----------+----------+------------+------+---------------------+-----------+---------+---------+---------+---------+-----------+---+-------+-----+-------+---------------+------------------+-----------------+----------+------------+-------+---------+----------+----------------+---------+----+--------+-----------+----------+------------+-----------+---+----+-----+---------------+-------+-------+-----------+----------+------------+------------------+--------+------------+-------+------+--------+-------+------------+-----+----------+--------+----------------+---------+--------------+------+--------+----+----+------+--------------+----------------+-------------------+-----------------+--------------+-------+----------+--------+-----+------+------------+--------+-------------+----------+------+------+------+-------+-----+----------+---------+-------------+-----+------------------+------------------------------+-------------------+--------------------+-------------+---------+----+---+-------------+----------+-----------+----+------+--------+------------+--------+------+-----------+-----------------+-----+----+--------------+---------+------------+------+----+-----+-------+----------+----+------------+---------------------+-----------+-------+------+-----+-----------+--------+-----+------------+--------+---------+---------+----------+------+---+--------+------+---------+---------+----------+-----+-----------+----------------+-----+---------------------------------+-----+-------+---------------+---------+----+---------+---------+------+-----+------------+-----+----+---------+---------+------+-------+----------+----------------+------------+----------+-------------------------+-----+------------+-------+-------+-----+----------+---------------+-----------+-------------+-------------+-------+-------+-------+--------------+----------+-------------+---------+-------------+--------+----+----------------+--------------------+---------------------+-----------+-----------+-------------+--------------------+------+-----------------+---+---+-----------------+---+--------+---+------+-----------------+---------+--------------------+---------+------+--------+------+------------+-------------------+-----+------+------+----------+----------+----------+---------------------+----------+-------+----+-----+------+-------+-------+------+------+-------+------------+------+--------------+------------+-------+-----------+-----+-------------+------------------+----------+------------+-------------+-------+------+------+-------+----+------------+------+----------------+--------+-----------------+-------+---------+----------+----------+-----+---------+----------+-----------------+--------+------------+------+-------+-------------+---------+----------+--------+------------+--------+---------+---------+------------+-------+--------+---------------+---------+--------+--------+------------+-----+----------+------+----------+------------+--------------------+--------+-------------+-----------+---------------+-----------------+-----------+--------+----------------+--------------+-------------+-------+-------+-----------------+---------------------+------+-------------+--------------+------+----------+-----------------+-------------------+------------------+--------+------------------+------+-----------+----------+-----------+---------+---+-------+-------+----------------+----------------+-------+-------------------+-------+------------+-------------+----------+-----+-----------------+---+-------+-------------+--------------+------------+----------+-------+---------+---------+-----------+------------+---------+-------+--------+\n",
      "|     10|  266|  1191|   0|  0|         0|            0|        0|  0|         0|            0|        0|             0|  0|   0|          0|  0|       0|  5426|         0|         0|               0|               0|        0|        0|          0|     0|                0|      0|      0|                   0|    0|     0|      0|            0|                      0|     227|            0|                       0|          0|               0|           0|         0|             0|  0|            0|       0|               0|         0|            0|          0|        0|        0|    0|    0|         0|        0|      0|     0|       0|          0|          0|   0|         0|           0|        0|      0|       0|     0|   0|                    0|                      0|    0|             0|                        0|        0|           0|          0|   2784|      0|    0|             0|     0|       0|           0|         0|       0|     0|            0|     0|         0|       1607|         0|         0|           0|      0|   0|       0|                 0|      0|    0|          0|           0|   0|        0|      0|   0|          0|           0|         0|         0|           0|     0|                    0|          0|        0|        0|        0|        0|          0|  0|      0|    0|      0|              0|                 0|                0|         0|           0|      0|        0|         0|               0|        0|   0|       0|          0|         0|           0|          0|  0|4831|    0|              0|      0|      0|          0|         0|           0|                 0|       0|        1707|      0|     0|       0|      0|           0|    0|         0|       0|               0|        0|             0|     0|       0|   0|   0|     0|             0|               0|                  0|                0|             0|      0|         0|       0|    0|     0|           0|       0|            0|         0|     0|     0|     0|      0|    0|         0|        0|            0|    0|                 0|                             0|                  0|                   0|            0|        0|   0|  0|            0|         0|          0|   0|     0|       0|           0|       0|     0|          0|                0|    0|   0|             0|        0|           0|     0|   0|    0|      0|         0|   0|           0|                    0|          0|      0|     0|    0|          0|       0|    0|           0|     632|        0|        0|         0|     0|  0|       0|     0|        0|        0|         0|    0|       3392|               0|    0|                                0|    0|      0|              0|        0|   0|        0|        0|     0|    0|           0|    0|   0|        0|      131|     0|      0|       769|               0|           0|         0|                        0|    0|           0|      0|      0|    0|         0|              0|          0|            0|            0|      0|      0|      0|             0|         0|            0|        0|            0|       0|   0|               0|                   0|                    0|          0|          0|            0|                   0|     0|                0|  0|881|                0|  0|       0|  0|     0|                0|        0|                   0|        0|     0|       0|     0|           0|                  0|    0|     0|     0|         0|         0|         0|                    0|         0|      0|   0|    0|     0|      0|      0|     0|     0|      0|         289|     0|             0|           0|   3353|          0|    0|            0|                 0|         0|           0|            0|      0|     0|     0|      0|   0|           0|     0|               0|       0|                0|      0|        0|         0|         0|    0|        0|         0|                0|       0|           0|     0|      0|            0|        0|         0|     614|           0|       0|        0|        0|           0|      0|     304|              0|        0|       0|    1344|           0|    0|      1864|     0|         0|           0|                   0|       0|            0|          0|              0|                0|          0|       0|               0|             0|            0|      0|      0|                0|                    0|     0|            0|             0|     0|         0|                0|                  0|                 0|       0|                 0|     0|          0|         0|          0|        0|  0|      0|      0|               0|               0|      0|                  0|      0|           0|            0|         0|    0|                0|  0|      0|            0|             0|           0|         0|      0|        0|        0|          0|           0|        0|      0|    1192|\n",
      "|1000000|    0|     0|   0|159|         0|            0|        0|  0|         0|            0|        0|             0|  0|   0|          0|  0|     111|   138|         0|         0|               0|               0|        0|       73|          0|     0|                0|      0|      0|                   0|    0|     0|      0|            0|                      0|       0|            0|                       0|         88|               0|           0|         0|             0|  0|            0|       0|               0|         0|            0|          0|        0|        0|    0|    0|         0|        0|      0|     0|       0|        179|          0|   0|         0|           0|        0|      0|       0|     0|   0|                    0|                      0|    0|             0|                        0|        0|           0|          0|      0|      0|    0|             0|     0|       0|           0|         0|     124|     0|            0|     0|         0|          0|         0|       148|           0|      0|   0|       0|                 0|      0|    0|          0|           0|   0|        0|      0|   0|          0|           0|         0|         0|           0|     0|                    0|          0|        0|      161|        0|        0|          0|  0|      0|    0|      0|              0|                 0|                0|         0|           0|      0|        0|         0|               0|        0|   0|       0|          0|         0|           0|          0|  0|   0|    0|              0|      0|      0|          0|         0|           0|                 0|       0|           0|      0|     0|       0|      0|           0|    0|         0|       0|               0|       51|             0|     0|       0|   0|   0|     0|             0|              38|                  0|                0|             0|      0|         0|       0|    0|     0|           0|       0|            0|         0|     0|     0|     0|      0|    0|         0|        0|            0|   69|                 0|                             0|                  0|                   0|            0|        0|   0|  0|            0|         0|          0|   0|     0|       0|           0|       0|     0|          0|                0|    0|   0|             0|        0|           0|     0|   0|    0|      0|         0|   0|           0|                    0|          0|      0|     0|    0|          0|       0|    0|         181|       0|        0|        0|       136|     0|  0|       0|     0|        0|        0|         0|    0|          0|               0|    0|                                0|    0|      0|              0|        0|   0|        0|        0|     0|    0|           0|    0|   0|        0|        0|     0|      0|         0|               0|           0|         0|                        0|    0|           0|      0|      0|    0|         0|              0|          0|            0|            0|      0|      0|      0|             0|         0|            0|        0|            0|       0|   0|               0|                   0|                    0|          0|          0|            0|                   0|     0|                0|  0|  0|                0|  0|       0|  0|     0|                0|        0|                   0|        0|     0|       0|     0|           0|                  0|    0|     0|   100|         0|         0|         0|                    0|         0|      0|   0|    0|     0|      0|      0|     0|     0|      0|           0|     0|             0|         186|    159|          0|    0|          175|                 0|         0|          71|            0|      0|     0|     0|      0|   0|           0|     0|               0|       0|                0|      0|        0|         0|         0|    0|        0|         0|                0|       0|           0|     0|      0|            0|        0|         0|       0|           0|       0|        0|        0|           0|      0|       0|              0|        0|       0|       0|           0|    0|         0|     0|         0|           0|                   0|       0|            0|          0|              0|                0|          0|       0|               0|             0|            0|      0|      0|                0|                    0|     0|            0|             0|     0|         0|                0|                  0|                 0|       0|               170|     0|          0|         0|          0|        0|  0|      0|      0|               0|               0|      0|                  0|      0|           0|            0|         0|    0|                0|  0|      0|            0|             0|           0|         0|      0|        0|        0|          0|           0|        0|      0|       0|\n",
      "|1000010|    0|     0|   0|205|         0|            0|        0|  0|         0|            0|        0|             0|  0|   0|          0|  0|       0|     0|         0|         0|               0|             179|        0|      225|          0|     0|                0|      0|      0|                   0|    0|     0|      0|            0|                      0|       0|            0|                       0|          0|               0|           0|         0|             0|  0|            0|       0|               0|         0|            0|          0|        0|        0|    0|    0|         0|        0|      0|     0|       0|          0|          0|   0|         0|           0|        0|      0|       0|     0|   0|                    0|                      0|    0|             0|                        0|        0|           0|          0|      0|      0|    0|             0|     0|       0|           0|         0|       0|     0|            0|     0|         0|          0|         0|         0|           0|      0|   0|       0|                 0|      0|    0|          0|           0|   0|        0|      0|   0|          0|           0|         0|         0|           0|     0|                    0|          0|        0|      189|        0|        0|          0|  0|      0|    0|      0|            225|                 0|                0|         0|           0|      0|        0|         0|               0|        0|   0|       0|          0|         0|           0|          0|  0|   0|    0|              0|    179|      0|          0|         0|           0|               217|       0|           0|      0|     0|       0|      0|           0|    0|         0|       0|               0|        0|             0|     0|       0|   0|   0|     0|             0|               0|                  0|                0|             0|      0|         0|       0|    0|     0|           0|       0|            0|         0|     0|     0|     0|      0|    0|         0|        0|            0|    0|                 0|                             0|                  0|                   0|            0|        0|   0|  0|            0|         0|          0|   0|     0|       0|           0|       0|     0|          0|                0|    0|   0|             0|        0|           0|     0|   0|  171|      0|         0|   0|           0|                    0|          0|      0|     0|    0|          0|       0|    0|           0|       0|        0|        0|         0|     0|  0|       0|     0|        0|        0|         0|    0|          0|               0|    0|                                0|    0|      0|              0|        0|   0|        0|        0|     0|    0|           0|    0|   0|        0|        0|     0|      0|         0|               0|           0|         0|                        0|    0|           0|      0|      0|    0|         0|              0|        231|            0|            0|      0|      0|      0|             0|         0|            0|        0|            0|       0|   0|               0|                   0|                    0|          0|          0|            0|                   0|     0|                0|  0|  0|                0|237|       0|  0|     0|                0|        0|                   0|        0|     0|       0|     0|         192|                  0|    0|     0|     0|         0|       268|       226|                    0|         0|      0|   0|    0|     0|      0|      0|     0|     0|      0|           0|     0|             0|           0|      0|          0|    0|            0|                 0|         0|         211|            0|      0|     0|     0|      0|   0|           0|     0|               0|       0|                0|      0|        0|         0|         0|    0|        0|         0|                0|       0|           0|     0|      0|            0|        0|         0|     225|           0|       0|        0|        0|           0|      0|       0|              0|        0|       0|     184|           0|    0|         0|     0|         0|           0|                   0|       0|            0|          0|              0|                0|          0|     178|               0|             0|            0|      0|      0|                0|                    0|     0|            0|             0|     0|       222|              254|                216|                 0|       0|                 0|     0|          0|         0|          0|        0|  0|      0|      0|               0|               0|      0|                  0|      0|           0|            0|         0|    0|                0|  0|      0|            0|             0|           0|         0|      0|        0|        0|          0|           0|        0|      0|       0|\n",
      "|1000030|    0|     0|   0|187|         0|            0|        0|  0|         0|            0|        0|             0|  0|   0|          0|  0|       0|   175|         0|         0|               0|               0|        0|        0|          0|     0|                0|      0|      0|                   0|    0|   200|      0|            0|                      0|       0|            0|                       0|          0|               0|           0|         0|             0|  0|            0|       0|               0|         0|            0|          0|        0|        0|    0|    0|         0|        0|      0|     0|       0|          0|          0|   0|         0|           0|        0|      0|       0|   209|   0|                    0|                      0|    0|             0|                        0|        0|           0|          0|      0|      0|  175|           123|     0|       0|           0|         0|       0|     0|            0|   176|         0|          0|         0|         0|           0|    119|   0|       0|                 0|      0|    0|          0|           0|   0|        0|      0|   0|          0|           0|         0|         0|           0|     0|                    0|          0|        0|      208|        0|        0|          0|  0|      0|    0|      0|              0|                 0|                0|         0|           0|      0|        0|         0|               0|        0|   0|       0|          0|         0|           0|          0|  0|   0|    0|            175|      0|      0|          0|       120|           0|                 0|       0|           0|      0|     0|       0|      0|           0|  184|         0|       0|               0|        0|             0|     0|       0|   0|   0|     0|             0|               0|                  0|                0|             0|      0|         0|       0|    0|     0|           0|       0|            0|         0|     0|     0|     0|      0|    0|         0|        0|            0|    0|                 0|                             0|                  0|                   0|            0|        0|   0|  0|            0|         0|          0|   0|     0|       0|           0|       0|     0|        163|              158|    0|   0|             0|        0|           0|     0|   0|    0|      0|       213|   0|           0|                    0|          0|      0|     0|    0|          0|       0|    0|           0|       0|        0|        0|         0|     0|  0|       0|     0|        0|        0|         0|    0|        157|               0|    0|                                0|    0|      0|              0|        0|   0|        0|        0|     0|    0|           0|    0|   0|        0|        0|     0|      0|         0|               0|           0|         0|                        0|    0|           0|      0|      0|    0|         0|              0|          0|            0|            0|      0|      0|      0|             0|         0|            0|        0|            0|       0|   0|               0|                   0|                    0|          0|          0|            0|                   0|     0|                0|  0|  0|                0|  0|       0|  0|     0|                0|        0|                   0|        0|     0|       0|     0|           0|                  0|    0|     0|     0|         0|         0|         0|                    0|         0|      0|   0|    0|     0|      0|      0|     0|     0|      0|           0|     0|             0|           0|      0|          0|    0|            0|                 0|       182|         134|            0|      0|     0|     0|      0|   0|           0|     0|               0|       0|                0|      0|        0|         0|         0|    0|        0|         0|                0|       0|           0|     0|      0|            0|        0|         0|     190|           0|       0|        0|        0|           0|      0|       0|              0|        0|       0|       0|           0|    0|         0|     0|         0|           0|                   0|       0|            0|          0|              0|                0|          0|       0|               0|             0|            0|      0|      0|                0|                    0|     0|            0|             0|     0|         0|                0|                  0|                 0|       0|                 0|   221|          0|         0|          0|        0|  0|      0|      0|               0|               0|      0|                  0|      0|           0|            0|         0|    0|                0|  0|      0|            0|             0|           0|         0|      0|        0|        0|          0|           0|        0|      0|       0|\n",
      "|1000040|    0|     0|   0|  0|         0|            0|        0|  0|         0|            0|        0|             0|  0|   0|          0|  0|       0|    22|         0|         0|               0|               0|        0|        0|          0|     0|                0|      0|      0|                   0|    0|     0|      0|            0|                      0|       0|            0|                       0|          0|               0|           0|         0|             0|  0|            0|       0|               0|         0|            0|          0|        0|        0|    0|    0|         0|        0|      0|     0|       0|          0|          0|   0|         0|           0|        0|      0|       0|    22|   0|                    0|                      0|    0|             0|                        0|        0|           0|          0|      0|      0|    0|             0|     0|       0|           0|         0|       0|     0|            0|     0|         0|          0|         0|         0|           0|      0|   0|       0|                 0|      0|    0|          0|           0|   0|        0|      0|   0|          0|           0|         0|         0|           0|     0|                    0|          0|        0|        0|        0|        0|          0|  0|      0|    0|      0|              0|                 0|                0|         0|           0|      0|        0|         0|               0|        0|   0|       0|          0|         0|           0|          0|  0|   0|    0|              0|      0|      0|          0|         0|           0|                 0|       0|           0|      0|     0|       0|      0|           0|    0|         0|       0|               0|        0|             0|     0|       0|   0|   0|     0|             0|               0|                  0|                0|             0|      0|         0|       0|    0|     0|           0|       0|            0|         0|     0|     0|     0|      0|    0|         0|        0|            0|   21|                 0|                             0|                  0|                   0|            0|        0|   0|  0|            0|         0|          0|   0|     0|       0|           0|       0|     0|          0|                0|    0|   0|             0|        0|           0|     0|   0|    0|      0|         0|   0|           0|                    0|          0|      0|     0|    0|          0|       0|    0|           0|       0|        0|        0|         0|     0|  0|       0|     0|        0|        0|         0|    0|          0|               0|    0|                                0|    0|      0|              0|        0|   0|        0|        0|     0|    0|           0|    0|   0|        0|        0|     0|      0|         0|               0|           0|         0|                        0|    0|           0|      0|      0|    0|         0|              0|          0|            0|            0|      0|      0|      0|             0|         0|            0|        0|            0|       0|   0|               0|                   0|                    0|          0|          0|            0|                   0|     0|                0|  0|  0|                0|  0|       0|  0|     0|                0|        0|                   0|        0|     0|       0|     0|           0|                  0|    0|     0|     0|         0|         0|         0|                    0|         0|      0|   0|    0|     0|      0|      0|     0|     0|      0|           0|     0|             0|           0|      0|          0|    0|            0|                 0|        20|           0|            0|      0|     0|     0|      0|   0|           0|     0|               0|       0|                0|      0|        0|         0|         0|    0|        0|         0|                0|       0|           0|     0|      0|            0|        0|         0|       0|           0|       0|        0|        0|           0|      0|       0|              0|        0|       0|       0|           0|    0|         0|     0|         0|           0|                   0|       0|            0|          0|              0|                0|          0|       0|               0|             0|            0|      0|      0|                0|                    0|     0|            0|             0|     0|         0|                0|                  0|                 0|       0|                 0|     0|          0|         0|          0|        0|  0|      0|      0|               0|               0|      0|                  0|      0|           0|            0|         0|    0|                0|  0|      0|            0|             0|           0|         0|      0|        0|        0|          0|           0|        0|      0|       0|\n",
      "|1000080|    0|     0|   0|  0|         0|            0|        0|  0|         0|            0|        0|             0|  0|   0|          0|  0|       0|   138|        77|         0|             111|               0|        0|      115|          0|     0|                0|      0|      0|                   0|   84|     0|      0|            0|                      0|       0|            0|                       0|          0|               0|           0|         0|             0|  0|            0|       0|               0|         0|            0|          0|        0|        0|    0|    0|         0|        0|      0|     0|       0|          0|          0|   0|         0|           0|        0|      0|       0|    31|   0|                    0|                      0|    0|             0|                        0|        0|           0|          0|      0|      0|   34|             0|     0|       0|           0|         0|       0|     0|            0|     0|         0|          0|         0|         0|           0|      0|   0|       0|                 0|      0|    0|          0|           0|   0|        0|      0|   0|          0|           0|         0|         0|           0|     0|                    0|          0|        0|        0|        0|        0|          0|  0|      0|    0|      0|              0|                 0|                0|         0|          38|      0|        0|         0|               0|        0|   0|       0|          0|         0|           0|          0|  0|   0|    0|              0|      0|      0|          0|         0|           0|                36|       0|           0|      0|     0|       0|      0|           0|    0|         0|       0|               0|        0|             0|     0|       0|   0|   0|     0|             0|               0|                  0|                0|            57|      0|         0|       0|    0|     0|           0|       0|            0|         0|     0|     0|     0|      0|    0|         0|        0|            0|  128|                 0|                             0|                  0|                   0|            0|        0|  30|  0|            0|         0|          0|   0|     0|       0|           0|       0|    51|          0|                0|    0|   0|             0|        0|           0|     0|   0|    0|      0|         0|   0|           0|                    0|          0|      0|     0|    0|          0|       0|    0|           0|       0|        0|        0|         0|     0|  0|       0|     0|        0|        0|         0|    0|         62|               0|    0|                                0|    0|      0|              0|        0|   0|        0|        0|     0|    0|           0|    0|   0|        0|        0|     0|      0|         0|               0|          38|         0|                        0|    0|           0|      0|      0|    0|         0|              0|          0|            0|            0|      0|      0|      0|             0|         0|            0|        0|            0|       0|   0|               0|                   0|                    0|          0|          0|            0|                   0|     0|                0|  0|  0|                0|121|       0|  0|     0|                0|        0|                   0|        0|     0|       0|     0|           0|                  0|    0|     0|     0|         0|        53|        67|                    0|         0|      0|   0|    0|     0|      0|      0|     0|     0|      0|           0|     0|            33|           0|      0|          0|    0|            0|                 0|         0|          46|            0|      0|     0|     0|      0|   0|           0|     0|               0|       0|                0|      0|        0|         0|         0|    0|        0|         0|                0|       0|           0|     0|      0|            0|        0|         0|       0|           0|       0|        0|        0|           0|      0|       0|              0|        0|       0|       0|           0|    0|         0|     0|         0|           0|                   0|       0|            0|          0|              0|                0|          0|       0|               0|             0|            0|      0|      0|                0|                    0|     0|            0|             0|     0|         0|                0|                  0|                 0|       0|                 0|     0|          0|         0|          0|        0|  0|      0|      0|               0|               0|      0|                  0|      0|           0|            0|         0|    0|                0|  0|      0|            0|             0|           0|         0|      0|        0|        0|          0|           0|        0|      0|       0|\n",
      "|1000100|    0|     0|   0|  0|         0|            0|        0|  0|         0|            0|        0|             0|  0|   0|          0|  0|       0|     0|         0|         0|               0|               0|        0|       20|          0|     0|                0|      0|      0|                   0|   11|     0|      0|            0|                      0|       0|            0|                       0|          0|               0|           0|         0|             0|  0|            0|       0|               0|         0|            0|          0|        0|        0|    0|    0|         0|        0|      0|     0|       0|          0|          0|   0|         0|           0|        0|      0|       0|     0|   0|                    0|                      0|    0|             0|                        0|        0|           0|          0|      0|      0|    0|             0|     0|       0|           0|         0|       0|     0|            0|     0|         0|          0|         0|         0|           0|      0|   0|       0|                 0|      0|    0|          0|           0|   0|        0|      0|   0|          0|           0|         0|        10|           0|     0|                    0|          0|        0|        0|        0|        0|          0|  0|      0|    0|      0|              0|                 0|                0|         0|           0|      0|        0|         0|               0|        0|   0|       0|          0|         0|           0|          0|  0|   0|    0|              0|      0|      0|          0|         0|           0|                 0|       0|           0|      0|     0|       0|      0|           0|    0|         0|       0|               0|        0|             0|     0|       0|   0|   0|     0|             0|               0|                  0|                0|             0|      0|         0|       0|    0|     0|           0|       0|            0|         0|     0|     0|     0|      0|    0|         0|        0|            0|   20|                 0|                             0|                  0|                   0|            0|        0|   0|  0|            0|         0|          0|   0|     0|       0|           0|       0|     0|          0|                0|    0|   0|             0|        0|           0|     0|   0|    0|      0|         0|   0|           0|                    0|          0|      0|     0|    0|          0|       0|    0|           0|       0|        0|        0|         0|     0|  0|       0|     0|        0|        0|         0|    0|          0|               0|    0|                                0|    0|      0|              0|        0|   0|        0|        0|     0|    0|           0|    0|   0|        0|        0|     0|      0|         0|               0|           0|         0|                        0|    0|           0|      0|      0|    0|         0|              0|          0|            0|            0|      0|      0|      0|             0|         0|            0|        0|            0|       0|   0|               0|                   0|                    0|          0|          0|            0|                   0|     0|                0|  0|  0|                0| 20|       0|  0|     0|                0|        0|                   0|        0|     0|       0|     0|           0|                  0|    0|     0|     0|         0|         0|         0|                    0|         0|      0|   0|    0|     0|      0|      0|     0|     0|      0|           0|     0|             0|           0|      0|          0|    0|            0|                 0|         0|           0|            0|      0|     0|     0|      0|   0|           0|     0|               0|       0|                0|      0|        0|         0|         0|    0|        0|         0|                0|       0|           0|     0|      0|            0|        0|         0|      20|           0|       0|        0|        0|           0|      0|       0|              0|        0|       0|       0|           0|    0|         0|     0|         0|           0|                   0|       0|            0|          0|              0|                0|          0|       0|               0|             0|            0|      0|      0|                0|                    0|     0|            0|             0|     0|         0|                0|                  0|                 0|       0|                 0|     0|          0|         0|          0|        0|  0|      0|      0|               0|               0|      0|                  0|      0|           0|            0|         0|    0|                0|  0|      0|            0|             0|           0|         0|      0|        0|        0|          0|           0|        0|      0|       0|\n",
      "|1000110|    0|     0|   0|  0|         0|            0|        0|  0|         0|            0|        0|             0|  0|   0|          0|  0|       0|    24|         0|         0|               0|               0|        0|       23|          0|     0|                0|      0|      0|                   0|    0|     0|      0|            0|                      0|       0|            0|                       0|          0|               0|           0|         0|             0|  0|            0|       0|               0|         0|            0|          0|        0|        0|    0|    0|         0|        0|      0|     0|       0|          0|          0|   0|         0|           0|        0|      0|       0|    24|   0|                    0|                      0|    0|             0|                        0|        0|           0|          0|      0|      0|    0|             0|     0|       0|           0|         0|       0|     0|            0|     0|         0|          0|         0|         0|           0|      0|   0|       0|                 0|      0|    0|          0|           0|   0|        0|      0|   0|          0|           0|         0|         0|           0|     0|                    0|          0|        0|        0|        0|        0|          0|  0|      0|    0|      0|              0|                 0|                0|         0|           0|      0|        0|         0|               0|        0|   0|       0|          0|         0|           0|          0|  0|   0|    0|              0|      0|      0|          0|         0|           0|                 0|       0|           0|      0|     0|       0|      0|          26|    0|         0|       0|               0|        0|             0|     0|       0|   0|   0|     0|             0|               0|                  0|                0|             0|      0|         0|       0|    0|     0|           0|       0|            0|         0|     0|     0|     0|      0|    0|         0|        0|            0|    0|                 0|                             0|                  0|                   0|            0|        0|   0|  0|            0|         0|          0|   0|     0|       0|           0|       0|     0|          0|                0|    0|   0|             0|        0|           0|     0|   0|    0|      0|         0|   0|           0|                   25|          0|      0|     0|    0|          0|       0|    0|           0|       0|        0|        0|         0|     0|  0|       0|     0|        0|        0|         0|    0|          0|               0|    0|                                0|    0|      0|              0|        0|   0|        0|        0|     0|    0|           0|    0|   0|        0|        0|     0|      0|         0|               0|           0|         0|                        0|    0|           0|      0|      0|    0|         0|              0|          0|            0|            0|      0|      0|      0|             0|         0|            0|        0|            0|       0|   0|               0|                   0|                    0|          0|          0|            0|                   0|     0|                0|  0|  0|                0|  0|       0|  0|     0|                0|        0|                   0|        0|     0|       0|     0|           0|                  0|    0|     0|     0|         0|         0|         0|                    0|         0|      0|   0|    0|     0|      0|      0|     0|     0|      0|           0|     0|             0|           0|      0|          0|    0|            0|                 0|         0|           0|            0|      0|     0|     0|      0|   0|           0|     0|               0|       0|                0|      0|        0|         0|         0|    0|        0|         0|                0|       0|           0|     0|      0|            0|        0|         0|       0|           0|       0|        0|        0|           0|      0|       0|              0|        0|       0|       0|           0|    0|         0|     0|         0|           0|                   0|       0|            0|          0|              0|                0|          0|       0|               0|             0|            0|      0|      0|                0|                    0|     0|            0|             0|     0|         0|                0|                  0|                 0|       0|                 0|     0|          0|         0|          0|        0|  0|      0|      0|               0|               0|      0|                  0|      0|           0|            0|         0|    0|                0|  0|      0|            0|             0|           0|         0|      0|        0|        0|          0|           0|        0|      0|       0|\n",
      "|1000130|    0|     0|   0|  0|         0|            0|        0|  0|         0|            0|        0|             0|  0|   0|          0|  0|       0|    10|         0|         0|               0|               0|        0|        0|          0|     0|                0|      0|      0|                   0|    0|     0|      0|            0|                      0|       0|            0|                       0|          0|               0|           0|         0|             0|  0|            0|       0|               0|         0|            0|          0|        0|        0|    0|    0|         0|        0|      0|     0|       0|          0|          0|   0|         0|           0|        0|      0|       0|    31|   0|                    0|                      0|    0|             0|                        0|        0|           0|          0|      0|      0|    0|             0|     0|       0|           0|         0|      10|     0|            0|     0|         0|          0|         0|         0|           0|      0|   0|       0|                 0|      0|    0|          0|           0|   0|        0|      0|   0|          0|           0|         0|         0|           0|     0|                    0|          0|        0|        0|        0|        0|          0|  0|      0|    0|      0|              0|                 0|                0|         0|           0|      0|        0|         0|               0|        0|   0|       0|          0|         0|           0|          0|  0|   0|    0|              0|      0|      0|          0|         0|           0|                 0|       0|           0|      0|     0|       0|      0|           0|    0|         0|       0|               0|        0|             0|     0|       0|   0|   0|     0|             0|               0|                  0|                0|             0|      0|         0|       0|    0|     0|           0|       0|            0|         0|     0|     0|     0|      0|    0|         0|        0|            0|   31|                 0|                             0|                  0|                   0|            0|        0|   0|  0|            0|         0|          0|   0|     0|       0|           0|       0|     0|          0|                0|    0|   0|             0|        0|           0|     0|   0|    0|      0|         0|   0|           0|                    0|          0|      0|     0|    0|          0|       0|    0|           0|       0|        0|        0|         0|     0|  0|       0|     0|        0|        0|         0|    0|          0|               0|    0|                                0|    0|      0|              0|        0|   0|        0|        0|     0|    0|           0|    0|   0|        0|        0|     0|      0|         0|               0|           0|         0|                        0|    0|           0|      0|      0|    0|         0|              0|          0|            0|            0|      0|      0|      0|             0|         0|            0|        0|            0|       0|   0|               0|                   0|                    0|          0|          0|            0|                   0|     0|                0|  0|  0|                0|  0|       0|  0|     0|                0|        0|                   0|        0|     0|       0|     0|           0|                  0|    0|     0|     0|         0|         0|         0|                    0|         0|      0|   0|    0|     0|      0|     11|     0|     0|      0|           0|     0|             0|           0|      0|          0|    0|            0|                 0|         0|           0|            0|      0|     0|     0|      0|   0|           0|     0|               0|       0|                0|      0|        0|         0|         0|    0|        0|         0|                0|       0|           0|     0|      0|            0|        0|         0|      10|           0|       0|        0|        0|           0|      0|       0|              0|        0|       0|       0|           0|    0|         0|     0|         0|           0|                   0|       0|            0|          0|              0|                0|          0|       0|               0|             0|           16|      0|      0|                0|                    0|     0|            0|             0|     0|         0|                0|                  0|                 0|       0|                 0|     0|          0|         0|          0|        0|  0|      0|      0|               0|               0|      0|                  0|      0|           0|            0|         0|    0|                0|  0|      0|            0|             0|           0|         0|      0|        0|        0|          0|           0|        0|      0|       0|\n",
      "|1000280|    0|     0|   0|101|         0|            0|        0|  0|         0|            0|        0|             0|  0|   0|          0|  0|       0|     0|         0|         0|               0|               0|        0|        0|          0|     0|                0|      0|      0|                   0|   86|     0|      0|            0|                      0|       0|            0|                       0|          0|               0|           0|         0|             0|  0|            0|       0|               0|         0|            0|          0|        0|        0|    0|    0|         0|        0|      0|     0|       0|          0|          0| 129|         0|           0|        0|     81|       0|     0|   0|                    0|                      0|    0|             0|                        0|        0|           0|          0|      0|      0|    0|             0|     0|       0|           0|         0|       0|     0|            0|     0|         0|          0|         0|         0|           0|      0|   0|       0|                 0|      0|    0|          0|           0|   0|        0|      0|   0|          0|           0|         0|         0|           0|     0|                    0|          0|        0|        0|        0|        0|          0|  0|      0|   84|      0|              0|                 0|                0|         0|           0|      0|        0|         0|               0|        0|   0|       0|          0|         0|           0|          0|  0|   0|    0|              0|      0|      0|          0|         0|           0|               146|       0|           0|      0|     0|       0|      0|           0|    0|         0|       0|               0|        0|             0|     0|       0|   0|   0|     0|             0|               0|                  0|                0|             0|      0|         0|       0|    0|     0|           0|       0|            0|         0|     0|     0|     0|      0|    0|         0|        0|            0|   70|                 0|                             0|                  0|                   0|            0|        0| 137|  0|            0|         0|          0|   0|   141|       0|           0|       0|     0|          0|                0|    0|   0|             0|        0|           0|     0| 129|    0|      0|         0|   0|           0|                    0|          0|      0|   150|    0|          0|       0|    0|           0|       0|        0|        0|         0|     0|  0|       0|     0|        0|        0|         0|    0|          0|              89|    0|                                0|    0|      0|              0|        0|   0|        0|        0|     0|    0|           0|    0|   0|        0|        0|     0|      0|         0|               0|           0|         0|                        0|    0|           0|      0|      0|    0|         0|              0|          0|            0|            0|      0|      0|      0|             0|         0|            0|        0|            0|       0|   0|               0|                   0|                    0|          0|          0|            0|                   0|     0|                0|  0|  0|                0|107|       0|  0|     0|                0|        0|                   0|        0|     0|       0|     0|           0|                  0|    0|     0|     0|         0|         0|         0|                    0|         0|      0|   0|    0|     0|      0|      0|     0|     0|      0|           0|     0|           155|           0|      0|          0|    0|            0|                 0|         0|          77|            0|      0|     0|     0|      0|   0|           0|     0|               0|       0|                0|      0|        0|         0|         0|    0|        0|         0|                0|       0|           0|     0|      0|            0|        0|        92|       0|           0|       0|        0|        0|           0|      0|       0|              0|        0|       0|       0|           0|    0|         0|     0|         0|           0|                   0|       0|            0|          0|              0|                0|          0|       0|               0|             0|            0|      0|      0|                0|                    0|     0|            0|             0|     0|         0|               91|                112|                 0|       0|                 0|     0|         95|         0|          0|        0|  0|      0|      0|               0|               0|      0|                  0|      0|           0|            0|         0|    0|                0|  0|      0|            0|             0|           0|         0|      0|        0|      122|          0|           0|        0|      0|       0|\n",
      "+-------+-----+------+----+---+----------+-------------+---------+---+----------+-------------+---------+--------------+---+----+-----------+---+--------+------+----------+----------+----------------+----------------+---------+---------+-----------+------+-----------------+-------+-------+--------------------+-----+------+-------+-------------+-----------------------+--------+-------------+------------------------+-----------+----------------+------------+----------+--------------+---+-------------+--------+----------------+----------+-------------+-----------+---------+---------+-----+-----+----------+---------+-------+------+--------+-----------+-----------+----+----------+------------+---------+-------+--------+------+----+---------------------+-----------------------+-----+--------------+-------------------------+---------+------------+-----------+-------+-------+-----+--------------+------+--------+------------+----------+--------+------+-------------+------+----------+-----------+----------+----------+------------+-------+----+--------+------------------+-------+-----+-----------+------------+----+---------+-------+----+-----------+------------+----------+----------+------------+------+---------------------+-----------+---------+---------+---------+---------+-----------+---+-------+-----+-------+---------------+------------------+-----------------+----------+------------+-------+---------+----------+----------------+---------+----+--------+-----------+----------+------------+-----------+---+----+-----+---------------+-------+-------+-----------+----------+------------+------------------+--------+------------+-------+------+--------+-------+------------+-----+----------+--------+----------------+---------+--------------+------+--------+----+----+------+--------------+----------------+-------------------+-----------------+--------------+-------+----------+--------+-----+------+------------+--------+-------------+----------+------+------+------+-------+-----+----------+---------+-------------+-----+------------------+------------------------------+-------------------+--------------------+-------------+---------+----+---+-------------+----------+-----------+----+------+--------+------------+--------+------+-----------+-----------------+-----+----+--------------+---------+------------+------+----+-----+-------+----------+----+------------+---------------------+-----------+-------+------+-----+-----------+--------+-----+------------+--------+---------+---------+----------+------+---+--------+------+---------+---------+----------+-----+-----------+----------------+-----+---------------------------------+-----+-------+---------------+---------+----+---------+---------+------+-----+------------+-----+----+---------+---------+------+-------+----------+----------------+------------+----------+-------------------------+-----+------------+-------+-------+-----+----------+---------------+-----------+-------------+-------------+-------+-------+-------+--------------+----------+-------------+---------+-------------+--------+----+----------------+--------------------+---------------------+-----------+-----------+-------------+--------------------+------+-----------------+---+---+-----------------+---+--------+---+------+-----------------+---------+--------------------+---------+------+--------+------+------------+-------------------+-----+------+------+----------+----------+----------+---------------------+----------+-------+----+-----+------+-------+-------+------+------+-------+------------+------+--------------+------------+-------+-----------+-----+-------------+------------------+----------+------------+-------------+-------+------+------+-------+----+------------+------+----------------+--------+-----------------+-------+---------+----------+----------+-----+---------+----------+-----------------+--------+------------+------+-------+-------------+---------+----------+--------+------------+--------+---------+---------+------------+-------+--------+---------------+---------+--------+--------+------------+-----+----------+------+----------+------------+--------------------+--------+-------------+-----------+---------------+-----------------+-----------+--------+----------------+--------------+-------------+-------+-------+-----------------+---------------------+------+-------------+--------------+------+----------+-----------------+-------------------+------------------+--------+------------------+------+-----------+----------+-----------+---------+---+-------+-------+----------------+----------------+-------+-------------------+-------+------------+-------------+----------+-----+-----------------+---+-------+-------------+--------------+------------+----------+-------+---------+---------+-----------+------------+---------+-------+--------+\n",
      "only showing top 10 rows\n",
      "\n"
     ]
    }
   ],
   "source": [
    "## tags dataframe\n",
    "tags_df = df.select('appid', 'tags.*') \\\n",
    "            .alias('*') \\\n",
    "            .fillna(0)\n",
    "\n",
    "tags_df.show(10)"
   ]
  },
  {
   "cell_type": "code",
   "execution_count": 10,
   "metadata": {},
   "outputs": [
    {
     "name": "stdout",
     "output_type": "stream",
     "text": [
      "+-------+-----+----------+------+---------+--------------------+----------------+------+---------------------+------------+---------+------------+----------------+-----+-----+---------------------+-----+------+-------------+-----+------+--------------+----------+-----------------+------+--------+---------+----------------+-------+--------------+\n",
      "|  appid|     |Accounting|Action|Adventure|Animation & Modeling|Audio Production|Casual|Design & Illustration|Early Access|Education|Free to Play|Game Development| Gore|Indie|Massively Multiplayer|Movie|Nudity|Photo Editing|  RPG|Racing|Sexual Content|Simulation|Software Training|Sports|Strategy|Utilities|Video Production|Violent|Web Publishing|\n",
      "+-------+-----+----------+------+---------+--------------------+----------------+------+---------------------+------------+---------+------------+----------------+-----+-----+---------------------+-----+------+-------------+-----+------+--------------+----------+-----------------+------+--------+---------+----------------+-------+--------------+\n",
      "|1403310|false|     false| false|    false|               false|           false|  true|                false|       false|    false|       false|           false|false|false|                false|false| false|        false|false| false|         false|      true|            false| false|   false|    false|           false|  false|         false|\n",
      "|1649080|false|     false| false|    false|               false|           false|  true|                false|       false|    false|       false|           false|false| true|                false|false| false|        false|false| false|         false|      true|            false| false|    true|    false|           false|  false|         false|\n",
      "| 523870|false|     false|  true|    false|               false|           false|  true|                false|       false|    false|       false|           false|false| true|                false|false| false|        false|false|  true|         false|     false|            false| false|   false|    false|           false|  false|         false|\n",
      "| 719890|false|     false| false|     true|               false|           false| false|                false|        true|    false|       false|           false|false| true|                 true|false| false|        false|false| false|         false|      true|            false| false|   false|    false|           false|  false|         false|\n",
      "| 848270|false|     false|  true|     true|               false|           false|  true|                false|       false|    false|       false|           false|false| true|                false|false| false|        false|false| false|         false|     false|            false| false|   false|    false|           false|  false|         false|\n",
      "|1268860|false|     false|  true|    false|               false|           false|  true|                false|       false|    false|       false|           false|false| true|                false|false| false|        false|false| false|         false|     false|            false| false|   false|    false|           false|  false|         false|\n",
      "|1543590|false|     false| false|     true|               false|           false| false|                false|        true|    false|       false|           false|false| true|                false|false| false|        false| true| false|         false|      true|            false| false|    true|    false|           false|  false|         false|\n",
      "| 319970|false|     false| false|     true|               false|           false| false|                false|       false|    false|       false|           false|false| true|                false|false| false|        false|false| false|         false|     false|            false| false|   false|    false|           false|  false|         false|\n",
      "| 870180|false|     false| false|    false|               false|           false|  true|                false|       false|    false|       false|           false|false| true|                false|false| false|        false|false| false|         false|     false|            false| false|    true|    false|           false|  false|         false|\n",
      "| 873740|false|     false| false|    false|               false|           false| false|                false|        true|    false|       false|           false|false|false|                false|false| false|        false|false| false|         false|      true|            false| false|   false|    false|           false|  false|         false|\n",
      "+-------+-----+----------+------+---------+--------------------+----------------+------+---------------------+------------+---------+------------+----------------+-----+-----+---------------------+-----+------+-------------+-----+------+--------------+----------+-----------------+------+--------+---------+----------------+-------+--------------+\n",
      "only showing top 10 rows\n",
      "\n"
     ]
    }
   ],
   "source": [
    "## videogames genre dataaframe\n",
    "genres = df.select('appid', F.explode(F.split(df['genre'], ', ')).alias('genre'))\n",
    "\n",
    "genres_df = genres.groupby('appid') \\\n",
    "                  .pivot('genre') \\\n",
    "                  .count()\n",
    "genres_df = genres_df.select(\n",
    "    'appid',\n",
    "    *[F.when(F.col(c).isNull(), 0).otherwise(1).alias(c)\n",
    "      for c in genres_df.columns if c != 'appid']\n",
    ")\n",
    "\n",
    "genres_df.show(10)"
   ]
  },
  {
   "cell_type": "markdown",
   "metadata": {},
   "source": [
    "Another less idiomatic approach would be:\n",
    "```python\n",
    "genres = raw_df.select(\n",
    "    F.col('data.appid').alias('appid'),\n",
    "    F.split(raw_df['data.genre'], ', ').alias('genre')\n",
    ")\n",
    "all_genres = genres.select(F.explode(genres['genre']).alias('genre')).distinct()\n",
    "for x in all_genres.collect():\n",
    "    genres = genres.withColumn(x[0], F.array_contains(genres['genre'], x[0]))\n",
    "\n",
    "genres_df = genres.select('appid', *[x[0] for x in all_genres.collect()])\n",
    "```"
   ]
  },
  {
   "cell_type": "code",
   "execution_count": 11,
   "metadata": {},
   "outputs": [
    {
     "name": "stdout",
     "output_type": "stream",
     "text": [
      "+-------+------------------+-----+--------------------+--------------------------+-----------------------+----------------+-------------------+---------------------+---------+-------+-----+-----+------------------+------------+------------+----------+--------------------------+-----+--------------------+--------------------+-----------------+---------------------+-------------------+-------------------------+-----------------------+-------------+-----+------------------+-----------+------------------+-------------------+------------------------+--------------+--------------------+----------+------------------------+\n",
      "|  appid|Captions available|Co-op|Commentary available|Cross-Platform Multiplayer|Full controller support|In-App Purchases|Includes Source SDK|Includes level editor|LAN Co-op|LAN PvP|  MMO| Mods|Mods (require HL2)|Multi-player|Online Co-op|Online PvP|Partial Controller Support|  PvP|Remote Play Together|Remote Play on Phone|Remote Play on TV|Remote Play on Tablet|Shared/Split Screen|Shared/Split Screen Co-op|Shared/Split Screen PvP|Single-player|Stats|Steam Achievements|Steam Cloud|Steam Leaderboards|Steam Trading Cards|Steam Turn Notifications|Steam Workshop|SteamVR Collectibles|VR Support|Valve Anti-Cheat enabled|\n",
      "+-------+------------------+-----+--------------------+--------------------------+-----------------------+----------------+-------------------+---------------------+---------+-------+-----+-----+------------------+------------+------------+----------+--------------------------+-----+--------------------+--------------------+-----------------+---------------------+-------------------+-------------------------+-----------------------+-------------+-----+------------------+-----------+------------------+-------------------+------------------------+--------------+--------------------+----------+------------------------+\n",
      "|1015540|             false|false|               false|                     false|                  false|           false|              false|                false|    false|  false|false|false|             false|       false|       false|     false|                      true|false|               false|               false|            false|                false|              false|                    false|                  false|         true|false|             false|      false|             false|              false|                   false|         false|               false|     false|                   false|\n",
      "|1142220|             false|false|               false|                     false|                  false|            true|              false|                 true|    false|  false|false|false|             false|        true|       false|      true|                     false| true|               false|               false|            false|                false|              false|                    false|                  false|         true|false|             false|       true|              true|              false|                   false|          true|               false|     false|                   false|\n",
      "|1383220|             false| true|               false|                      true|                   true|           false|              false|                false|     true|  false|false|false|             false|        true|        true|     false|                     false|false|                true|               false|            false|                false|               true|                     true|                  false|         true|false|             false|      false|             false|              false|                   false|         false|               false|     false|                   false|\n",
      "|1543590|             false| true|               false|                     false|                  false|           false|              false|                 true|    false|  false|false|false|             false|        true|        true|     false|                     false|false|               false|               false|            false|                false|              false|                    false|                  false|         true|false|             false|      false|             false|              false|                   false|         false|               false|     false|                   false|\n",
      "|1962570|             false|false|               false|                     false|                  false|           false|              false|                false|    false|   true|false|false|             false|        true|       false|      true|                     false| true|               false|               false|            false|                false|              false|                    false|                  false|         true|false|             false|      false|             false|              false|                   false|         false|               false|     false|                   false|\n",
      "| 491040|             false|false|               false|                     false|                   true|           false|              false|                false|    false|  false|false|false|             false|       false|       false|     false|                     false|false|               false|               false|             true|                false|              false|                    false|                  false|         true|false|              true|       true|              true|               true|                   false|         false|               false|     false|                   false|\n",
      "|1404850|             false|false|               false|                     false|                   true|           false|              false|                false|    false|  false|false|false|             false|       false|       false|     false|                     false|false|               false|               false|            false|                false|              false|                    false|                  false|         true|false|             false|       true|             false|               true|                   false|          true|               false|     false|                   false|\n",
      "|1505570|             false|false|               false|                     false|                  false|           false|              false|                false|    false|  false|false|false|             false|       false|       false|     false|                     false|false|               false|               false|            false|                false|              false|                    false|                  false|         true|false|              true|       true|             false|              false|                   false|         false|               false|     false|                   false|\n",
      "| 301190|             false|false|               false|                     false|                  false|           false|              false|                false|    false|  false|false|false|             false|       false|       false|     false|                     false|false|               false|               false|            false|                false|              false|                    false|                  false|         true|false|              true|       true|              true|               true|                   false|         false|               false|     false|                   false|\n",
      "| 444480|             false| true|               false|                     false|                  false|           false|              false|                false|    false|  false|false|false|             false|        true|       false|     false|                     false|false|                true|               false|            false|                false|               true|                    false|                  false|         true|false|             false|      false|             false|               true|                   false|         false|               false|     false|                   false|\n",
      "+-------+------------------+-----+--------------------+--------------------------+-----------------------+----------------+-------------------+---------------------+---------+-------+-----+-----+------------------+------------+------------+----------+--------------------------+-----+--------------------+--------------------+-----------------+---------------------+-------------------+-------------------------+-----------------------+-------------+-----+------------------+-----------+------------------+-------------------+------------------------+--------------+--------------------+----------+------------------------+\n",
      "only showing top 10 rows\n",
      "\n"
     ]
    }
   ],
   "source": [
    "## videogames categories dataframe\n",
    "categories = df.select('appid', F.explode(df['categories']).alias('category'))\n",
    "\n",
    "categories_df = categories.groupby('appid') \\\n",
    "                          .pivot('category') \\\n",
    "                          .count()\n",
    "categories_df = categories_df.select(\n",
    "    'appid',\n",
    "    *[F.when(F.col(c).isNull(), False).otherwise(True).alias(c)\n",
    "      for c in categories_df.columns if c != 'appid']\n",
    ")\n",
    "\n",
    "categories_df.show(10)"
   ]
  },
  {
   "cell_type": "code",
   "execution_count": 12,
   "metadata": {},
   "outputs": [
    {
     "name": "stdout",
     "output_type": "stream",
     "text": [
      "+-------+-----+-----+-------+\n",
      "|  appid|linux|  mac|windows|\n",
      "+-------+-----+-----+-------+\n",
      "|     10| true| true|   true|\n",
      "|1000000|false|false|   true|\n",
      "|1000010|false|false|   true|\n",
      "|1000030|false| true|   true|\n",
      "|1000040|false|false|   true|\n",
      "|1000080|false| true|   true|\n",
      "|1000100|false|false|   true|\n",
      "|1000110|false|false|   true|\n",
      "|1000130|false| true|   true|\n",
      "|1000280|false|false|   true|\n",
      "+-------+-----+-----+-------+\n",
      "only showing top 10 rows\n",
      "\n"
     ]
    }
   ],
   "source": [
    "## videogames platforms dataframe\n",
    "platforms_df = df.select('appid', 'platforms.*') \\\n",
    "                 .alias('*')\n",
    "\n",
    "platforms_df.show(10)"
   ]
  },
  {
   "cell_type": "code",
   "execution_count": 13,
   "metadata": {},
   "outputs": [
    {
     "name": "stdout",
     "output_type": "stream",
     "text": [
      "+-------+---------------+-----------------------------+---------+--------+------+-----------+------+------+----------+-------+---------+-------+--------+-----+------+-----+-----+-------+--------------------+----------------------+--------+--------+-------+------+--------+--------+------+-----+------+-----+---------+---------+----------+-----+-------+--------+--------+---------+-------+------+------+-------+----------+-------------+----------+-----+-----+-------+---------+---------+-------------+-------+------+----------+-------------------+---------------------+------------------+--------+-------+-------+------------------+------+---------+-----------------------+---------------+-------+-------+-----+------+-----+-------------------+-------------------------------+-------+---------+-----+-----+---------+----------+-----+\n",
      "|  appid|#lang_slovakian|(all with full audio support)|Afrikaans|Albanian|Arabic|Azerbaijani|Bangla|Basque|Belarusian|Bosnian|Bulgarian|Catalan|Croatian|Czech|Danish| Dari|Dutch|English|English (full audio)|English Dutch  English|Estonian|Filipino|Finnish|French|Galician|Georgian|German|Greek|Hebrew|Hindi|Hungarian|Icelandic|Indonesian|Irish|Italian|Italian |Japanese|Japanese |Kannada|Kazakh|Korean|Latvian|Lithuanian|Luxembourgish|Macedonian|Malay|Maori|Marathi|Mongolian|Norwegian|Not supported|Persian|Polish|Portuguese|Portuguese - Brazil|Portuguese - Portugal|Punjabi (Gurmukhi)|Romanian|Russian|Serbian|Simplified Chinese|Slovak|Slovenian|Spanish - Latin America|Spanish - Spain|Swahili|Swedish|Tamil|Telugu| Thai|Traditional Chinese|Traditional Chinese (text only)|Turkish|Ukrainian| Urdu|Uzbek|Valencian|Vietnamese|Welsh|\n",
      "+-------+---------------+-----------------------------+---------+--------+------+-----------+------+------+----------+-------+---------+-------+--------+-----+------+-----+-----+-------+--------------------+----------------------+--------+--------+-------+------+--------+--------+------+-----+------+-----+---------+---------+----------+-----+-------+--------+--------+---------+-------+------+------+-------+----------+-------------+----------+-----+-----+-------+---------+---------+-------------+-------+------+----------+-------------------+---------------------+------------------+--------+-------+-------+------------------+------+---------+-----------------------+---------------+-------+-------+-----+------+-----+-------------------+-------------------------------+-------+---------+-----+-----+---------+----------+-----+\n",
      "|1381880|          false|                        false|    false|   false|  true|      false| false| false|     false|  false|     true|  false|   false| true|  true|false| true|   true|               false|                 false|   false|   false|   true|  true|   false|   false|  true| true| false|false|     true|    false|     false|false|   true|   false|    true|    false|  false| false|  true|  false|     false|        false|     false|false|false|  false|    false|     true|        false|  false|  true|     false|               true|                 true|             false|    true|   true|  false|              true| false|    false|                   true|           true|  false|   true|false| false| true|               true|                          false|   true|     true|false|false|    false|      true|false|\n",
      "|1509510|          false|                        false|    false|   false| false|      false| false| false|     false|  false|    false|  false|   false|false| false|false|false|   true|               false|                 false|   false|   false|  false|  true|   false|   false|  true|false| false|false|    false|    false|     false|false|   true|   false|    true|    false|  false| false|  true|  false|     false|        false|     false|false|false|  false|    false|    false|        false|  false|  true|     false|               true|                false|             false|   false|   true|  false|              true| false|    false|                   true|          false|  false|  false|false| false|false|              false|                          false|   true|    false|false|false|    false|     false|false|\n",
      "| 269650|          false|                        false|    false|   false| false|      false| false| false|     false|  false|    false|  false|   false| true| false|false|false|   true|               false|                 false|   false|   false|  false|  true|   false|   false|  true|false| false|false|     true|    false|     false|false|   true|   false|    true|    false|  false| false| false|  false|     false|        false|     false|false|false|  false|    false|    false|        false|  false|  true|     false|               true|                false|             false|   false|   true|  false|              true| false|    false|                  false|           true|  false|  false|false| false|false|              false|                          false|  false|    false|false|false|    false|     false|false|\n",
      "| 368150|          false|                        false|    false|   false| false|      false| false| false|     false|  false|    false|  false|   false|false| false|false|false|   true|               false|                 false|   false|   false|  false| false|   false|   false| false|false| false|false|    false|    false|     false|false|  false|   false|   false|    false|  false| false| false|  false|     false|        false|     false|false|false|  false|    false|    false|        false|  false| false|     false|              false|                false|             false|   false|  false|  false|             false| false|    false|                  false|          false|  false|  false|false| false|false|              false|                          false|  false|    false|false|false|    false|     false|false|\n",
      "| 372000|          false|                        false|    false|   false| false|      false| false| false|     false|  false|    false|  false|   false|false| false|false|false|   true|               false|                 false|   false|   false|  false| false|   false|   false|  true|false| false|false|    false|    false|     false|false|  false|   false|   false|    false|  false| false| false|  false|     false|        false|     false|false|false|  false|    false|    false|        false|  false| false|     false|               true|                 true|             false|   false|   true|  false|              true| false|    false|                  false|          false|  false|  false|false| false| true|              false|                          false|  false|    false|false|false|    false|     false|false|\n",
      "| 692830|          false|                        false|    false|   false| false|      false| false| false|     false|  false|    false|  false|   false|false| false|false|false|   true|               false|                 false|   false|   false|  false| false|   false|   false| false|false| false|false|    false|    false|     false|false|  false|   false|   false|    false|  false| false| false|  false|     false|        false|     false|false|false|  false|    false|    false|        false|  false| false|     false|              false|                false|             false|   false|  false|  false|             false| false|    false|                  false|          false|  false|  false|false| false|false|              false|                          false|  false|    false|false|false|    false|     false|false|\n",
      "|1153930|          false|                        false|    false|   false| false|      false| false| false|     false|  false|    false|  false|   false|false| false|false|false|   true|               false|                 false|   false|   false|  false|  true|   false|   false|  true|false| false|false|    false|    false|     false|false|  false|   false|    true|    false|  false| false|  true|  false|     false|        false|     false|false|false|  false|    false|    false|        false|  false| false|     false|              false|                false|             false|   false|   true|  false|              true| false|    false|                  false|           true|  false|  false|false| false|false|               true|                          false|   true|     true|false|false|    false|     false|false|\n",
      "|1383220|          false|                        false|    false|   false|  true|      false| false| false|     false|  false|     true|  false|   false| true|  true|false| true|   true|               false|                 false|   false|   false|   true|  true|   false|   false|  true| true| false|false|     true|    false|     false|false|   true|   false|    true|    false|  false| false|  true|  false|     false|        false|     false|false|false|  false|    false|     true|        false|  false|  true|     false|               true|                 true|             false|    true|   true|  false|              true| false|    false|                   true|           true|  false|   true|false| false| true|               true|                          false|   true|     true|false|false|    false|      true|false|\n",
      "|1649080|          false|                        false|    false|   false| false|      false| false| false|     false|  false|    false|  false|   false|false| false|false|false|   true|               false|                 false|   false|   false|  false|  true|   false|   false|  true|false| false|false|    false|    false|     false|false|   true|   false|   false|    false|  false| false|  true|  false|     false|        false|     false|false|false|  false|    false|    false|        false|  false|  true|     false|               true|                false|             false|   false|  false|  false|              true| false|    false|                  false|           true|  false|  false|false| false|false|               true|                          false|   true|    false|false|false|    false|     false|false|\n",
      "| 265000|          false|                        false|    false|   false| false|      false| false| false|     false|  false|    false|  false|   false|false| false|false|false|   true|               false|                 false|   false|   false|  false|  true|   false|   false|  true|false| false|false|    false|    false|     false|false|   true|   false|   false|    false|  false| false| false|  false|     false|        false|     false|false|false|  false|    false|    false|        false|  false| false|     false|              false|                false|             false|   false|   true|  false|             false| false|    false|                  false|           true|  false|  false|false| false|false|              false|                          false|  false|    false|false|false|    false|     false|false|\n",
      "+-------+---------------+-----------------------------+---------+--------+------+-----------+------+------+----------+-------+---------+-------+--------+-----+------+-----+-----+-------+--------------------+----------------------+--------+--------+-------+------+--------+--------+------+-----+------+-----+---------+---------+----------+-----+-------+--------+--------+---------+-------+------+------+-------+----------+-------------+----------+-----+-----+-------+---------+---------+-------------+-------+------+----------+-------------------+---------------------+------------------+--------+-------+-------+------------------+------+---------+-----------------------+---------------+-------+-------+-----+------+-----+-------------------+-------------------------------+-------+---------+-----+-----+---------+----------+-----+\n",
      "only showing top 10 rows\n",
      "\n"
     ]
    }
   ],
   "source": [
    "## videogames languages dataframe\n",
    "search = [r'\\[b\\]\\*\\[/b\\]', '\\r\\n', ';', ', +']\n",
    "replace = ['', ',', ',', ',']\n",
    "languages = df['languages']\n",
    "for s, r in zip(search, replace):\n",
    "    languages = F.regexp_replace(languages, s, r).alias('language')\n",
    "languages = F.explode(F.split(languages, ',')).alias('language')\n",
    "\n",
    "languages_df = df.select('appid', languages) \\\n",
    "                 .groupby('appid') \\\n",
    "                 .pivot('language') \\\n",
    "                 .count()\n",
    "\n",
    "languages_df = languages_df.select(\n",
    "    'appid',\n",
    "    *[F.when(F.col(c).isNull(), 0).otherwise(1).alias(c)\n",
    "      for c in languages_df.columns if c not in {'', 'appid'}],\n",
    ")\n",
    "languages_df = languages_df.withColumn(\n",
    "    'total',\n",
    "    sum([F.col(c) for c in languages_df.columns if c not in {'', 'appid'}])\n",
    ")\n",
    "\n",
    "languages_df.show(10)"
   ]
  },
  {
   "cell_type": "markdown",
   "metadata": {},
   "source": [
    "### Creation of temporary views for SQL querying"
   ]
  },
  {
   "cell_type": "code",
   "execution_count": 14,
   "metadata": {},
   "outputs": [],
   "source": [
    "main_df.createOrReplaceTempView('main')\n",
    "tags_df.createOrReplaceTempView('tags')\n",
    "genres_df.createOrReplaceTempView('genres')\n",
    "release_dates_df.createOrReplaceTempView('release_dates')\n",
    "categories_df.createOrReplaceTempView('categories')\n",
    "platforms_df.createOrReplaceTempView('platforms')\n",
    "languages_df.createOrReplaceTempView('languages')"
   ]
  },
  {
   "cell_type": "markdown",
   "metadata": {},
   "source": [
    "## <a name=\"macro\"></a> Macro-level analysis\n",
    "\n",
    "We begin our study by analyzing the market globally. We will focus on the following:\n",
    "- Games popularity and revenues\n",
    "- Publishers and developers popularity and revenues\n",
    "- Evolution of the market in terms of game releases\n",
    "- Games public and availability\n",
    "\n",
    "\n",
    "### Games popularity and revenues\n",
    "\n",
    "There are interesting patterns in game usage, price and revenues which we highlight here."
   ]
  },
  {
   "cell_type": "code",
   "execution_count": 15,
   "metadata": {},
   "outputs": [
    {
     "name": "stdout",
     "output_type": "stream",
     "text": [
      "+-------+------------------------+-----------------+--------------------+------------------+--------------------+--------------------+\n",
      "|summary|                    name|       owners_low|          owners_est|             price|        revenues_low|        revenues_est|\n",
      "+-------+------------------------+-----------------+--------------------+------------------+--------------------+--------------------+\n",
      "|  count|                   55691|            55691|               55691|             55691|               55691|               55691|\n",
      "|   mean|                Infinity|78868.21928139197|  117232.52959757973| 7.732849832104521|  1000222.2621249394|  1481758.2943004507|\n",
      "| stddev|                     NaN|1095229.232005134|  1686752.1867264835|10.931345827234507|1.2181509657020958E7|1.8184603510661047E7|\n",
      "|    min|          Fieldrunners 2|              0.0|   141.4213562373095|               0.0|                 0.0|                 0.0|\n",
      "|    max|～Daydream～蝶が舞う頃に|            2.0E8|3.1622776601683795E8|             999.0|            1.1998E9|1.8970503683350108E9|\n",
      "+-------+------------------------+-----------------+--------------------+------------------+--------------------+--------------------+\n",
      "\n"
     ]
    }
   ],
   "source": [
    "## dataframe to study owners and revenues\n",
    "df = spark.sql(\n",
    "    \"\"\"\n",
    "    SELECT\n",
    "      name,\n",
    "      owners_low,\n",
    "      owners_est,\n",
    "      price,\n",
    "      price * owners_low AS revenues_low,\n",
    "      price * owners_est AS revenues_est\n",
    "    FROM\n",
    "      main\n",
    "    \"\"\"\n",
    ")\n",
    "df.createOrReplaceTempView('df')\n",
    "df.describe().show() # no direct SQL query for that\n",
    "\n",
    "## with databricks\n",
    "# display(df)"
   ]
  },
  {
   "cell_type": "markdown",
   "metadata": {},
   "source": [
    "The basic statistics shown here reveal interesting characteristics of the game market.\n",
    "- The average game price is below 10$. Actually, 7780 games are free. Such games actually generate a major part of their revenue from in-game microtransactions. This is an important aspect of the video game industry that we will not be able to analyze here.\n",
    "- Concerning game owners and revenues, the mean and the median differ by 3 orgers of magnitude. The market is thus extremely inhomogeneous."
   ]
  },
  {
   "cell_type": "code",
   "execution_count": 16,
   "metadata": {},
   "outputs": [
    {
     "name": "stdout",
     "output_type": "stream",
     "text": [
      "+--------------------+----------+--------------------+-----+-------------------+--------------------+\n",
      "|                name|owners_low|          owners_est|price|       revenues_low|        revenues_est|\n",
      "+--------------------+----------+--------------------+-----+-------------------+--------------------+\n",
      "|              Dota 2|     2.0E8|3.1622776601683795E8|  0.0|                0.0|                 0.0|\n",
      "|           New World|     5.0E7| 7.071067811865476E7|19.99|9.994999999999999E8|1.4135064555919085E9|\n",
      "|     Team Fortress 2|     5.0E7| 7.071067811865476E7|  0.0|                0.0|                 0.0|\n",
      "| PUBG: BATTLEGROUNDS|     5.0E7| 7.071067811865476E7|  0.0|                0.0|                 0.0|\n",
      "|Counter-Strike: G...|     5.0E7| 7.071067811865476E7|  0.0|                0.0|                 0.0|\n",
      "|            Unturned|     2.0E7| 3.162277660168379E7|  0.0|                0.0|                 0.0|\n",
      "|           Destiny 2|     2.0E7| 3.162277660168379E7|  0.0|                0.0|                 0.0|\n",
      "|            Lost Ark|     2.0E7| 3.162277660168379E7|  0.0|                0.0|                 0.0|\n",
      "|Fall Guys: Ultima...|     2.0E7| 3.162277660168379E7|  0.0|                0.0|                 0.0|\n",
      "|        Apex Legends|     2.0E7| 3.162277660168379E7|  0.0|                0.0|                 0.0|\n",
      "|          ELDEN RING|     2.0E7| 3.162277660168379E7|59.99|           1.1998E9|1.8970503683350108E9|\n",
      "|            Terraria|     2.0E7| 3.162277660168379E7| 9.99|            1.998E8| 3.159115382508211E8|\n",
      "|            PAYDAY 2|     2.0E7| 3.162277660168379E7| 9.99|            1.998E8| 3.159115382508211E8|\n",
      "|            Warframe|     2.0E7| 3.162277660168379E7|  0.0|                0.0|                 0.0|\n",
      "|         War Thunder|     2.0E7| 3.162277660168379E7|  0.0|                0.0|                 0.0|\n",
      "|       Path of Exile|     2.0E7| 3.162277660168379E7|  0.0|                0.0|                 0.0|\n",
      "|                Rust|     2.0E7| 3.162277660168379E7|39.99|            7.998E8|1.2645948363013349E9|\n",
      "|  Grand Theft Auto V|     2.0E7| 3.162277660168379E7|29.98|            5.996E8| 9.480508425184801E8|\n",
      "|          Brawlhalla|     2.0E7| 3.162277660168379E7|  0.0|                0.0|                 0.0|\n",
      "|Half-Life 2: Lost...|     2.0E7| 3.162277660168379E7|  0.0|                0.0|                 0.0|\n",
      "+--------------------+----------+--------------------+-----+-------------------+--------------------+\n",
      "only showing top 20 rows\n",
      "\n"
     ]
    }
   ],
   "source": [
    "spark.sql(\"SELECT * FROM df ORDER BY owners_est DESC\").show()"
   ]
  },
  {
   "cell_type": "code",
   "execution_count": 17,
   "metadata": {},
   "outputs": [
    {
     "name": "stdout",
     "output_type": "stream",
     "text": [
      "+--------------------+----------+-------------------+-----+--------------------+--------------------+\n",
      "|                name|owners_low|         owners_est|price|        revenues_low|        revenues_est|\n",
      "+--------------------+----------+-------------------+-----+--------------------+--------------------+\n",
      "|          ELDEN RING|     2.0E7|3.162277660168379E7|59.99|            1.1998E9|1.8970503683350108E9|\n",
      "|           New World|     5.0E7|7.071067811865476E7|19.99| 9.994999999999999E8|1.4135064555919085E9|\n",
      "|                Rust|     2.0E7|3.162277660168379E7|39.99|             7.998E8|1.2645948363013349E9|\n",
      "|  Grand Theft Auto V|     2.0E7|3.162277660168379E7|29.98|             5.996E8| 9.480508425184801E8|\n",
      "|      Cyberpunk 2077|     1.0E7|1.414213562373095E7|59.99|             5.999E8| 8.483867160676197E8|\n",
      "|            HITMAN 2| 5000000.0|  7071067.811865475|99.99|            4.9995E8| 7.070360705084288E8|\n",
      "|Tom Clancy's Rain...|     2.0E7|3.162277660168379E7|19.99|3.9979999999999994E8|  6.32139304267659E8|\n",
      "|             Valheim|     2.0E7|3.162277660168379E7|19.99|3.9979999999999994E8|  6.32139304267659E8|\n",
      "|Mount & Blade II:...|     1.0E7|1.414213562373095E7|39.99|             3.999E8| 5.655440035930008E8|\n",
      "|The Witcher 3: Wi...|     1.0E7|1.414213562373095E7|39.99|             3.999E8| 5.655440035930008E8|\n",
      "|    Battlefield 2042| 5000000.0|  7071067.811865475|59.99|            2.9995E8|4.2419335803380984E8|\n",
      "|      DARK SOULS III| 5000000.0|  7071067.811865475|59.99|            2.9995E8|4.2419335803380984E8|\n",
      "|Sid Meier’s Civil...| 5000000.0|  7071067.811865475|59.99|            2.9995E8|4.2419335803380984E8|\n",
      "|Red Dead Redempti...| 5000000.0|  7071067.811865475|59.99|            2.9995E8|4.2419335803380984E8|\n",
      "|              XCOM 2| 5000000.0|  7071067.811865475|59.99|            2.9995E8|4.2419335803380984E8|\n",
      "|Call of Duty: Bla...| 5000000.0|  7071067.811865475|59.99|            2.9995E8|4.2419335803380984E8|\n",
      "|        No Man's Sky| 5000000.0|  7071067.811865475|59.99|            2.9995E8|4.2419335803380984E8|\n",
      "|Sekiro: Shadows D...| 5000000.0|  7071067.811865475|59.99|            2.9995E8|4.2419335803380984E8|\n",
      "|Total War: WARHAM...| 5000000.0|  7071067.811865475|59.99|            2.9995E8|4.2419335803380984E8|\n",
      "|Monster Hunter: W...|     1.0E7|1.414213562373095E7|29.99|             2.999E8| 4.241226473556912E8|\n",
      "+--------------------+----------+-------------------+-----+--------------------+--------------------+\n",
      "only showing top 20 rows\n",
      "\n"
     ]
    }
   ],
   "source": [
    "spark.sql(\"SELECT * FROM df ORDER BY revenues_est DESC\").show()"
   ]
  },
  {
   "cell_type": "markdown",
   "metadata": {},
   "source": [
    "Among the most popular games, we recognize well known games and franchises (Elden Ring, Grand Theft Auto, The Witcher, etc). We also note that among them, more than half are free to play. This shows that microtransactions are an important part of games revenues from Steam's platform. We will not be able to analyze this source of revenues with this dataset."
   ]
  },
  {
   "cell_type": "code",
   "execution_count": 18,
   "metadata": {},
   "outputs": [
    {
     "data": {
      "image/png": "[encoded data removed]",
      "text/plain": [
       "<Figure size 500x400 with 1 Axes>"
      ]
     },
     "metadata": {},
     "output_type": "display_data"
    }
   ],
   "source": [
    "prices = spark.sql(\"SELECT price FROM df\").toPandas()\n",
    "\n",
    "fig1, ax1 = plt.subplots(\n",
    "    nrows=1, ncols=1, figsize=(5, 4), dpi=100,\n",
    "    gridspec_kw={'left': 0.13, 'right': 0.95, 'top': 0.89, 'bottom': 0.14})\n",
    "fig1.suptitle('Figure 1: Game prices distribution', x=0.02, ha='left')\n",
    "\n",
    "ax1.hist(prices, bins=np.linspace(0, 100, 51))\n",
    "ax1.set_xlim(0, 80)\n",
    "ax1.set_ylim(0, 20000)\n",
    "ax1.set_yticks(np.linspace(0, 20000, 11), np.arange(0, 21, 2))\n",
    "ax1.grid(visible=True)\n",
    "ax1.set_xlabel('Price ($)')\n",
    "ax1.set_ylabel('Number of owners (x1000)')\n",
    "\n",
    "plt.show()"
   ]
  },
  {
   "cell_type": "markdown",
   "metadata": {},
   "source": [
    "Figure 1 shows the distribution of prices. We recover the fact that game prices are low in general. We note that prices have preferential values: 4.99, 9.99, 14.99, etc."
   ]
  },
  {
   "cell_type": "code",
   "execution_count": 19,
   "metadata": {},
   "outputs": [
    {
     "name": "stdout",
     "output_type": "stream",
     "text": [
      "+----------+--------------------+--------------------+\n",
      "|owners_low|               count|           compl_cdf|\n",
      "+----------+--------------------+--------------------+\n",
      "|       0.0|  0.6836293117379828|                 1.0|\n",
      "|   20000.0| 0.13081108258066834|  0.3163706882620172|\n",
      "|   50000.0| 0.06634824298360596| 0.18555960568134888|\n",
      "|  100000.0| 0.04523172505431757|  0.1192113626977429|\n",
      "|  200000.0| 0.03882135354006931| 0.07397963764342533|\n",
      "|  500000.0| 0.01675315580614462|0.035158284103356016|\n",
      "| 1000000.0| 0.00944497315544702|  0.0184051282972114|\n",
      "| 2000000.0|0.006015334614210555|0.008960155141764379|\n",
      "| 5000000.0|0.001741753604711...|0.002944820527553...|\n",
      "|     1.0E7| 7.36205131888456E-4|0.001203066922842111|\n",
      "|     2.0E7|3.770806773087213...| 4.66861790953655E-4|\n",
      "|     5.0E7|7.182489091594693E-5|8.978111364493366E-5|\n",
      "|     2.0E8|1.795622272898673...|1.795622272898673...|\n",
      "+----------+--------------------+--------------------+\n",
      "\n"
     ]
    }
   ],
   "source": [
    "## Cumulative game owners distribution function\n",
    "owners_distrib = spark.sql(\n",
    "    \"\"\"\n",
    "    SELECT \n",
    "      owners_low, \n",
    "      count, \n",
    "      SUM (count) OVER (\n",
    "        ORDER BY \n",
    "          owners_low DESC\n",
    "      ) as compl_cdf\n",
    "    FROM \n",
    "      (\n",
    "        SELECT \n",
    "          owners_low, \n",
    "          COUNT (owners_low) / (\n",
    "            SELECT \n",
    "              COUNT (owners_low) \n",
    "            FROM \n",
    "              df\n",
    "          ) AS count \n",
    "        FROM \n",
    "          df \n",
    "        GROUP BY \n",
    "          owners_low\n",
    "      ) \n",
    "    ORDER BY \n",
    "      owners_low\n",
    "    \"\"\"\n",
    ")\n",
    "owners_distrib.show()"
   ]
  },
  {
   "cell_type": "code",
   "execution_count": 20,
   "metadata": {},
   "outputs": [
    {
     "name": "stdout",
     "output_type": "stream",
     "text": [
      "+-------------------+\n",
      "|           own_frac|\n",
      "+-------------------+\n",
      "|0.04843584130769683|\n",
      "|0.05926642467883706|\n",
      "|0.07009700804997729|\n",
      "|0.08092759142111754|\n",
      "|0.09175817479225777|\n",
      "|0.09660175892302744|\n",
      "|0.10144534305379711|\n",
      "|0.10628892718456678|\n",
      "|0.11113251131533645|\n",
      "|0.11597609544610614|\n",
      "|0.12081967957687581|\n",
      "|0.12566326370764547|\n",
      "|0.13050684783841515|\n",
      "|0.13535043196918484|\n",
      "| 0.1401940160999545|\n",
      "|0.14503760023072418|\n",
      "|0.14988118436149384|\n",
      "|0.15472476849226352|\n",
      "| 0.1595683526230332|\n",
      "|0.16441193675380286|\n",
      "+-------------------+\n",
      "only showing top 20 rows\n",
      "\n"
     ]
    }
   ],
   "source": [
    "## Share of total game usage vs number of games sorted by decreasing number of owners\n",
    "# here we use our owners estimate\n",
    "own_frac_vs_games = spark.sql(\n",
    "    \"\"\"\n",
    "    SELECT\n",
    "      SUM (owners_est) OVER (\n",
    "        ORDER BY \n",
    "          owners_est DESC ROWS UNBOUNDED PRECEDING\n",
    "      ) / (\n",
    "        SELECT \n",
    "          SUM (owners_est) \n",
    "        FROM\n",
    "          df\n",
    "      ) as own_frac\n",
    "    FROM\n",
    "      df\n",
    "    ORDER BY \n",
    "      owners_est DESC\n",
    "    \"\"\"\n",
    ")\n",
    "own_frac_vs_games.show(10)\n",
    "\n",
    "# there is no easy way to do that with SQL\n",
    "own_frac = np.linspace(0, 1, 201, endpoint=True)\n",
    "own_nb_games = np.sum(own_frac_vs_games.toPandas().to_numpy() < own_frac, axis=0)"
   ]
  },
  {
   "cell_type": "code",
   "execution_count": 21,
   "metadata": {},
   "outputs": [],
   "source": [
    "## Cumulative revenues distribution function\n",
    "# again, no easy way to do that with SQL\n",
    "revenues_vals = np.logspace(1, 9, 17)\n",
    "revenues_cdf = spark.sql(\"SELECT revenues_low FROM df\").toPandas().to_numpy()\n",
    "revenues_cdf = np.mean(revenues_cdf >= revenues_vals, axis=0)"
   ]
  },
  {
   "cell_type": "code",
   "execution_count": 22,
   "metadata": {},
   "outputs": [
    {
     "name": "stdout",
     "output_type": "stream",
     "text": [
      "+--------------------+\n",
      "|       revenues_frac|\n",
      "+--------------------+\n",
      "|0.022988809357744527|\n",
      "| 0.04011794360527818|\n",
      "| 0.05544253914147094|\n",
      "| 0.06693119565997704|\n",
      "| 0.07721210374911705|\n",
      "| 0.08578009841350369|\n",
      "| 0.09344048012814468|\n",
      "| 0.10110086184278567|\n",
      "| 0.10795422931210905|\n",
      "|  0.1148075967814324|\n",
      "+--------------------+\n",
      "only showing top 10 rows\n",
      "\n"
     ]
    }
   ],
   "source": [
    "## Share of total game revenues vs number of games sorted by decreasing revenue\n",
    "# here we use our owners estimate to estimate the revenues\n",
    "rev_frac_vs_games = spark.sql(\n",
    "    \"\"\"\n",
    "    SELECT\n",
    "      SUM (revenues_est) OVER (\n",
    "        ORDER BY \n",
    "          revenues_est DESC ROWS UNBOUNDED PRECEDING\n",
    "      ) / (\n",
    "        SELECT \n",
    "          SUM (revenues_est) \n",
    "        FROM\n",
    "          df\n",
    "      ) as revenues_frac\n",
    "    FROM\n",
    "      df\n",
    "    ORDER BY \n",
    "      revenues_est DESC\n",
    "    \"\"\"\n",
    ")\n",
    "rev_frac_vs_games.show(10)\n",
    "\n",
    "# again, no easy way to do that part in SQL          \n",
    "rev_frac = np.linspace(0, 1, 201, endpoint=True)\n",
    "rev_nb_games = np.sum(rev_frac_vs_games.toPandas().to_numpy() < rev_frac, axis=0)"
   ]
  },
  {
   "cell_type": "markdown",
   "metadata": {},
   "source": [
    "This table represents the cumulative fraction of total estimated revenues from the games generating the most revenues (again, without taking into account the microtransactions). We can see that 10 (0.02 % of total games !) games account for 11 % of the total revenues."
   ]
  },
  {
   "cell_type": "code",
   "execution_count": 23,
   "metadata": {},
   "outputs": [
    {
     "data": {
      "image/png": "[encoded data removed]",
      "text/plain": [
       "<Figure size 720x600 with 4 Axes>"
      ]
     },
     "metadata": {},
     "output_type": "display_data"
    }
   ],
   "source": [
    "fig2, axs2 = plt.subplots(\n",
    "    nrows=2, ncols=2, figsize=(7.2, 6), dpi=100,\n",
    "    gridspec_kw={'left': 0.1, 'right': 0.96, 'top': 0.9, 'bottom': 0.1,\n",
    "                 'wspace': 0.26, 'hspace': 0.42})\n",
    "fig2.suptitle('Figure 2: Distribution of game owners and revenues', x=0.02, ha='left')\n",
    "fig2.text(0.5, 0.92, 'Game owners', ha='center', fontsize=11)\n",
    "fig2.text(0.5, 0.46, 'Game revenues', ha='center', fontsize=11)\n",
    "\n",
    "\n",
    "owners_cdf = owners_distrib.toPandas()\n",
    "axs2[0, 0].plot(owners_cdf.owners_low, owners_cdf.compl_cdf,\n",
    "                marker='o', linestyle='')\n",
    "axs2[0, 0].set_xscale('log')\n",
    "axs2[0, 0].set_xlim(1e2, 1e10)\n",
    "axs2[0, 0].set_yscale('log')\n",
    "axs2[0, 0].set_ylim(1e-5, 1)\n",
    "axs2[0, 0].grid(visible=True)\n",
    "axs2[0, 0].set_xlabel('Number of owners')\n",
    "axs2[0, 0].set_ylabel('Fraction of games')\n",
    "axs2[0, 0].set_title('Compl. cumulative distrib.', fontsize=11)\n",
    "\n",
    "\n",
    "axs2[0, 1].plot(own_nb_games, 1-own_frac, marker='', linestyle='-')\n",
    "axs2[0, 1].plot([0, own_nb_games[100], own_nb_games[100]], [0.5, 0.5, 0],\n",
    "                color='k', lw=0.8, ls='--')\n",
    "axs2[0, 1].set_xscale('log')\n",
    "axs2[0, 1].set_xlim(8e-1, 1e5)\n",
    "axs2[0, 1].set_ylim(0, 1)\n",
    "axs2[0, 1].grid(visible=True)\n",
    "axs2[0, 1].set_xlabel('Number of games')\n",
    "axs2[0, 1].set_ylabel('Fraction of total game usage')\n",
    "\n",
    "\n",
    "axs2[1, 0].plot(revenues_vals, revenues_cdf, marker='o', linestyle='')\n",
    "axs2[1, 0].set_xscale('log')\n",
    "axs2[1, 0].set_xlim(1e1, 1e10)\n",
    "axs2[1, 0].set_yscale('log')\n",
    "axs2[1, 0].set_ylim(1e-5, 1)\n",
    "axs2[1, 0].grid(visible=True)\n",
    "axs2[1, 0].set_xlabel('Game revenue ($)')\n",
    "axs2[1, 0].set_ylabel('Fraction of games')\n",
    "axs2[1, 0].set_title('Compl. cumulative distrib.', fontsize=11)\n",
    "\n",
    "\n",
    "axs2[1, 1].plot(rev_nb_games, 1-rev_frac, marker='', linestyle='-')\n",
    "axs2[1, 1].plot([0, rev_nb_games[100], rev_nb_games[100]], [0.5, 0.5, 0],\n",
    "                color='k', lw=0.8, ls='--')\n",
    "axs2[1, 1].set_xscale('log')\n",
    "axs2[1, 1].set_xlim(8e-1, 1e5)\n",
    "axs2[1, 1].set_ylim(0, 1)\n",
    "axs2[1, 1].grid(visible=True)\n",
    "axs2[1, 1].set_xlabel('Number of games')\n",
    "axs2[1, 1].set_ylabel('Fraction of total revenues')\n",
    "\n",
    "\n",
    "plt.show()"
   ]
  },
  {
   "cell_type": "markdown",
   "metadata": {},
   "source": [
    "Figure 2 shows the some characteristics of the distributions of game owners (top) and game revenues (bottom). The left panels show the complementary cumulative distribution functions. A data point represent the fraction of games having larger number of owners/revenues than its abscissa. The first data point at ordinate 1 is not visible. It corresponds to zero abscissa (more than zero owner/zero revenue), and thus does not appear on the log-log plot. The right panels show the fraction of total game units downloaded or game revenues as a function of the number of games, sorted by decreasing importance. These results reveal some important characteristics of the game market:\n",
    "- The distribution of game owners (and therefore of revenues) is fat tailed. Above a certain threshold, the number of games with a $n$ owners is roughly proportional to $p(n) = \\frac{A}{n^{1+\\alpha}}$, where the exponent $\\alpha$ is an empirical parameter of the distribution. The most important consequence is that a very small fraction of the games concentrates most of the game usage.\n",
    "- The distribution of revenues shows that only about 25% of the games seem to produce a revenue. This is of course a strong underestimation: we are missing the revenues from microtransactions, advertisement, etc.\n",
    "- About 400 games (less than 1 %!) account for half the game downloads. This tendency seems even stronger for the revenues with half of the total revenues originating from 200 games (although here we are missing parts of the revenues).\n",
    "\n",
    "This analysis indicates that the videogames market is actually dominated by a few superproductions."
   ]
  },
  {
   "cell_type": "markdown",
   "metadata": {},
   "source": [
    "### Games publishers and developers\n",
    "\n",
    "We now study how the market is shared among game publishers and developers. We first analyze things in terms of games released. One important metric in the game industry is the number of units sold, which we analyze in second.\n",
    "\n",
    "\n",
    "#### Number of game releases"
   ]
  },
  {
   "cell_type": "code",
   "execution_count": 28,
   "metadata": {},
   "outputs": [
    {
     "name": "stdout",
     "output_type": "stream",
     "text": [
      "+--------------------+-------------+---------------------+\n",
      "|           publisher|game_releases|units_distributed_low|\n",
      "+--------------------+-------------+---------------------+\n",
      "|      Big Fish Games|          422|             680000.0|\n",
      "|              8floor|          202|                  0.0|\n",
      "|                SEGA|          165|              5.803E7|\n",
      "|      Strategy First|          151|            4380000.0|\n",
      "|         Square Enix|          141|                4.8E7|\n",
      "|     Choice of Games|          140|             110000.0|\n",
      "|            HH-Games|          132|             100000.0|\n",
      "|       Sekai Project|          132|            4880000.0|\n",
      "|                    |          132|            8130000.0|\n",
      "|             Ubisoft|          127|             1.0252E8|\n",
      "|        Laush Studio|          126|            1040000.0|\n",
      "|          THQ Nordic|          125|              2.623E7|\n",
      "|Alawar Entertainment|          107|             460000.0|\n",
      "|  Fulqrum Publishing|          104|            8660000.0|\n",
      "|     Plug In Digital|          101|            1600000.0|\n",
      "+--------------------+-------------+---------------------+\n",
      "only showing top 15 rows\n",
      "\n"
     ]
    }
   ],
   "source": [
    "publishers_df = spark.sql(\n",
    "    \"\"\"\n",
    "    SELECT \n",
    "      publisher,\n",
    "      COUNT (publisher) AS game_releases,\n",
    "      SUM (owners_low) AS units_distributed_low \n",
    "    FROM \n",
    "      main \n",
    "    GROUP BY \n",
    "      publisher \n",
    "    ORDER BY \n",
    "      game_releases DESC\n",
    "    \"\"\"\n",
    ")\n",
    "publishers_df.createOrReplaceTempView('publishers')\n",
    "publishers_df.show(15)"
   ]
  },
  {
   "cell_type": "code",
   "execution_count": 29,
   "metadata": {},
   "outputs": [
    {
     "name": "stdout",
     "output_type": "stream",
     "text": [
      "+--------------------+-------------+---------------------+\n",
      "|           developer|game_releases|units_distributed_low|\n",
      "+--------------------+-------------+---------------------+\n",
      "|     Choice of Games|          140|             110000.0|\n",
      "|                    |          127|            7740000.0|\n",
      "|             Creobit|          122|            3660000.0|\n",
      "|Laush Dmitriy Ser...|          108|             460000.0|\n",
      "|   Sokpop Collective|           98|             400000.0|\n",
      "|KOEI TECMO GAMES ...|           90|            9190000.0|\n",
      "|      Reforged Group|           89|             430000.0|\n",
      "|  Boogygames Studios|           80|             310000.0|\n",
      "|        Hosted Games|           79|             180000.0|\n",
      "|      Elephant Games|           75|             320000.0|\n",
      "|       Blender Games|           70|             270000.0|\n",
      "|              Dnovel|           66|             140000.0|\n",
      "|                SEGA|           64|            7280000.0|\n",
      "|         Somer Games|           61|             120000.0|\n",
      "| MAGIX Software GmbH|           61|             440000.0|\n",
      "+--------------------+-------------+---------------------+\n",
      "only showing top 15 rows\n",
      "\n"
     ]
    }
   ],
   "source": [
    "developers_df = spark.sql(\n",
    "    \"\"\"\n",
    "    SELECT \n",
    "      developer, \n",
    "      COUNT (developer) AS game_releases,\n",
    "      SUM (owners_low) AS units_distributed_low \n",
    "    FROM \n",
    "      main \n",
    "    GROUP BY \n",
    "      developer\n",
    "    ORDER BY \n",
    "      game_releases DESC\n",
    "    \"\"\"\n",
    ")\n",
    "developers_df.createOrReplaceTempView('developers')\n",
    "developers_df.show(15)"
   ]
  },
  {
   "cell_type": "markdown",
   "metadata": {},
   "source": [
    "There are about 30000 publishers/developers. We recognize some well known companies among top publishers (SEGA, Square Enix). The developer names are less familiar, but we note the presence of individuals (Laush Dmitriy Sergeevich, Artur Smiarowski). These are independent developers, that actually take a large part of the released games. We also note that releasing a large number of games does not imply that a large number of units is distributed."
   ]
  },
  {
   "cell_type": "code",
   "execution_count": 30,
   "metadata": {},
   "outputs": [],
   "source": [
    "## Cumulative distributions of number of game releases for developers and publishers\n",
    "# cannot be done easily with pyspark\n",
    "vals = np.logspace(0, 3, 13)\n",
    "\n",
    "pub_releases_cdf = publishers_df.select('game_releases').toPandas().to_numpy()\n",
    "pub_releases_cdf = np.sum(pub_releases_cdf >= vals, axis=0)\n",
    "\n",
    "dev_releases_cdf = developers_df.select('game_releases').toPandas().to_numpy()\n",
    "dev_releases_cdf = np.sum(dev_releases_cdf >= vals, axis=0)"
   ]
  },
  {
   "cell_type": "code",
   "execution_count": null,
   "metadata": {},
   "outputs": [
    {
     "data": {
      "image/png": "[encoded data removed]",
      "text/plain": [
       "<Figure size 550x400 with 1 Axes>"
      ]
     },
     "metadata": {},
     "output_type": "display_data"
    }
   ],
   "source": [
    "fig3, ax3 = plt.subplots(\n",
    "    nrows=1, ncols=1, figsize=(5.5, 4), dpi=100,\n",
    "    gridspec_kw={'left': 0.13, 'right': 0.97, 'top': 0.88, 'bottom': 0.13})\n",
    "fig3.suptitle('Figure 3: Complementary cumulative distribution of released'\n",
    "              '\\n               games per publisher/developer',\n",
    "              x=0.02, ha='left')\n",
    "\n",
    "ax3.plot(vals, pub_releases_cdf,\n",
    "         marker='o', linestyle='', alpha=0.8, label='publishers')\n",
    "ax3.plot(vals, dev_releases_cdf,\n",
    "         marker='o', linestyle='', alpha=0.7, label='developers')\n",
    "ax3.set_xscale('log')\n",
    "ax3.set_yscale('log')\n",
    "ax3.grid(visible=True)\n",
    "ax3.set_xlabel('number of games published')\n",
    "ax3.set_ylabel('number of publishers/developers')\n",
    "ax3.legend()\n",
    "\n",
    "plt.show()"
   ]
  },
  {
   "cell_type": "markdown",
   "metadata": {},
   "source": [
    "Figure 3 shows the complementary cumulative distribution of games release by publisher/developer. The interpretation is the same as in figure 2: we represent the number of publshers having more than $x$ games published. Similarly to game usage, we note that the distribution is fat-tailed. Out of the 30000, more than 20000 developers/publishers released only one game. Only a dozen released more than 100 games."
   ]
  },
  {
   "cell_type": "markdown",
   "metadata": {},
   "source": [
    "#### Games units distributed\n",
    "\n",
    "We consider here the total number of games sold by (or downloaded from) a publisher/developer."
   ]
  },
  {
   "cell_type": "code",
   "execution_count": null,
   "metadata": {},
   "outputs": [],
   "source": [
    "spark.sql(\"SELECT * FROM publishers ORDER BY units_distributed_low DESC\").show(15)"
   ]
  },
  {
   "cell_type": "code",
   "execution_count": null,
   "metadata": {},
   "outputs": [],
   "source": [
    "spark.sql(\"SELECT * FROM developers ORDER BY units_distributed_low DESC\").show(15)"
   ]
  },
  {
   "cell_type": "markdown",
   "metadata": {},
   "source": [
    "We sort the publishers/developers by number of owners of their games (number of units distributed). The top names are all well known companies. The inhomogeneity in terms of owner base is large, ranging over 7 orders of magnitude. This is a combined effect: the largest companies also attract the largest public."
   ]
  },
  {
   "cell_type": "code",
   "execution_count": null,
   "metadata": {},
   "outputs": [],
   "source": [
    "## Cumulative distributions of number of game releases for developers and publishers\n",
    "vals = np.logspace(3, 9, 19)\n",
    "\n",
    "pub_distribs_cdf = publishers_df.select('units_distributed_low').toPandas().to_numpy()\n",
    "pub_distribs_cdf = np.sum(pub_distribs_cdf >= vals, axis=0)\n",
    "\n",
    "dev_distribs_cdf = developers_df.select('units_distributed_low').toPandas().to_numpy()\n",
    "dev_distribs_cdf = np.sum(dev_distribs_cdf >= vals, axis=0)"
   ]
  },
  {
   "cell_type": "code",
   "execution_count": null,
   "metadata": {},
   "outputs": [],
   "source": [
    "fig4, ax4 = plt.subplots(\n",
    "    nrows=1, ncols=1, figsize=(5.5, 4), dpi=100,\n",
    "    gridspec_kw={'left': 0.13, 'right': 0.97, 'top': 0.88, 'bottom': 0.13})\n",
    "fig4.suptitle('Figure 4: Complementary cumulative distribution of game units'\n",
    "              '\\n               distributed per publisher/developer',\n",
    "              x=0.02, ha='left')\n",
    "\n",
    "ax4.plot(vals, pub_distribs_cdf,\n",
    "         marker='o', linestyle='', alpha=0.8, label='publishers')\n",
    "ax4.plot(vals, dev_distribs_cdf,\n",
    "         marker='o', linestyle='', alpha=0.7, label='developpers')\n",
    "ax4.set_xscale('log')\n",
    "ax4.set_yscale('log')\n",
    "ax4.grid(visible=True)\n",
    "ax4.set_xlabel('Total units owned')\n",
    "ax4.set_ylabel('number of publishers / developers')\n",
    "ax4.legend()\n",
    "\n",
    "plt.show()"
   ]
  },
  {
   "cell_type": "markdown",
   "metadata": {},
   "source": [
    "Figure 4 shows the distribution of owned games by publisher/developer. The position of the first point is approximative due to the large uncertainty in the estination of owners in this case. As expected, we recover a fat-tailed distribution, with a number of units owned that spreads over 7 orders of magnitude. Some companies having \"sold\" close to 1 billion games in total.\n"
   ]
  },
  {
   "cell_type": "markdown",
   "metadata": {},
   "source": [
    "### Evolution of game releases\n",
    "\n",
    "A company can take more risks in terms of game production in the context of a healthy game market. The situation of the latter is therefore an important for our analysis. In this section, we study it through the evolution of game releases.\n",
    "\n",
    "A better indication of the market health would be the evolution of the number of players, which is not available in this dataset."
   ]
  },
  {
   "cell_type": "code",
   "execution_count": null,
   "metadata": {},
   "outputs": [],
   "source": [
    "game_releases_df = spark.sql(\n",
    "    \"\"\"\n",
    "    SELECT \n",
    "      *, \n",
    "      SUM (nb_releases) OVER (\n",
    "        ROWS BETWEEN UNBOUNDED PRECEDING \n",
    "        AND CURRENT ROW\n",
    "      ) AS cum_releases \n",
    "    FROM \n",
    "      (\n",
    "        SELECT \n",
    "          any_value(release_date) - DAY(\n",
    "            any_value(release_date)\n",
    "          ) + 1 AS date, \n",
    "          COUNT (*) AS nb_releases \n",
    "        FROM \n",
    "          release_dates \n",
    "        WHERE \n",
    "          release_date IS NOT NULL \n",
    "        GROUP BY \n",
    "          YEAR (release_date), \n",
    "          MONTH (release_date) \n",
    "        ORDER BY \n",
    "          YEAR (release_date), \n",
    "          MONTH (release_date)\n",
    "      )\n",
    "    \"\"\"\n",
    ")\n",
    "game_releases_df.show()"
   ]
  },
  {
   "cell_type": "code",
   "execution_count": null,
   "metadata": {},
   "outputs": [],
   "source": [
    "game_releases = game_releases_df.toPandas().astype({'date': 'datetime64[s]'})\n",
    "\n",
    "\n",
    "fig5, axs5 = plt.subplots(\n",
    "    nrows=1, ncols=2, figsize=(7, 3.5), dpi=100,\n",
    "    gridspec_kw={'left': 0.09, 'right': 0.97, 'top': 0.89, 'bottom': 0.14, 'wspace': 0.24})\n",
    "fig5.suptitle('Figure 5: Evolution of game releases', x=0.02, ha='left')\n",
    "\n",
    "axs5[0].plot(game_releases.date, game_releases.nb_releases,\n",
    "             marker='', linestyle='-')\n",
    "axs5[0].set_xlim(12410, 19730)\n",
    "axs5[0].xaxis.set_major_locator(mdates.YearLocator(4))\n",
    "axs5[0].set_ylim(0, 900)\n",
    "axs5[0].grid(visible=True)\n",
    "axs5[0].set_xlabel('Date')\n",
    "axs5[0].set_ylabel('Monthly game releases')\n",
    "\n",
    "\n",
    "axs5[1].plot(game_releases.date, game_releases.cum_releases,\n",
    "             marker='', linestyle='-')\n",
    "axs5[1].set_xlim(12410, 19730)\n",
    "axs5[1].xaxis.set_major_locator(mdates.YearLocator(4))\n",
    "axs5[1].set_ylim(0, 60000)\n",
    "axs5[1].set_yticks(np.linspace(0, 60000, 7), np.arange(0, 70, 10))\n",
    "axs5[1].grid(visible=True)\n",
    "axs5[1].set_xlabel('Date')\n",
    "axs5[1].set_ylabel('Cumulative game releases (x 1000)')\n",
    "\n",
    "plt.show()"
   ]
  },
  {
   "cell_type": "markdown",
   "metadata": {},
   "source": [
    "Figure 5 presents the monthly game releases (left panel) and cumulated releases (right panel). Monthly releases stayed under 50 until 2013, when they increased steadily to 400 in 2017. This is possibly the result of an increase in popularity of Steam's platform, or a change of some sort in policy. For instance it could be the possibility for independent game developers to publish their games on the platform. We then note a jump of about 200 releases in 2017, which stabilizes at 600 during about 3 years. Its cause is unclear. This is followed, in early 2020 by another jump in game releases. This last increase occurs during the global COVID lockdown. The number of releases is stable between 700 and 800 since then."
   ]
  },
  {
   "cell_type": "markdown",
   "metadata": {},
   "source": [
    "### General game availability\n",
    "\n",
    "We conclude this section by analyzing games availability on the platform. This should help getting insights about the target audience for a new game. We focus here on age restrictions and language availabilty."
   ]
  },
  {
   "cell_type": "code",
   "execution_count": null,
   "metadata": {},
   "outputs": [],
   "source": [
    "restricted_age_games = spark.sql(\n",
    "    \"\"\"\n",
    "    SELECT\n",
    "      name,\n",
    "      owners_est\n",
    "    FROM \n",
    "      main\n",
    "    WHERE \n",
    "      required_age > 15\n",
    "    ORDER BY \n",
    "      owners_low DESC\n",
    "    \"\"\"\n",
    ")\n",
    "restricted_age_games.show()"
   ]
  },
  {
   "cell_type": "code",
   "execution_count": null,
   "metadata": {},
   "outputs": [],
   "source": [
    "restricted_owners_est = restricted_age_games.select('owners_est').groupBy().sum().collect()[0][0]\n",
    "tot_owners_est = main_df.select('owners_est').groupBy().sum().collect()[0][0]\n",
    "print(\"Estimated number of age-restricted games (16+ yo) sold:\",\n",
    "      f\"{restricted_owners_est/1e6:.0f} M\")\n",
    "print(\"Estimated market share of age-restricted games:\",\n",
    "      f\"{100 * restricted_owners_est / tot_owners_est:.4} %\")"
   ]
  },
  {
   "cell_type": "markdown",
   "metadata": {},
   "source": [
    "Although most games have no age requirements, some superproductions do have an age limit. Age-restricted games represent an estimated 4.3% of the global market share. Producing an age-restricted game has both advantages and disadvantages. On the one hand, the potential customer basis is mechanically reduced. On the other hand, it allows producers to introduce more features and mechanics in their games."
   ]
  },
  {
   "cell_type": "code",
   "execution_count": null,
   "metadata": {},
   "outputs": [],
   "source": [
    "## Could not figure a way to do that with SQL\n",
    "languages_df.toPandas().iloc[:, 2:] \\\n",
    "            .sum() \\\n",
    "            .sort_values(ascending=False) \\\n",
    "            .head(20)"
   ]
  },
  {
   "cell_type": "code",
   "execution_count": null,
   "metadata": {},
   "outputs": [],
   "source": [
    "languages_availability = spark.sql(\n",
    "    \"\"\"\n",
    "    SELECT\n",
    "      main.name,\n",
    "      main.owners_est,\n",
    "      languages.total AS languages_available\n",
    "    FROM\n",
    "      main\n",
    "    INNER JOIN\n",
    "      languages ON main.appid = languages.appid\n",
    "    WHERE\n",
    "      languages.total > 10\n",
    "    ORDER BY \n",
    "      main.owners_est DESC\n",
    "    \"\"\"\n",
    ")\n",
    "languages_availability.show()"
   ]
  },
  {
   "cell_type": "code",
   "execution_count": null,
   "metadata": {},
   "outputs": [],
   "source": [
    "lang_owners_est = languages_availability.select('owners_est').groupBy().sum().collect()[0][0]\n",
    "print(\"Estimated number of games sold available in 10+ languages:\",\n",
    "      f\"{lang_owners_est/1e6:.0f} M\")\n",
    "print(\"Estimated market share of games available in 10+ languages:\",\n",
    "      f\"{100 * lang_owners_est /tot_owners_est:.4} %\")"
   ]
  },
  {
   "cell_type": "markdown",
   "metadata": {},
   "source": [
    "Almost all games are available in english. There is a large gap in language availability between english and other languages. Only about 20% of them are also available in other european languages (french, german, italian, etc). However, those games that attract many players also are available in many languages. About 40% of games downloaded are available in more than 10 languages.\n",
    "\n",
    "It is important to note that language availability does not necessarily means translation of in-game voices, the availability may be limited to menu translation and subtitles."
   ]
  },
  {
   "cell_type": "markdown",
   "metadata": {},
   "source": [
    "## <a name=\"genres\"></a> Genres analysis\n",
    "\n",
    "Some game genres are more popular than others, or more expensive to develop. Some developers/publishers have more expertise in some specific genres. The choice of the genre for a game release must take these factors into account. We now analyze the market from the games genres perspective."
   ]
  },
  {
   "cell_type": "code",
   "execution_count": null,
   "metadata": {},
   "outputs": [],
   "source": [
    "genres_df.toPandas().iloc[:, 1:].sum().sort_values(ascending=False)"
   ]
  },
  {
   "cell_type": "markdown",
   "metadata": {},
   "source": [
    "Most games are from independent developers/publishers (`'Indie'` genre). This is expected since those games are in general faster to produce, and their development is acessible to many people. THe most proeminent genres are the action-adventure games. Casual games, aiming at a broad public rather than the hobbyist player, are also proeminent. This is explained by the fact those, like independent games, are smaller and thus faster to produce. It is also important to note that a game can have multiple genres: `'Action'` and `'Adventure'` often go together, and `'Indie'` is not a genre *per se*."
   ]
  },
  {
   "cell_type": "code",
   "execution_count": null,
   "metadata": {},
   "outputs": [],
   "source": [
    "## average grade for each genre\n",
    "# prepare the dataframe with SQL\n",
    "genres_grades_df = spark.sql(\n",
    "    \"\"\"\n",
    "    SELECT\n",
    "      genres.*,\n",
    "      main.positive / SQRT(main.positive + main.negative) AS weighted_grade,\n",
    "      SQRT(main.positive + main.negative) AS weight\n",
    "    FROM\n",
    "      main\n",
    "    JOIN\n",
    "      genres ON main.appid = genres.appid\n",
    "    \"\"\"\n",
    ")"
   ]
  },
  {
   "cell_type": "code",
   "execution_count": null,
   "metadata": {},
   "outputs": [],
   "source": [
    "## data processing must be done with Pandas\n",
    "genres_grades_df = genres_grades_df.toPandas()\n",
    "genre_grades = {}\n",
    "for genre in genres_grades_df.columns[1:-2]:\n",
    "    df_ = genres_grades_df.loc[genres_grades_df[genre] == 1, ['weighted_grade', 'weight']]\n",
    "    genre_grades[genre] = df_['weighted_grade'].sum() / df_['weight'].sum()\n",
    "\n",
    "grades_df = pd.Series(genre_grades, name='grade')\n",
    "grades_df.sort_values(ascending=False)"
   ]
  },
  {
   "cell_type": "markdown",
   "metadata": {},
   "source": [
    "We compute the genres grades by averaging the number of positive reviews, weighted with the number of reviews for each game. All genres receive generally positive reviews."
   ]
  },
  {
   "cell_type": "code",
   "execution_count": null,
   "metadata": {},
   "outputs": [],
   "source": [
    "def genres_by_publishers(publishers: list[str])-> pd.DataFrame:\n",
    "    \"\"\"\n",
    "    Numbers of games released in each genre category for the given publishers.\n",
    "    \"\"\"\n",
    "    where = '\\n OR '.join(f\"main.publisher == '{pub}'\" for pub in publishers)\n",
    "    df_ = spark.sql(\n",
    "        f\"\"\"\n",
    "        SELECT\n",
    "          genres.*,\n",
    "          main.publisher\n",
    "        FROM\n",
    "          genres\n",
    "        JOIN\n",
    "          main on genres.appid = main.appid\n",
    "        WHERE\n",
    "          {where}\n",
    "        \"\"\"\n",
    "    )\n",
    "    # genres get an ugly name when aggregating in pyspark\n",
    "    df_ = df_.drop('appid').toPandas()\n",
    "    return df_.groupby('publisher').sum().T\n",
    "\n",
    "\n",
    "def genres_by_developers(developers: list[str])-> pd.DataFrame:\n",
    "    \"\"\"\n",
    "    Numbers of games released in each genre category for the given developers.\n",
    "    \"\"\"\n",
    "    where = '\\n OR '.join(f\"main.developer == '{pub}'\" for pub in developers)\n",
    "    df_ = spark.sql(\n",
    "        f\"\"\"\n",
    "        SELECT\n",
    "          genres.*,\n",
    "          main.developer\n",
    "        FROM\n",
    "          genres\n",
    "        JOIN\n",
    "          main on genres.appid = main.appid\n",
    "        WHERE\n",
    "          {where}\n",
    "        \"\"\"\n",
    "    )\n",
    "    # genres get an ugly name when aggregating in pyspark\n",
    "    df_ = df_.drop('appid').toPandas()\n",
    "    return df_.groupby('developer').sum().T"
   ]
  },
  {
   "cell_type": "code",
   "execution_count": null,
   "metadata": {},
   "outputs": [],
   "source": [
    "genres_by_publishers(['Valve', 'Ubisoft'])"
   ]
  },
  {
   "cell_type": "code",
   "execution_count": null,
   "metadata": {},
   "outputs": [],
   "source": [
    "genres_by_developers(['CAPCOM Co., Ltd.', 'Bethesda Game Studios'])"
   ]
  },
  {
   "cell_type": "markdown",
   "metadata": {},
   "source": [
    "We can see that some publishers are specialized in some genres. For instance, Valve published almost exclusively action games. Ubisoft, on the other hand, is more diversified. Developers also specialize in some game genres. Bethesda produces mainly RPGs, while Capcom delelops action-adventure games."
   ]
  },
  {
   "cell_type": "code",
   "execution_count": null,
   "metadata": {},
   "outputs": [],
   "source": [
    "## estimated number of units distributed for each genre\n",
    "genres_owners_df = spark.sql(\n",
    "    \"\"\"\n",
    "    SELECT\n",
    "      genres.*,\n",
    "      main.owners_est AS owners_est\n",
    "    FROM\n",
    "      main\n",
    "    JOIN\n",
    "      genres ON main.appid = genres.appid\n",
    "    \"\"\"\n",
    ")"
   ]
  },
  {
   "cell_type": "code",
   "execution_count": null,
   "metadata": {},
   "outputs": [],
   "source": [
    "## data processing must be done with Pandas\n",
    "genres_owners_df = genres_owners_df.toPandas()\n",
    "genre_owners = {}\n",
    "for genre in genres_owners_df.columns[1:-1]:\n",
    "    df_ = genres_owners_df.loc[genres_owners_df[genre] == 1, ['owners_est']]\n",
    "    genre_owners[genre] = df_['owners_est'].sum()\n",
    "\n",
    "owners_df = pd.Series(genre_owners, name='grade')\n",
    "owners_df.sort_values(ascending=False)"
   ]
  },
  {
   "cell_type": "markdown",
   "metadata": {},
   "source": [
    "Action and adventure are the most popular genres. Independent games also take a significant market share."
   ]
  },
  {
   "cell_type": "code",
   "execution_count": null,
   "metadata": {},
   "outputs": [],
   "source": [
    "## Evolution of game releases by genre\n",
    "genre_releases_df = release_dates_df.join(genres_df, 'appid') \\\n",
    "    .where(F.col('release_date').isNotNull()) \\\n",
    "    .select(F.trunc('release_date', 'month').alias('date'),\n",
    "            *[F.col(c) for c in genres_df.columns if c != 'appid']) \\\n",
    "    .groupBy('date').sum() \\\n",
    "    .sort('date', ascending=True) \\\n",
    "    .toDF('date', *[c for c in genres_df.columns if c != 'appid'])\n",
    "\n",
    "genre_releases_df"
   ]
  },
  {
   "cell_type": "code",
   "execution_count": null,
   "metadata": {},
   "outputs": [],
   "source": [
    "## Cumulative monthly releases\n",
    "cumsum_window = Window.rowsBetween(Window.unboundedPreceding, Window.currentRow)\n",
    "genre_releases_cumsum_df = genre_releases_df.select(\n",
    "    'date',\n",
    "    *[F.sum(c).over(cumsum_window).alias(c)\n",
    "      for c in genre_releases_df.columns if c != 'date'])\n",
    "\n",
    "genre_releases_df = genre_releases_df.toPandas().astype({'date': 'datetime64[s]'})\n",
    "genre_releases_cumsum_df = genre_releases_cumsum_df.toPandas().astype({'date': 'datetime64[s]'})\n",
    "\n",
    "genre_releases_cumsum_df"
   ]
  },
  {
   "cell_type": "code",
   "execution_count": null,
   "metadata": {},
   "outputs": [],
   "source": [
    "COLORS = [\n",
    "    '#7e1e9c', '#15b01a', '#0343df', '#ff81c0', '#653700', '#e50000',\n",
    "    '#95d0fc', '#029386', '#f97306', '#96f97b', '#c20078', '#ffff14',\n",
    "    '#75bbfd', '#0cff0c', '#bf77f6', '#9a0eea', '#033500', '#06c2ac',\n",
    "    '#c79fef', '#00035b', '#d1b26f', '#00ffff', '#06470c', '#929591',\n",
    "    ]\n",
    "\n",
    "fig6, axs6 = plt.subplots(\n",
    "    nrows=1, ncols=2, figsize=(8, 5), dpi=100,\n",
    "    gridspec_kw={'left': 0.08, 'right': 0.97, 'top': 0.59, 'bottom': 0.1, 'wspace': 0.25})\n",
    "fig6.suptitle('Figure 6: Evolution of game genre releases', x=0.02, ha='left')\n",
    "\n",
    "polys = axs6[0].stackplot(\n",
    "    genre_releases_df['date'], genre_releases_df.iloc[:, 1:].T,\n",
    "    colors=COLORS)\n",
    "axs6[0].set_xlim(12410, 19730)\n",
    "axs6[0].xaxis.set_major_locator(mdates.YearLocator(4))\n",
    "axs6[0].set_ylim(0, 2500)\n",
    "axs6[0].set_yticks(np.linspace(0, 2500, 6), np.linspace(0, 2.5, 6))\n",
    "axs6[0].grid(visible=True)\n",
    "axs6[0].set_xlabel('Date')\n",
    "axs6[0].set_ylabel('Monthly releases (x 1000)')\n",
    "\n",
    "\n",
    "axs6[1].stackplot(\n",
    "    genre_releases_cumsum_df['date'], genre_releases_cumsum_df.iloc[:, 1:].T,\n",
    "    baseline='zero', colors=COLORS)\n",
    "axs6[1].set_xlim(12410, 19730)\n",
    "axs6[1].xaxis.set_major_locator(mdates.YearLocator(4))\n",
    "axs6[1].set_ylim(0, 160000)\n",
    "axs6[1].set_yticks(np.linspace(0, 160000, 9), np.arange(0, 180, 20))\n",
    "axs6[1].grid(visible=True)\n",
    "axs6[1].set_xlabel('Date')\n",
    "axs6[1].set_ylabel('Cumulative releases (x 1000)')\n",
    "\n",
    "fig6.legend(handles=polys, labels=genre_releases_df.columns[1:].to_list(),\n",
    "            ncols=4, loc=(0.06, 0.62), fontsize=9)\n",
    "\n",
    "plt.show()"
   ]
  },
  {
   "cell_type": "markdown",
   "metadata": {},
   "source": [
    "Figure 7 shows stack plots of monthly genre releases (left panel) and cumulated releases (right panel) over time. The counts are larger than the number of games since the latter can have multiple genres. The incresaing trend in game releases appear to be balanced between all the major genres. No genre is gaining interest over time."
   ]
  },
  {
   "cell_type": "markdown",
   "metadata": {},
   "source": [
    "## <a name=\"platform\"></a> Platform analysis\n",
    "\n",
    "The choice of platform availability is important in game production. Being available in different platforms brings more public, but this may not be worth the extra costs (eg licences and software adaptation). We therefore conclude our study of the game market by focusing on the importance of the different platform available: Windows, Mac and Linux."
   ]
  },
  {
   "cell_type": "code",
   "execution_count": null,
   "metadata": {},
   "outputs": [],
   "source": [
    "## number of games available on each platform\n",
    "platforms_df.toPandas().iloc[:, 1:].sum().sort_values(ascending=False)"
   ]
  },
  {
   "cell_type": "code",
   "execution_count": null,
   "metadata": {},
   "outputs": [],
   "source": [
    "## fraction of games available on each platform\n",
    "platforms_df.toPandas().iloc[:, 1:].mean().sort_values(ascending=False)"
   ]
  },
  {
   "cell_type": "markdown",
   "metadata": {},
   "source": [
    "Almost all games are available on Windows, while only 23% and 15% of the games are available on Mac and linux, respectively. This makes Windows a mandatory platform for computer games."
   ]
  },
  {
   "cell_type": "code",
   "execution_count": null,
   "metadata": {},
   "outputs": [],
   "source": [
    "## platform availability in terms of games owners\n",
    "## Using pyspark/SQL for this computation is affordable due to the limited number of platforms\n",
    "owner_platform_availability = {}\n",
    "tot_owners = main_df.select(F.sum('owners_est')).collect()[0][0]\n",
    "for platform in platforms_df.columns[1:]:\n",
    "    df_ = spark.sql(\n",
    "        f\"\"\"\n",
    "        SELECT\n",
    "          SUM(main.owners_est) AS {platform}\n",
    "        FROM\n",
    "          main\n",
    "        JOIN\n",
    "          platforms ON main.appid = platforms.appid\n",
    "        WHERE\n",
    "          platforms.{platform} IS TRUE\n",
    "        \"\"\"\n",
    "    )\n",
    "    owner_platform_availability[platform] = [df_.collect()[0][0]/tot_owners]\n",
    "pd.DataFrame(owner_platform_availability, index=['availability'])"
   ]
  },
  {
   "cell_type": "markdown",
   "metadata": {},
   "source": [
    "Although only 15/23% of the games are available to Linux and Mac users, the availability rises to 33/41% in terms of downloaded games. This means that popular games tend to be available on Mac and Linux."
   ]
  },
  {
   "cell_type": "code",
   "execution_count": null,
   "metadata": {},
   "outputs": [],
   "source": [
    "## platform availability in terms of game genres\n",
    "genre_names = genres_df.columns[1:]\n",
    "tot_genres = np.array(genres_df.select(*[F.sum(c) for c in genres_df.columns if c != 'appid']).collect()[0])\n",
    "genre_platform_availability = {}\n",
    "for platform in platforms_df.columns[1:]:\n",
    "    df_ = genres_df.join(platforms_df, 'appid') \\\n",
    "                   .where(F.col(platform) == True) \\\n",
    "                   .select(*[F.sum(c) for c in genres_df.columns if c != 'appid'])\n",
    "    genre_platform_availability[platform] = list(df_.collect()[0])\n",
    "\n",
    "genre_availability_df = pd.DataFrame(genre_platform_availability, index=genre_names)\n",
    "genre_availability_df = genre_availability_df.iloc[np.argsort(tot_genres)[::-1], :]\n",
    "genre_availability_df"
   ]
  },
  {
   "cell_type": "code",
   "execution_count": null,
   "metadata": {},
   "outputs": [],
   "source": [
    "genre_availability_df.div(np.sort(tot_genres)[::-1], axis=0)"
   ]
  },
  {
   "cell_type": "markdown",
   "metadata": {},
   "source": [
    "Independent and strategy games have a larger availability on Mac and Linux platforms than average."
   ]
  },
  {
   "cell_type": "code",
   "execution_count": null,
   "metadata": {},
   "outputs": [],
   "source": [
    "## Monthly game releases\n",
    "## Here we can select the column 'linux', 'mac', 'windows' manually\n",
    "platform_releases_df = spark.sql(\n",
    "    \"\"\"\n",
    "    SELECT\n",
    "      TRUNC(d.release_date, \"month\") as date,\n",
    "      SUM (CAST(platforms.linux AS INTEGER)) AS linux,\n",
    "      SUM (CAST(platforms.mac AS INTEGER)) AS mac,\n",
    "      SUM (CAST(platforms.windows AS INTEGER)) AS windows,\n",
    "      SUM (SUM (CAST(platforms.linux AS INTEGER))) OVER (\n",
    "        ORDER BY \n",
    "          TRUNC(d.release_date, \"month\") ROWS BETWEEN UNBOUNDED PRECEDING \n",
    "        AND CURRENT ROW\n",
    "      ) AS cum_linux,\n",
    "      SUM (SUM (CAST(platforms.mac AS INTEGER))) OVER (\n",
    "        ORDER BY \n",
    "          TRUNC(d.release_date, \"month\") ROWS BETWEEN UNBOUNDED PRECEDING \n",
    "        AND CURRENT ROW\n",
    "      ) AS cum_mac,\n",
    "      SUM (SUM (CAST(platforms.windows AS INTEGER))) OVER (\n",
    "        ORDER BY \n",
    "          TRUNC(d.release_date, \"month\") ROWS BETWEEN UNBOUNDED PRECEDING \n",
    "        AND CURRENT ROW\n",
    "      ) AS cum_windows\n",
    "    FROM\n",
    "      d.release_dates AS d\n",
    "    JOIN\n",
    "      platforms ON d.release_dates.appid = platforms.appid\n",
    "    WHERE\n",
    "      d.release_date IS NOT NULL\n",
    "    GROUP BY\n",
    "      TRUNC(d.release_date, \"month\")\n",
    "    ORDER BY\n",
    "      TRUNC(d.release_date, \"month\")\n",
    "    \"\"\"\n",
    ")\n",
    "platform_releases_df.show()"
   ]
  },
  {
   "cell_type": "code",
   "execution_count": null,
   "metadata": {},
   "outputs": [],
   "source": [
    "platform_monthly_releases = platform_releases_df \\\n",
    "    .select('date', 'linux', 'mac', 'windows') \\\n",
    "    .toPandas().astype({'date': 'datetime64[s]'}) \\\n",
    "    .set_index('date')\n",
    "cum_platform_monthly_releases = platform_releases_df \\\n",
    "    .select('date', 'cum_linux', 'cum_mac', 'cum_windows') \\\n",
    "    .toPandas().astype({'date': 'datetime64[s]'}) \\\n",
    "    .set_index('date')"
   ]
  },
  {
   "cell_type": "code",
   "execution_count": null,
   "metadata": {},
   "outputs": [],
   "source": [
    "fig7, axs7 = plt.subplots(\n",
    "    nrows=1, ncols=2, figsize=(7, 3.8), dpi=100,\n",
    "    gridspec_kw={'left': 0.1, 'right': 0.97, 'top': 0.83, 'bottom': 0.13, 'wspace': 0.25})\n",
    "fig7.suptitle('Figure 7: Evolution of game releases in different platforms', x=0.02, ha='left')\n",
    "\n",
    "polys = axs7[0].stackplot(platform_monthly_releases.index, platform_monthly_releases.T)\n",
    "axs7[0].set_xlim(12410, 19730)\n",
    "axs7[0].xaxis.set_major_locator(mdates.YearLocator(4))\n",
    "axs7[0].set_ylim(0, 1200)\n",
    "axs7[0].set_yticks(np.linspace(0, 1200, 7))\n",
    "axs7[0].grid(visible=True)\n",
    "axs7[0].set_xlabel('Date')\n",
    "axs7[0].set_ylabel('Monthly game releases (x 1000)')\n",
    "\n",
    "axs7[1].stackplot(cum_platform_monthly_releases.index, cum_platform_monthly_releases.T)\n",
    "axs7[1].set_xlim(12410, 19730)\n",
    "axs7[1].xaxis.set_major_locator(mdates.YearLocator(4))\n",
    "axs7[1].set_ylim(0, 80000)\n",
    "axs7[1].set_yticks(np.linspace(0, 80000, 9), np.arange(0, 90, 10))\n",
    "axs7[1].grid(visible=True)\n",
    "axs7[1].set_xlabel('Date')\n",
    "axs7[1].set_ylabel('Cumulative game releases (x 1000)')\n",
    "\n",
    "fig7.legend(handles=polys, labels=platform_monthly_releases.columns.to_list(),\n",
    "            ncols=3, loc=(0.3, 0.86))\n",
    "\n",
    "plt.show()"
   ]
  },
  {
   "cell_type": "markdown",
   "metadata": {},
   "source": [
    "Figure 7 shows stack plots of monthly game releases over time (left panel) and their cumulated number (right panel). The trend is stable over time. The different pLatforms availability does not change significantly over time. No platform seems to be taking over the others."
   ]
  },
  {
   "cell_type": "markdown",
   "metadata": {},
   "source": [
    "## <a name=\"conclusion\"></a> Conclusion and perspectives\n",
    "\n",
    "We can summarize the results of our study of Steam's game marketplace with the following points:\n",
    "- In terms of shares, the market is dominated by a few superproductions from major publisher companies.\n",
    "These games are played by many players and generate the largest revenues. This market structure is actually\n",
    "quite general and occurs accross the whole entertainment inductry (music, movies, series, etc).\n",
    "- About half publishers/developers released only one game. These are independent people or very small companies.\n",
    "Similarly to the revenues, the game release-by-company distribution is fat tailed,\n",
    "with only about 10 companies having released more than 100 games. \n",
    "- This structure translates to the distribution of the company's customer base. The amplitude of variation here is even larger,\n",
    "considering that games released by large comanies also have more players.\n",
    "- The game releases seem stable since early 2020 with about 700-800 monthly releases.\n",
    "- The genre and platform availability of released games is stable over time\n",
    "\n",
    "\n",
    "In terms of strategy for a new videogame from an important company such as Ubisoft, we can provide the following advices:\n",
    "- The company has enough ressources to make a superproduction, which is definitely an option to consider.\n",
    "However, the associated production costs are also large and so are the financial risks.\n",
    "- For a video game with a completely new gameplay or concept, the risks might be unacceptable. For\n",
    "such a game, one could consider being less ambitious and test the concept on a smaller scale, for instance by\n",
    "publishing a game with limited production costs.\n",
    "- In terms of genres, one should focus on the main genres: action adventure, strategy, RPG, etc. and choose from\n",
    "those in which the company has expertise.\n",
    "- For a large production, translating the game is a necessity. Adapting the game to many platforms is also\n",
    "strategic since the associated costs are low as compared to the other production costs.\n",
    "The gains in players likely outweights the adaptation costs.\n",
    "\n",
    "\n",
    "Our analysis has some limitations, some of which we mentioned in the introduction. We recall the most important ones:\n",
    "- We have very limited information on the actual game usage. The number of game owners is provided as a rather braod range\n",
    "which forced us to construct a very rough estimate. We do not now whether people actually play to the game, nor how\n",
    "many time they spend playing.\n",
    "- The number of game owners corresponds to the values at the time when the datset was built. We have no information\n",
    "about its evolution in time, which would be useful to make prospects.\n",
    "- Our data are limited to computer platforms. it would be very beneficial to a market analysis to include video games usage in phones or consoles.\n",
    "- Even in the scope of computer platforms, we are only considering Steam's marketplace.\n",
    "We miss information for video games not directly available on Steam (for instance, Fortnite, one on the most played games)."
   ]
  }
 ],
 "metadata": {
  "kernelspec": {
   "display_name": "main",
   "language": "python",
   "name": "python3"
  },
  "language_info": {
   "codemirror_mode": {
    "name": "ipython",
    "version": 3
   },
   "file_extension": ".py",
   "mimetype": "text/x-python",
   "name": "python",
   "nbconvert_exporter": "python",
   "pygments_lexer": "ipython3",
   "version": "3.12.3"
  }
 },
 "nbformat": 4,
 "nbformat_minor": 2
}
