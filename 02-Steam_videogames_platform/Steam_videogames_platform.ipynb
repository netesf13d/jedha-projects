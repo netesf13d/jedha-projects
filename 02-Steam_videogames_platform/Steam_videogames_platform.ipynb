{
 "cells": [
  {
   "cell_type": "markdown",
   "metadata": {},
   "source": [
    "# Steam videogames platform project\n",
    "\n",
    "In this project, we conduct a study of Steam's game marketplace to understand the videogames market, and determine the most influencial factors for games popularity. We are provided a dataset containing information about the videogames available on Steam platform: names, description, developer, release date, number of owners, ratings, etc. The data corresponds to what is accessible to a customer of the platform. In the perspective of a real market analysis, it is nevertheless missing important information such as the production costs and duration, production means (eg use of generative AI), more precise info on the game mechanics, geographical/age distribution of players, etc.\n",
    "\n",
    "For our analysis, we will follow the guidelines proposed in the project description.\n",
    "\n",
    "\n",
    "Contents\n",
    "--------\n",
    "1. [Data loading and preprocessing](#loading)\n",
    "2. [Macro-level analysis](#macro)\n",
    "3. [Genres analysis](#genres)\n",
    "4. [Platform analysis](#macro)\n",
    "2. [Conclusion and perspectives](#conclusion)\n",
    "\n",
    "\n",
    "Download the data from [https://full-stack-bigdata-datasets.s3.amazonaws.com/Big_Data/Project_Steam/steam_game_output.json](https://full-stack-bigdata-datasets.s3.amazonaws.com/Big_Data/Project_Steam/steam_game_output.json)"
   ]
  },
  {
   "cell_type": "markdown",
   "metadata": {},
   "source": [
    "## <a name=\"loading\"></a> Data loading and preprocessing\n",
    "\n"
   ]
  },
  {
   "cell_type": "code",
   "execution_count": null,
   "metadata": {},
   "outputs": [],
   "source": []
  },
  {
   "cell_type": "code",
   "execution_count": null,
   "metadata": {},
   "outputs": [],
   "source": []
  },
  {
   "cell_type": "markdown",
   "metadata": {},
   "source": [
    "## <a name=\"macro\"></a> Macro-level analysis"
   ]
  },
  {
   "cell_type": "markdown",
   "metadata": {},
   "source": [
    "## <a name=\"genres\"></a> Genres analysis"
   ]
  },
  {
   "cell_type": "markdown",
   "metadata": {},
   "source": []
  },
  {
   "cell_type": "markdown",
   "metadata": {},
   "source": [
    "### Game releasse evolution\n",
    "\n",
    "A company can take more risks in terms of game production in the context of a healthy game market.\n",
    "The situation of the latter is therefore an important for our analysis.\n",
    "In this section, we study it through the evolution of game releases.\n",
    "\n",
    "A better indication of the market health would be the evolution of the number of players,\n",
    "which is not available in this dataset."
   ]
  },
  {
   "cell_type": "markdown",
   "metadata": {},
   "source": []
  },
  {
   "cell_type": "markdown",
   "metadata": {},
   "source": [
    "## <a name=\"platform\"></a> Platform analysis"
   ]
  },
  {
   "cell_type": "markdown",
   "metadata": {},
   "source": [
    "## <a name=\"conclusion\"></a> Conclusion and perspectives\n",
    "\n",
    "We can summarize the results of our study of Steam's game marketplace with the following points:\n",
    "- In terms of shares, the market is dominated by a few superproductions from major publisher companies.\n",
    "These games are played by many players and generate the largest revenues. This market structure is actually\n",
    "quite general and occurs accross the whole entertainment inductry (music, movies, series, etc).\n",
    "- About half publishers/developers released only one game. These are independent people or very small companies.\n",
    "Similarly to the revenues, the game release-by-company distribution is fat tailed,\n",
    "with only about 10 companies having released more than 100 games. \n",
    "- This structure translates to the distribution of the company's customer base. The amplitude of variation here is even larger,\n",
    "considering that games released by large comanies also have more players.\n",
    "- The game releases seem stable since early 2020 with about 700-800 monthly releases.\n",
    "- The genre and platform availability of released games is stable over time\n",
    "\n",
    "\n",
    "In terms of strategy for a new videogame from an important company such as Ubisoft, we can provide the following advices:\n",
    "- The company has enough ressources to make a superproduction, which is definitely an option to consider.\n",
    "However, the associated production costs are also large and so are the financial risks.\n",
    "- For a video game with a completely new gameplay or concept, the risks might be unacceptable. For\n",
    "such a game, one could consider being less ambitious and test the concept on a smaller scale, for instance by\n",
    "publishing a game with limited production costs.\n",
    "- In terms of genres, one should focus on the main genres: action adventure, strategy, RPG, etc. and choose from\n",
    "those in which the company has expertise.\n",
    "- For a large production, translating the game is a necessity. Adapting the game to many platforms is also\n",
    "strategic since the associated costs are low as compared to the other production costs.\n",
    "The gains in players likely outweights the adaptation costs.\n",
    "\n",
    "\n",
    "Our analysis has some limitations, some of which we mentioned in the introduction. We recall the most important ones:\n",
    "- We have very limited information on the actual game usage. The number of game owners is provided as a rather braod range\n",
    "which forced us to construct a very rough estimate. We do not now whether people actually play to the game, nor how\n",
    "many time they spend playing.\n",
    "- The number of game owners corresponds to the values at the time when the datset was built. We have no information\n",
    "about its evolution in time, which would be useful to make prospects.\n",
    "- Our data are limited to computer platforms. it would be very beneficial to a market analysis to include video games usage in phones or consoles.\n",
    "- Even in the scope of computer platforms, we are only considering Steam's marketplace.\n",
    "We miss information for video games not directly available on Steam (for instance, Fortnite, one on the most played games)."
   ]
  }
 ],
 "metadata": {
  "language_info": {
   "name": "python"
  }
 },
 "nbformat": 4,
 "nbformat_minor": 2
}
