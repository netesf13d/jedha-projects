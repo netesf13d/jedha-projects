{
 "cells": [
  {
   "cell_type": "markdown",
   "metadata": {},
   "source": [
    "# Steam videogames platform project\n",
    "\n",
    "In this project, we conduct a study of Steam's game marketplace to understand the videogames market, and determine the most influencial factors for games popularity. We are provided a dataset containing information about the videogames available on Steam platform: names, description, developer, release date, number of owners, ratings, etc. The data corresponds to what is accessible to a customer of the platform. In the perspective of a real market analysis, it is nevertheless missing important information such as the production costs and duration, production means (eg use of generative AI), more precise info on the game mechanics, geographical/age distribution of players, etc.\n",
    "\n",
    "For our analysis, we will follow the guidelines proposed in the project description.\n",
    "\n",
    "\n",
    "Contents\n",
    "--------\n",
    "1. [Data loading and preprocessing](#loading)\n",
    "2. [Macro-level analysis](#macro)\n",
    "3. [Genres analysis](#genres)\n",
    "4. [Platform analysis](#macro)\n",
    "2. [Conclusion and perspectives](#conclusion)\n",
    "\n",
    "\n",
    "Download the data from [https://full-stack-bigdata-datasets.s3.amazonaws.com/Big_Data/Project_Steam/steam_game_output.json](https://full-stack-bigdata-datasets.s3.amazonaws.com/Big_Data/Project_Steam/steam_game_output.json)"
   ]
  },
  {
   "cell_type": "markdown",
   "metadata": {},
   "source": [
    "## <a name=\"loading\"></a> Data loading and preprocessing\n",
    "\n"
   ]
  },
  {
   "cell_type": "code",
   "execution_count": null,
   "metadata": {},
   "outputs": [],
   "source": []
  },
  {
   "cell_type": "code",
   "execution_count": null,
   "metadata": {},
   "outputs": [],
   "source": []
  },
  {
   "cell_type": "markdown",
   "metadata": {},
   "source": [
    "## <a name=\"macro\"></a> Macro-level analysis"
   ]
  }
 ],
 "metadata": {
  "language_info": {
   "name": "python"
  }
 },
 "nbformat": 4,
 "nbformat_minor": 2
}
