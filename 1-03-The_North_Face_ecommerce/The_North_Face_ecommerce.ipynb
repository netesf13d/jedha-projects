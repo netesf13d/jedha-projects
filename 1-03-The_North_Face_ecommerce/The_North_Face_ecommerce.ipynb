{
 "cells": [
  {
   "cell_type": "markdown",
   "metadata": {},
   "source": [
    "# The North Face ecommerce project\n",
    "\n",
    "\n",
    "Contents\n",
    "--------\n",
    "1. [Loading the dataset](#loading)\n",
    "2. [Preliminary EDA](#eda)\n",
    "2. [Conclusion and perspectives](#conclusion)\n",
    "\n"
   ]
  },
  {
   "cell_type": "code",
   "execution_count": null,
   "metadata": {},
   "outputs": [],
   "source": [
    "import csv\n",
    "import re\n",
    "from collections import Counter\n",
    "\n",
    "import numpy as np\n",
    "import pandas as pd\n",
    "import matplotlib.pyplot as plt\n",
    "import spacy\n",
    "import wordcloud"
   ]
  },
  {
   "cell_type": "markdown",
   "metadata": {},
   "source": [
    "## <a id=\"loading\"></a> Data loading and preprocessing\n",
    "\n",
    "download with `python -m spacy download en_core_web_sm`\n",
    "\n",
    "- remove stop words\n",
    "- remove punctuation\n",
    "- normalize to lowercase"
   ]
  },
  {
   "cell_type": "code",
   "execution_count": null,
   "metadata": {},
   "outputs": [],
   "source": [
    "## Load the file\n",
    "with open('../sample-data.csv', 'rt', encoding='utf-8') as f:\n",
    "    reader = csv.reader(f, delimiter=',', quoting=csv.QUOTE_STRINGS)\n",
    "    next(reader, None) # remove header\n",
    "    descriptions = [row[1] for row in reader]"
   ]
  },
  {
   "cell_type": "code",
   "execution_count": null,
   "metadata": {},
   "outputs": [],
   "source": [
    "## remove HTML tags\n",
    "descriptions = [re.sub(r'<[a-z/]+>', ' ', d) for d in descriptions]"
   ]
  },
  {
   "cell_type": "code",
   "execution_count": null,
   "metadata": {},
   "outputs": [],
   "source": [
    "## normalize into lemmas\n",
    "nlp = spacy.load('en_core_web_sm')\n",
    "lemma_corpus = []\n",
    "for desc in descriptions:\n",
    "    doc = nlp(desc)\n",
    "    doc = [wd.lemma_.lower() for wd in doc\n",
    "           if not wd.is_stop and (wd.like_num or wd.is_alpha)]\n",
    "    lemma_corpus.append(np.array(doc))"
   ]
  }
 ],
 "metadata": {
  "kernelspec": {
   "display_name": "main",
   "language": "python",
   "name": "python3"
  },
  "language_info": {
   "name": "python",
   "version": "3.12.3"
  }
 },
 "nbformat": 4,
 "nbformat_minor": 2
}
