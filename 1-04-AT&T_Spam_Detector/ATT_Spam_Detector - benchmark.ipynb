{
 "cells": [
  {
   "cell_type": "markdown",
   "id": "bad6061b-8baa-4ab4-add0-db674cf11620",
   "metadata": {},
   "source": [
    "# **AT&T Spam Detector - Benchmarking**\n",
    "\n",
    "\n",
    "\n",
    "\n",
    "Contents\n",
    "--------\n",
    "1. [Data loading and preprocessing](#loading)\n",
    "2. [Preliminary data analysis](#eda)\n",
    "3. [Benchmarking with a logistic regression](#logreg)"
   ]
  },
  {
   "cell_type": "code",
   "execution_count": null,
   "id": "d1811f85",
   "metadata": {},
   "outputs": [],
   "source": [
    "import time\n",
    "import re\n",
    "from string import punctuation\n",
    "\n",
    "import numpy as np\n",
    "import pandas as pd\n",
    "import matplotlib.pyplot as plt\n",
    "\n",
    "from sklearn.metrics import (precision_recall_curve,\n",
    "                             precision_score,\n",
    "                             recall_score,\n",
    "                             f1_score)\n",
    "from sklearn.model_selection import train_test_split\n",
    "from sklearn.pipeline import Pipeline\n",
    "from sklearn.preprocessing import StandardScaler\n",
    "from sklearn.linear_model import LogisticRegression\n",
    "\n",
    "\n",
    "SEED = 1234\n",
    "PROCESSED_FILENAME = './spam_data.npz'"
   ]
  },
  {
   "cell_type": "markdown",
   "id": "4330265c",
   "metadata": {},
   "source": [
    "## <a id=\"loading\"></a> Data loading and preprocessing\n",
    "\n",
    "The dataset consists of 5574 entries, many of which have issues. Here is a non-exhaustive list:\n",
    "- The file doesn't decode as `UTF-8`. It must be decoded as `latin-1` or `mac-roman`.\n",
    "- Some rows are ill-formed (eg line 101 of the csv: `ham\"\"\",,,`)\n",
    "- Most rows have trailing commas\n",
    "- Some messages are anclosed in (possibly many) double quote characters\n",
    "- Single and double quotes are escaped with backslashes\n",
    "- Some spurious characters are present (eg `å` characters that systematically prepend pound symbols `£`)\n",
    "\n",
    "Fortunately, the original version of the dataset can be found [here](https://archive.ics.uci.edu/dataset/228/sms+spam+collection). Its entries are much cleaner than those of our dataset. We can use them as a comparison to setup the cleaning and processing for our dataset:\n",
    "- Strip the trailing commas\n",
    "- Completely remove the double quotes `\"`\n",
    "- Convert backslashes + single quote `\\'` into single quote `'`\n",
    "- Convert backslashes `\\` into double quotes `\"`\n",
    "- Remove the spurious characters `å`\n",
    "\n",
    "The implementation of this pipeline is given below."
   ]
  },
  {
   "cell_type": "code",
   "execution_count": 5,
   "id": "6587acf5",
   "metadata": {},
   "outputs": [],
   "source": [
    "########## Loading and preprocessing the project dataset ##########\n",
    "with open('./spam.csv', 'rt', encoding='latin-1') as f:\n",
    "    f.readline() # remove header\n",
    "    raw_data = [row.strip().split(',', 1) for row in f.readlines()]\n",
    "\n",
    "## set target\n",
    "is_spam = np.array([True if row[0] == 'spam' else False for row in raw_data])\n",
    "\n",
    "## process and clean messages\n",
    "messages = [row[1].strip(',') \\\n",
    "                  .replace('\"', '') \\\n",
    "                  .replace(\"\\\\'\", \"'\") \\\n",
    "                  .replace('\\\\', '\"') \\\n",
    "                  .replace('å', '')\n",
    "            for row in raw_data]"
   ]
  },
  {
   "cell_type": "markdown",
   "id": "9ed1f96f",
   "metadata": {},
   "source": [
    "However, some encoding issues persist with some problematic characters still present in messages. To proceed with the project we will rather use this original dataset as the starting point. The messages still need some processing:\n",
    "- characters in HTML-escaped form are converted to the corresponding symbol\n",
    "- The `RIGHT SINGLE QUOTATION MARK` character (`\\x92`) is converted into a single quote `'`"
   ]
  },
  {
   "cell_type": "code",
   "execution_count": 6,
   "id": "16c04177",
   "metadata": {},
   "outputs": [],
   "source": [
    "########## Loading and preprocessing the original dataset ##########\n",
    "with open('./SMSSpamCollection', 'rt', encoding='utf-8') as f:\n",
    "    raw_data = [row.strip().split('\\t', 1) for row in f.readlines()]\n",
    "\n",
    "is_spam = np.array([True if row[0] == 'spam' else False for row in raw_data])\n",
    "messages = np.array([row[1].replace('&lt;', '<') \\\n",
    "                           .replace('&gt;', '>') \\\n",
    "                           .replace('&amp;', '&') \\\n",
    "                           .replace('\\x92', \"'\")\n",
    "                     for row in raw_data],\n",
    "                    dtype=object)"
   ]
  },
  {
   "cell_type": "code",
   "execution_count": 7,
   "id": "1b95eaab",
   "metadata": {},
   "outputs": [],
   "source": [
    "## save to numpy zip\n",
    "np.savez(PROCESSED_FILENAME, messages=messages, is_spam=is_spam)"
   ]
  },
  {
   "cell_type": "code",
   "execution_count": 8,
   "id": "77bfa0bf",
   "metadata": {},
   "outputs": [
    {
     "data": {
      "text/html": [
       "<div>\n",
       "<style scoped>\n",
       "    .dataframe tbody tr th:only-of-type {\n",
       "        vertical-align: middle;\n",
       "    }\n",
       "\n",
       "    .dataframe tbody tr th {\n",
       "        vertical-align: top;\n",
       "    }\n",
       "\n",
       "    .dataframe thead th {\n",
       "        text-align: right;\n",
       "    }\n",
       "</style>\n",
       "<table border=\"1\" class=\"dataframe\">\n",
       "  <thead>\n",
       "    <tr style=\"text-align: right;\">\n",
       "      <th></th>\n",
       "      <th>message</th>\n",
       "      <th>is_spam</th>\n",
       "    </tr>\n",
       "  </thead>\n",
       "  <tbody>\n",
       "    <tr>\n",
       "      <th>count</th>\n",
       "      <td>5574</td>\n",
       "      <td>5574</td>\n",
       "    </tr>\n",
       "    <tr>\n",
       "      <th>unique</th>\n",
       "      <td>5160</td>\n",
       "      <td>2</td>\n",
       "    </tr>\n",
       "    <tr>\n",
       "      <th>top</th>\n",
       "      <td>Sorry, I'll call later</td>\n",
       "      <td>False</td>\n",
       "    </tr>\n",
       "    <tr>\n",
       "      <th>freq</th>\n",
       "      <td>30</td>\n",
       "      <td>4827</td>\n",
       "    </tr>\n",
       "  </tbody>\n",
       "</table>\n",
       "</div>"
      ],
      "text/plain": [
       "                       message is_spam\n",
       "count                     5574    5574\n",
       "unique                    5160       2\n",
       "top     Sorry, I'll call later   False\n",
       "freq                        30    4827"
      ]
     },
     "execution_count": 8,
     "metadata": {},
     "output_type": "execute_result"
    }
   ],
   "source": [
    "df = pd.DataFrame({'message': messages, 'is_spam': is_spam})\n",
    "df.describe(include='all')"
   ]
  },
  {
   "cell_type": "markdown",
   "id": "cb955c59",
   "metadata": {},
   "source": [
    "Our dataset contains a total of 5574 messages, with 4827 hams (86.6%) and 747 spams (13.4%). Some messages are duplicates. We choose not to remove them, they certainly represent frequent messages for which making a classification error should be penalized more."
   ]
  },
  {
   "cell_type": "markdown",
   "id": "25683080",
   "metadata": {},
   "source": [
    "## <a id=\"eda\"></a> Preliminary data analysis\n",
    "\n",
    "The messages are quite complex, mixing  uppercase, lowercase, puctuation, alphanumeric and other exotic characters. Training a model to the data would certainly require some form of text normalization. However, this might cause a loss of information. In this section we try to somewhat keep this information and aggregate it in the form of a few descriptive to get insight about what makes a message a spam.\n",
    "\n",
    "An important remark is in order before proceeding with data analysis. Visual inspection of the dataset reveals the presence of some tokens specific to ham messages: `<#>`, `<DECIMAL>`, `<TIME>` and `<URL>` (they appear as `&lt;*&gt;` in the dataset). These were certainly introduced to mask personal information from hams. Although the kind of values that `<DECIMAL>`, `<TIME>` and `<URL>` replace is obvious, this is not the case for `<#>`, which seems to be used in replacement of any kind of value. The character `*` seems to also be used to replace personal information in some ham messages (see for instance message 983). However, this character is also present as such in messages."
   ]
  },
  {
   "cell_type": "code",
   "execution_count": 9,
   "id": "a656ef9b",
   "metadata": {},
   "outputs": [
    {
     "data": {
      "text/html": [
       "<div>\n",
       "<style scoped>\n",
       "    .dataframe tbody tr th:only-of-type {\n",
       "        vertical-align: middle;\n",
       "    }\n",
       "\n",
       "    .dataframe tbody tr th {\n",
       "        vertical-align: top;\n",
       "    }\n",
       "\n",
       "    .dataframe thead th {\n",
       "        text-align: right;\n",
       "    }\n",
       "</style>\n",
       "<table border=\"1\" class=\"dataframe\">\n",
       "  <thead>\n",
       "    <tr style=\"text-align: right;\">\n",
       "      <th></th>\n",
       "      <th>count_&lt;#&gt;</th>\n",
       "      <th>count_&lt;DECIMAL&gt;</th>\n",
       "      <th>count_&lt;TIME&gt;</th>\n",
       "      <th>count_&lt;URL&gt;</th>\n",
       "      <th>count_*</th>\n",
       "    </tr>\n",
       "    <tr>\n",
       "      <th>is_spam</th>\n",
       "      <th></th>\n",
       "      <th></th>\n",
       "      <th></th>\n",
       "      <th></th>\n",
       "      <th></th>\n",
       "    </tr>\n",
       "  </thead>\n",
       "  <tbody>\n",
       "    <tr>\n",
       "      <th>False</th>\n",
       "      <td>276</td>\n",
       "      <td>23</td>\n",
       "      <td>7</td>\n",
       "      <td>3</td>\n",
       "      <td>196</td>\n",
       "    </tr>\n",
       "    <tr>\n",
       "      <th>True</th>\n",
       "      <td>0</td>\n",
       "      <td>0</td>\n",
       "      <td>0</td>\n",
       "      <td>0</td>\n",
       "      <td>115</td>\n",
       "    </tr>\n",
       "  </tbody>\n",
       "</table>\n",
       "</div>"
      ],
      "text/plain": [
       "         count_<#>  count_<DECIMAL>  count_<TIME>  count_<URL>  count_*\n",
       "is_spam                                                                \n",
       "False          276               23             7            3      196\n",
       "True             0                0             0            0      115"
      ]
     },
     "execution_count": 9,
     "metadata": {},
     "output_type": "execute_result"
    }
   ],
   "source": [
    "tokens_df = pd.DataFrame(\n",
    "    {'is_spam': df['is_spam'],\n",
    "     'count_<#>': df['message'].map(lambda x: x.count('<#>')),\n",
    "     'count_<DECIMAL>': df['message'].map(lambda x: x.count('<DECIMAL>')),\n",
    "     'count_<TIME>': df['message'].map(lambda x: x.count('<TIME>')),\n",
    "     'count_<URL>': df['message'].map(lambda x: x.count('<URL>')),\n",
    "     'count_*': df['message'].map(lambda x: x.count('*'))})\n",
    "\n",
    "tokens_df.groupby('is_spam').sum()"
   ]
  },
  {
   "cell_type": "markdown",
   "id": "1ac8e2e9",
   "metadata": {},
   "source": [
    "Indeed, these tokens are specific to hams (except the character `*`). There presence, due to human annotations, could introduce important biases to an automated detection system if not handled properly.\n",
    "\n",
    "With this remark in mind, we can move to the characterization of messages using the following descriptive features:\n",
    "- `msg_len`, the length of the message;\n",
    "- `chr_caps`, the number of capitallized characters;\n",
    "- `chr_digit`, the number of digit characters in the message;\n",
    "- `chr_punct`, the number of punctuation characters in the message;\n",
    "- `max_wd_len`, he length of the longest character string (split by whitespaces);\n",
    "- `lex_money`, the number of some money-related words and characters: `'$'`, `'£'`, `'€'`, `'cash'`, `'free'`, `'price'` and `'prize'`. The presence of these tokens indicates that the message talks about money (after all, spamming is about getting money from people). We could also consider adding words related to the lexical field of sex.\n",
    "- `caps_first`, the number of consecutive capitallized characters at the beginning of the message.\n",
    "\n",
    "For the purpose of data visualization, we remove the duplicates in the dataset."
   ]
  },
  {
   "cell_type": "code",
   "execution_count": 10,
   "id": "73cebbb4",
   "metadata": {},
   "outputs": [],
   "source": [
    "## Define some helper functions\n",
    "def count_tokens(msgs: pd.DataFrame, tokens: list['str'])-> pd.DataFrame:\n",
    "    \"\"\"\n",
    "    Count the number of tokens in the token list from the casefolded messages.\n",
    "    \"\"\"\n",
    "    regex = '|'.join(tokens)\n",
    "    return msgs.apply(lambda x: len(re.findall(regex, x.casefold())))\n",
    "    \n",
    "\n",
    "def count_first_caps(s: str)-> int:\n",
    "    \"\"\"\n",
    "    Count the number of capitallized letters at the beginning of a string.\n",
    "    \"\"\"\n",
    "    n = 0\n",
    "    for c in s:\n",
    "        if not c.isupper():\n",
    "            return n\n",
    "        n += 1\n",
    "    return n\n",
    "\n",
    "\n",
    "def build_features(msgs: pd.DataFrame)-> pd.DataFrame:\n",
    "    \"\"\"\n",
    "    Extract quantitative features from a series of messages.\n",
    "    \"\"\"\n",
    "    data = {\n",
    "        'msg_len': msgs.apply(len),\n",
    "        'chr_caps': msgs.apply(lambda s: sum(c.isupper() for c in s)),\n",
    "        'chr_digit': msgs.apply(lambda s: sum(c.isdigit() for c in s)),\n",
    "        'chr_punct': msgs.apply(lambda s: sum(c in punctuation for c in s)),\n",
    "        'max_wd_len': msgs.apply(lambda s: max(len(x) for x in s.split(' '))),\n",
    "        'lex_money': count_tokens(msgs, [r'\\$', '£', '€', 'free', 'cash', 'price', 'prize']),\n",
    "        'caps_first': msgs.apply(count_first_caps)\n",
    "        }\n",
    "    return pd.DataFrame.from_dict(data)"
   ]
  },
  {
   "cell_type": "code",
   "execution_count": 11,
   "id": "d15563bb",
   "metadata": {},
   "outputs": [],
   "source": [
    "## Prepare dataset from extracted features\n",
    "df_ = df.drop_duplicates()\n",
    "X = build_features(df_['message'])\n",
    "y = df_['is_spam']"
   ]
  },
  {
   "cell_type": "code",
   "execution_count": 12,
   "id": "f2be0fce",
   "metadata": {},
   "outputs": [
    {
     "data": {
      "text/html": [
       "<div>\n",
       "<style scoped>\n",
       "    .dataframe tbody tr th:only-of-type {\n",
       "        vertical-align: middle;\n",
       "    }\n",
       "\n",
       "    .dataframe tbody tr th {\n",
       "        vertical-align: top;\n",
       "    }\n",
       "\n",
       "    .dataframe thead th {\n",
       "        text-align: right;\n",
       "    }\n",
       "</style>\n",
       "<table border=\"1\" class=\"dataframe\">\n",
       "  <thead>\n",
       "    <tr style=\"text-align: right;\">\n",
       "      <th></th>\n",
       "      <th>msg_len</th>\n",
       "      <th>chr_caps</th>\n",
       "      <th>chr_digit</th>\n",
       "      <th>chr_punct</th>\n",
       "      <th>max_wd_len</th>\n",
       "      <th>lex_money</th>\n",
       "      <th>caps_first</th>\n",
       "    </tr>\n",
       "  </thead>\n",
       "  <tbody>\n",
       "    <tr>\n",
       "      <th>count</th>\n",
       "      <td>642.00</td>\n",
       "      <td>642.00</td>\n",
       "      <td>642.00</td>\n",
       "      <td>642.00</td>\n",
       "      <td>642.00</td>\n",
       "      <td>642.00</td>\n",
       "      <td>642.00</td>\n",
       "    </tr>\n",
       "    <tr>\n",
       "      <th>mean</th>\n",
       "      <td>137.41</td>\n",
       "      <td>15.15</td>\n",
       "      <td>15.44</td>\n",
       "      <td>5.64</td>\n",
       "      <td>14.23</td>\n",
       "      <td>1.02</td>\n",
       "      <td>1.65</td>\n",
       "    </tr>\n",
       "    <tr>\n",
       "      <th>std</th>\n",
       "      <td>29.98</td>\n",
       "      <td>12.57</td>\n",
       "      <td>8.94</td>\n",
       "      <td>3.51</td>\n",
       "      <td>6.85</td>\n",
       "      <td>1.11</td>\n",
       "      <td>1.85</td>\n",
       "    </tr>\n",
       "    <tr>\n",
       "      <th>min</th>\n",
       "      <td>13.00</td>\n",
       "      <td>0.00</td>\n",
       "      <td>0.00</td>\n",
       "      <td>0.00</td>\n",
       "      <td>5.00</td>\n",
       "      <td>0.00</td>\n",
       "      <td>0.00</td>\n",
       "    </tr>\n",
       "    <tr>\n",
       "      <th>25%</th>\n",
       "      <td>131.00</td>\n",
       "      <td>7.00</td>\n",
       "      <td>9.00</td>\n",
       "      <td>3.00</td>\n",
       "      <td>11.00</td>\n",
       "      <td>0.00</td>\n",
       "      <td>1.00</td>\n",
       "    </tr>\n",
       "    <tr>\n",
       "      <th>50%</th>\n",
       "      <td>148.00</td>\n",
       "      <td>13.00</td>\n",
       "      <td>16.00</td>\n",
       "      <td>5.00</td>\n",
       "      <td>12.00</td>\n",
       "      <td>1.00</td>\n",
       "      <td>1.00</td>\n",
       "    </tr>\n",
       "    <tr>\n",
       "      <th>75%</th>\n",
       "      <td>157.00</td>\n",
       "      <td>20.00</td>\n",
       "      <td>22.00</td>\n",
       "      <td>8.00</td>\n",
       "      <td>16.00</td>\n",
       "      <td>2.00</td>\n",
       "      <td>1.00</td>\n",
       "    </tr>\n",
       "    <tr>\n",
       "      <th>max</th>\n",
       "      <td>223.00</td>\n",
       "      <td>128.00</td>\n",
       "      <td>47.00</td>\n",
       "      <td>26.00</td>\n",
       "      <td>56.00</td>\n",
       "      <td>5.00</td>\n",
       "      <td>11.00</td>\n",
       "    </tr>\n",
       "  </tbody>\n",
       "</table>\n",
       "</div>"
      ],
      "text/plain": [
       "      msg_len chr_caps chr_digit chr_punct max_wd_len lex_money caps_first\n",
       "count  642.00   642.00    642.00    642.00     642.00    642.00     642.00\n",
       "mean   137.41    15.15     15.44      5.64      14.23      1.02       1.65\n",
       "std     29.98    12.57      8.94      3.51       6.85      1.11       1.85\n",
       "min     13.00     0.00      0.00      0.00       5.00      0.00       0.00\n",
       "25%    131.00     7.00      9.00      3.00      11.00      0.00       1.00\n",
       "50%    148.00    13.00     16.00      5.00      12.00      1.00       1.00\n",
       "75%    157.00    20.00     22.00      8.00      16.00      2.00       1.00\n",
       "max    223.00   128.00     47.00     26.00      56.00      5.00      11.00"
      ]
     },
     "execution_count": 12,
     "metadata": {},
     "output_type": "execute_result"
    }
   ],
   "source": [
    "X_spam = X.loc[y]\n",
    "X_spam.describe().map(lambda x: f\"{x:.2f}\")"
   ]
  },
  {
   "cell_type": "code",
   "execution_count": 13,
   "id": "0623b3ab",
   "metadata": {},
   "outputs": [
    {
     "data": {
      "text/html": [
       "<div>\n",
       "<style scoped>\n",
       "    .dataframe tbody tr th:only-of-type {\n",
       "        vertical-align: middle;\n",
       "    }\n",
       "\n",
       "    .dataframe tbody tr th {\n",
       "        vertical-align: top;\n",
       "    }\n",
       "\n",
       "    .dataframe thead th {\n",
       "        text-align: right;\n",
       "    }\n",
       "</style>\n",
       "<table border=\"1\" class=\"dataframe\">\n",
       "  <thead>\n",
       "    <tr style=\"text-align: right;\">\n",
       "      <th></th>\n",
       "      <th>msg_len</th>\n",
       "      <th>chr_caps</th>\n",
       "      <th>chr_digit</th>\n",
       "      <th>chr_punct</th>\n",
       "      <th>max_wd_len</th>\n",
       "      <th>lex_money</th>\n",
       "      <th>caps_first</th>\n",
       "    </tr>\n",
       "  </thead>\n",
       "  <tbody>\n",
       "    <tr>\n",
       "      <th>count</th>\n",
       "      <td>4518.00</td>\n",
       "      <td>4518.00</td>\n",
       "      <td>4518.00</td>\n",
       "      <td>4518.00</td>\n",
       "      <td>4518.00</td>\n",
       "      <td>4518.00</td>\n",
       "      <td>4518.00</td>\n",
       "    </tr>\n",
       "    <tr>\n",
       "      <th>mean</th>\n",
       "      <td>70.43</td>\n",
       "      <td>3.98</td>\n",
       "      <td>0.30</td>\n",
       "      <td>3.72</td>\n",
       "      <td>8.26</td>\n",
       "      <td>0.02</td>\n",
       "      <td>1.00</td>\n",
       "    </tr>\n",
       "    <tr>\n",
       "      <th>std</th>\n",
       "      <td>55.95</td>\n",
       "      <td>10.89</td>\n",
       "      <td>1.02</td>\n",
       "      <td>4.06</td>\n",
       "      <td>2.84</td>\n",
       "      <td>0.17</td>\n",
       "      <td>0.53</td>\n",
       "    </tr>\n",
       "    <tr>\n",
       "      <th>min</th>\n",
       "      <td>2.00</td>\n",
       "      <td>0.00</td>\n",
       "      <td>0.00</td>\n",
       "      <td>0.00</td>\n",
       "      <td>2.00</td>\n",
       "      <td>0.00</td>\n",
       "      <td>0.00</td>\n",
       "    </tr>\n",
       "    <tr>\n",
       "      <th>25%</th>\n",
       "      <td>33.00</td>\n",
       "      <td>1.00</td>\n",
       "      <td>0.00</td>\n",
       "      <td>1.00</td>\n",
       "      <td>7.00</td>\n",
       "      <td>0.00</td>\n",
       "      <td>1.00</td>\n",
       "    </tr>\n",
       "    <tr>\n",
       "      <th>50%</th>\n",
       "      <td>52.00</td>\n",
       "      <td>2.00</td>\n",
       "      <td>0.00</td>\n",
       "      <td>3.00</td>\n",
       "      <td>8.00</td>\n",
       "      <td>0.00</td>\n",
       "      <td>1.00</td>\n",
       "    </tr>\n",
       "    <tr>\n",
       "      <th>75%</th>\n",
       "      <td>91.00</td>\n",
       "      <td>3.00</td>\n",
       "      <td>0.00</td>\n",
       "      <td>5.00</td>\n",
       "      <td>9.00</td>\n",
       "      <td>0.00</td>\n",
       "      <td>1.00</td>\n",
       "    </tr>\n",
       "    <tr>\n",
       "      <th>max</th>\n",
       "      <td>910.00</td>\n",
       "      <td>129.00</td>\n",
       "      <td>23.00</td>\n",
       "      <td>97.00</td>\n",
       "      <td>49.00</td>\n",
       "      <td>4.00</td>\n",
       "      <td>17.00</td>\n",
       "    </tr>\n",
       "  </tbody>\n",
       "</table>\n",
       "</div>"
      ],
      "text/plain": [
       "       msg_len chr_caps chr_digit chr_punct max_wd_len lex_money caps_first\n",
       "count  4518.00  4518.00   4518.00   4518.00    4518.00   4518.00    4518.00\n",
       "mean     70.43     3.98      0.30      3.72       8.26      0.02       1.00\n",
       "std      55.95    10.89      1.02      4.06       2.84      0.17       0.53\n",
       "min       2.00     0.00      0.00      0.00       2.00      0.00       0.00\n",
       "25%      33.00     1.00      0.00      1.00       7.00      0.00       1.00\n",
       "50%      52.00     2.00      0.00      3.00       8.00      0.00       1.00\n",
       "75%      91.00     3.00      0.00      5.00       9.00      0.00       1.00\n",
       "max     910.00   129.00     23.00     97.00      49.00      4.00      17.00"
      ]
     },
     "execution_count": 13,
     "metadata": {},
     "output_type": "execute_result"
    }
   ],
   "source": [
    "X_ham = X.loc[~y]\n",
    "X_ham.describe().map(lambda x: f\"{x:.2f}\")"
   ]
  },
  {
   "cell_type": "markdown",
   "id": "89c978ad",
   "metadata": {},
   "source": [
    "Some of our derived features are actually quite discriminating for the spam/ham nature of the messages.\n",
    "- The number of digits is clearly the most discriminating feature with a mean of 15 for spams vs 0.3 for hams. 75 % of spams have more than 10 digits while less than 25% have a single digit.\n",
    "- The presence of money-related words 'free', 'cash' and currency characters is also discriminative of spams, although many spams do not have any.\n",
    "- Spams tend to also have larger message lengths, capitallized characters and punctuation characters. However, there is more overlap between the two categories in this case."
   ]
  },
  {
   "cell_type": "code",
   "execution_count": 14,
   "id": "599a91f7",
   "metadata": {},
   "outputs": [],
   "source": [
    "v1, v2 = 'chr_digit', 'max_wd_len'\n",
    "\n",
    "## number of hams with given values of `v1` and `v2`\n",
    "count_ham = X_ham.loc[:, [v1, v2]].value_counts()\n",
    "x_ham, y_ham = count_ham.index.to_frame().to_numpy().T\n",
    "\n",
    "## number of spams with given values of `v1` and `v2`\n",
    "count_spam = X_spam.loc[:, [v1, v2]].value_counts()\n",
    "x_spam, y_spam = count_spam.index.to_frame().to_numpy().T"
   ]
  },
  {
   "cell_type": "code",
   "execution_count": 22,
   "id": "9706e445",
   "metadata": {},
   "outputs": [
    {
     "data": {
      "image/png": "[encoded data removed]",
      "text/plain": [
       "<Figure size 660x576 with 1 Axes>"
      ]
     },
     "metadata": {},
     "output_type": "display_data"
    }
   ],
   "source": [
    "fig1, ax1 = plt.subplots(\n",
    "    nrows=1, ncols=1, figsize=(5.5, 4.8), dpi=120,\n",
    "    gridspec_kw={'left': 0.12, 'right': 0.92, 'top': 0.9, 'bottom': 0.10}\n",
    ")\n",
    "fig1.suptitle('Figure 1: Scatter plot of messages characteristics',\n",
    "              x=0.02, ha='left')\n",
    "\n",
    "sc_ham = ax1.scatter(x_ham, y_ham, count_ham+2,\n",
    "                     c='blue', alpha=0.65, marker='o', linewidths=0,\n",
    "                     label='hams')\n",
    "sc_spam = ax1.scatter(x_spam, y_spam, count_spam+2,\n",
    "                      c='red', alpha=0.7, marker='o', linewidths=0,\n",
    "                      label='spams')\n",
    "\n",
    "ax1.set_xlim(-2, 50)\n",
    "ax1.set_xticks(np.arange(5, 50, 5), minor=True)\n",
    "ax1.set_xlabel('Number of digits `chr_digits`')\n",
    "\n",
    "ax1.set_ylim(-0.5, 60)\n",
    "ax1.set_ylabel('Max word length `max_wd_len`', labelpad=7)\n",
    "\n",
    "ax1.grid(visible=True, which='major', linewidth=0.2)\n",
    "ax1.grid(visible=True, which='minor', linewidth=0.1)\n",
    "\n",
    "legend = ax1.legend()\n",
    "legend.legend_handles[0]._sizes = [30]\n",
    "legend.legend_handles[1]._sizes = [30]\n",
    "\n",
    "plt.show()"
   ]
  },
  {
   "cell_type": "markdown",
   "id": "033b8c72",
   "metadata": {},
   "source": [
    "We show on figure 1 a scatter plot of the number of digits and max word length for both hams (blue) and spams (red). The surface of the points is proportional to the number of messages (with an offset of 2 to facilitate vizualization). Most hams have few digits and are made of short words. We expect that a simple linear model in our engineered feature space will perform very well."
   ]
  },
  {
   "cell_type": "markdown",
   "id": "37f1f029",
   "metadata": {},
   "source": [
    "## <a id=\"logreg\"></a> Benchmarking with a logistic regression\n",
    "\n",
    "We set up a simple logistic regression here as a benchmark for comparison with more advanced deep learning methods.\n",
    "\n",
    "\n",
    "### Model construction and training\n",
    "\n",
    "We keep things simple here: no parameter tuning or decision threshold adjustment. We split the dataset into a train and test set, the latter containing 20% of the observations. We will retain this split for the rest of the project."
   ]
  },
  {
   "cell_type": "code",
   "execution_count": 16,
   "id": "12fe387a",
   "metadata": {},
   "outputs": [],
   "source": [
    "## Simple train-test split, use the dataset with duplicates\n",
    "X_tr, X_test, y_tr, y_test = train_test_split(\n",
    "    build_features(df['message']), df['is_spam'],\n",
    "    test_size=0.2, stratify=df['is_spam'], random_state=1234)\n",
    "\n",
    "## pipeline\n",
    "pipeline = Pipeline([('column_preprocessing', StandardScaler()),\n",
    "                     ('classifier', LogisticRegression())])"
   ]
  },
  {
   "cell_type": "code",
   "execution_count": 17,
   "id": "a13dec4d",
   "metadata": {},
   "outputs": [
    {
     "name": "stdout",
     "output_type": "stream",
     "text": [
      "Logistic regression model training in 0.02 s\n"
     ]
    }
   ],
   "source": [
    "## train\n",
    "t0 = time.time()\n",
    "lr_model = pipeline.fit(X_tr, y_tr)\n",
    "t1 = time.time()\n",
    "print(f'Logistic regression model training in {t1-t0:.2f} s')"
   ]
  },
  {
   "cell_type": "markdown",
   "id": "e830c38a",
   "metadata": {},
   "source": [
    "### Interpretation"
   ]
  },
  {
   "cell_type": "code",
   "execution_count": 18,
   "id": "9e538b4f",
   "metadata": {},
   "outputs": [
    {
     "name": "stdout",
     "output_type": "stream",
     "text": [
      "msg_len    :  0.6964\n",
      "chr_caps   : -0.0129\n",
      "chr_digit  :  3.6684\n",
      "chr_punct  : -1.0832\n",
      "max_wd_len :  0.7654\n",
      "lex_money  :  1.0804\n",
      "caps_first :  0.1634\n"
     ]
    }
   ],
   "source": [
    "feature_names = lr_model['column_preprocessing'].get_feature_names_out()\n",
    "coefs = lr_model['classifier'].coef_[0]\n",
    "for fn, c in zip(feature_names, coefs):\n",
    "    print(f'{fn:<10} : {c: .4f}')"
   ]
  },
  {
   "cell_type": "markdown",
   "id": "cb7afbfa",
   "metadata": {},
   "source": [
    "The most determinant feature is clearly the number of digits in the message (spams have more), followed by the number of punctuation characters (spams have less). The other features are also good predictors, with the exception of the number of capitallized letters and their number at the beginning of the message."
   ]
  },
  {
   "cell_type": "markdown",
   "id": "c024af37",
   "metadata": {},
   "source": [
    "### Model evaluation\n",
    "\n",
    "When considering the performance of our model, we must keep in mind that the masking of some spam words introduce biases. This is especially the case for the masking of digits, the most important feature for the classifiation. The evaluation below thus certainly overestimates the performance. "
   ]
  },
  {
   "cell_type": "code",
   "execution_count": 19,
   "id": "72e77281",
   "metadata": {},
   "outputs": [],
   "source": [
    "## Dataframe to hold the results\n",
    "metric_names = ['precision', 'recall', 'F1-score']\n",
    "index = pd.MultiIndex.from_product(\n",
    "    [('Logistic regression',), ('train', 'test')],\n",
    "    names=['model', 'eval. set'])\n",
    "evaluation_df = pd.DataFrame(np.empty((len(index), 3)),\n",
    "                             index=index, columns=metric_names)"
   ]
  },
  {
   "cell_type": "code",
   "execution_count": 20,
   "id": "6014870c",
   "metadata": {},
   "outputs": [],
   "source": [
    "## evaluate of train set\n",
    "y_pred_tr = lr_model.predict(X_tr)\n",
    "evaluation_df.iloc[0] = (precision_score(y_tr, y_pred_tr),\n",
    "                         recall_score(y_tr, y_pred_tr),\n",
    "                         f1_score(y_tr, y_pred_tr))\n",
    "\n",
    "## evaluate on test set\n",
    "y_pred_test = lr_model.predict(X_test)\n",
    "evaluation_df.iloc[1] = (precision_score(y_test, y_pred_test),\n",
    "                         recall_score(y_test, y_pred_test),\n",
    "                         f1_score(y_test, y_pred_test))"
   ]
  },
  {
   "cell_type": "code",
   "execution_count": 21,
   "id": "66189604",
   "metadata": {},
   "outputs": [
    {
     "data": {
      "text/html": [
       "<div>\n",
       "<style scoped>\n",
       "    .dataframe tbody tr th:only-of-type {\n",
       "        vertical-align: middle;\n",
       "    }\n",
       "\n",
       "    .dataframe tbody tr th {\n",
       "        vertical-align: top;\n",
       "    }\n",
       "\n",
       "    .dataframe thead th {\n",
       "        text-align: right;\n",
       "    }\n",
       "</style>\n",
       "<table border=\"1\" class=\"dataframe\">\n",
       "  <thead>\n",
       "    <tr style=\"text-align: right;\">\n",
       "      <th></th>\n",
       "      <th></th>\n",
       "      <th>precision</th>\n",
       "      <th>recall</th>\n",
       "      <th>F1-score</th>\n",
       "    </tr>\n",
       "    <tr>\n",
       "      <th>model</th>\n",
       "      <th>eval. set</th>\n",
       "      <th></th>\n",
       "      <th></th>\n",
       "      <th></th>\n",
       "    </tr>\n",
       "  </thead>\n",
       "  <tbody>\n",
       "    <tr>\n",
       "      <th rowspan=\"2\" valign=\"top\">Logistic regression</th>\n",
       "      <th>train</th>\n",
       "      <td>0.960967</td>\n",
       "      <td>0.864548</td>\n",
       "      <td>0.910211</td>\n",
       "    </tr>\n",
       "    <tr>\n",
       "      <th>test</th>\n",
       "      <td>0.969466</td>\n",
       "      <td>0.852349</td>\n",
       "      <td>0.907143</td>\n",
       "    </tr>\n",
       "  </tbody>\n",
       "</table>\n",
       "</div>"
      ],
      "text/plain": [
       "                               precision    recall  F1-score\n",
       "model               eval. set                               \n",
       "Logistic regression train       0.960967  0.864548  0.910211\n",
       "                    test        0.969466  0.852349  0.907143"
      ]
     },
     "execution_count": 21,
     "metadata": {},
     "output_type": "execute_result"
    }
   ],
   "source": [
    "evaluation_df"
   ]
  },
  {
   "cell_type": "markdown",
   "id": "ccd04bfd",
   "metadata": {},
   "source": [
    "Not bad! We get a benchmark F1-score of about 0.9. Let us see if we can improve this score."
   ]
  },
  {
   "cell_type": "markdown",
   "id": "57532e66",
   "metadata": {},
   "source": []
  },
  {
   "cell_type": "code",
   "execution_count": null,
   "id": "4a70910f",
   "metadata": {},
   "outputs": [],
   "source": [
    "y_test_score = lr_model.decision_function(X_test)\n",
    "prec, recall, thr_ = precision_recall_curve(y_test, y_test_score)"
   ]
  },
  {
   "cell_type": "code",
   "execution_count": null,
   "id": "36662634",
   "metadata": {},
   "outputs": [],
   "source": [
    "fig2, ax2 = plt.subplots(\n",
    "    nrows=1, ncols=1, figsize=(4.6, 4.6), dpi=120,\n",
    "    gridspec_kw={'left': 0.12, 'right': 0.94, 'top': 0.9, 'bottom': 0.1})\n",
    "\n",
    "fig2.suptitle('Precision-recall curve', x=0.02, ha='left')\n",
    "\n",
    "ax2.set_aspect('equal')\n",
    "l, = ax2.plot(recall, prec, linewidth=1.5)\n",
    "\n",
    "# F1 score iso lines\n",
    "for f1_val in np.linspace(0.2, 0.9, 8):\n",
    "    rec_vals = np.linspace(f1_val/2+0.001, 1, 100)\n",
    "    l, = ax2.plot(rec_vals, rec_vals*f1_val/(2*rec_vals-f1_val),\n",
    "                  lw=1, color='0.5', alpha=0.4)\n",
    "\n",
    "ax2.set_xlabel('Recall')\n",
    "ax2.set_ylabel('Precision')\n",
    "ax2.set_xlim(0, 1.005)\n",
    "ax2.set_ylim(0, 1.005)\n",
    "ax2.grid(visible=True, alpha=0.3)\n",
    "\n",
    "\n",
    "plt.show()"
   ]
  }
 ],
 "metadata": {
  "kernelspec": {
   "display_name": "main",
   "language": "python",
   "name": "python3"
  },
  "language_info": {
   "codemirror_mode": {
    "name": "ipython",
    "version": 3
   },
   "file_extension": ".py",
   "mimetype": "text/x-python",
   "name": "python",
   "nbconvert_exporter": "python",
   "pygments_lexer": "ipython3",
   "version": "3.12.3"
  }
 },
 "nbformat": 4,
 "nbformat_minor": 5
}
