{
 "cells": [
  {
   "cell_type": "markdown",
   "id": "9b8127d7-b4fe-4ac7-9fc7-f1af240bddde",
   "metadata": {},
   "source": [
    "# Plan your trip with Kayak\n",
    "\n",
    "\n",
    "\n",
    "Contents\n",
    "--------\n",
    "1. [Loading the dataset](#loading)\n",
    "2. [Perspectives](#perspectives)"
   ]
  },
  {
   "cell_type": "code",
   "execution_count": null,
   "id": "2e9aaa49-45f7-4a95-986c-78e837e7b37e",
   "metadata": {},
   "outputs": [],
   "source": []
  }
 ],
 "metadata": {
  "kernelspec": {
   "display_name": "Python 3 (ipykernel)",
   "language": "python",
   "name": "python3"
  },
  "language_info": {
   "codemirror_mode": {
    "name": "ipython",
    "version": 3
   },
   "file_extension": ".py",
   "mimetype": "text/x-python",
   "name": "python",
   "nbconvert_exporter": "python",
   "pygments_lexer": "ipython3",
   "version": "3.12.4"
  }
 },
 "nbformat": 4,
 "nbformat_minor": 5
}
