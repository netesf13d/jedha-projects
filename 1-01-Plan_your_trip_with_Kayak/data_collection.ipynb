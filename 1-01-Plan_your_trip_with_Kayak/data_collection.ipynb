{
 "cells": [
  {
   "cell_type": "markdown",
   "id": "16166ceb",
   "metadata": {},
   "source": [
    "# Data Collection and Storage\n",
    "\n",
    "This notebook implements describes the collection and storage of data used for the project application.\n",
    "\n",
    "Contents\n",
    "--------\n",
    "1. [Fetching data through API calls](#api)\n",
    "    1. [Get geocoding information](#geocoding)\n",
    "    2. [Get weather forecast](#weather)\n",
    "2. [Web scraping](#scraping)\n",
    "    1. [Reverse engineering the website requests](#scraping_reverse)\n",
    "    2. [Get hotel information by scraping](#scraping_fetch)\n",
    "3. [Storage in a database](#database)\n",
    "4. [Storage in a data lake](#datalake)\n"
   ]
  },
  {
   "cell_type": "markdown",
   "id": "a76f2e91",
   "metadata": {},
   "source": [
    "## <a name=\"api\"></a>API Calls\n",
    "\n",
    "We request APIs to get geocoding information from the name of a place and weather forecast at given geographic coordinates. Utilities for the corresponding API calls are defined in the module `etl/api_mgmt.py`.\n",
    "\n",
    "To use them, we first setup a `requests.Session`. Since the API servers may limit the number of allowed requests, we add a retry policy to the HTTP session. We also load a file containing the names of the locations of interest."
   ]
  },
  {
   "cell_type": "code",
   "execution_count": 1,
   "id": "0b5df9d8",
   "metadata": {},
   "outputs": [],
   "source": [
    "import csv\n",
    "import json\n",
    "import time\n",
    "\n",
    "import numpy as np\n",
    "import requests\n",
    "from requests.adapters import HTTPAdapter, Retry\n",
    "\n",
    "from etl import get_coords, get_weather_forecast, save_to_json"
   ]
  },
  {
   "cell_type": "code",
   "execution_count": 2,
   "id": "99b12a99",
   "metadata": {},
   "outputs": [],
   "source": [
    "# setup session with retry policy in case of failure\n",
    "s = requests.Session()\n",
    "retries = Retry(total=5, backoff_factor=1, status_forcelist=[403, 502, 503, 504])\n",
    "s.mount('https://', HTTPAdapter(max_retries=retries))\n",
    "\n",
    "# Load locations of interest\n",
    "with open(\"./data/places.csv\", 'rt', encoding='utf-8') as f:\n",
    "    reader = csv.reader(f, delimiter=',')\n",
    "    next(reader, None) # remove header\n",
    "    locations = [row for row in reader]"
   ]
  },
  {
   "cell_type": "markdown",
   "id": "e9549f80",
   "metadata": {},
   "source": [
    "### <a name=\"geocoding\"></a>Get geocoding information\n",
    "\n",
    "We use [Nominatim API](https://nominatim.org/) to fetch geocoding information. The API is quite restrictive in its [use policy](https://operations.osmfoundation.org/policies/nominatim/). Most importantly, the number of requests is limited to one per second, which forces us to throttle the rate accordingly."
   ]
  },
  {
   "cell_type": "code",
   "execution_count": 3,
   "id": "a2862d28",
   "metadata": {},
   "outputs": [
    {
     "ename": "KeyboardInterrupt",
     "evalue": "",
     "output_type": "error",
     "traceback": [
      "\u001b[1;31m---------------------------------------------------------------------------\u001b[0m",
      "\u001b[1;31mKeyboardInterrupt\u001b[0m                         Traceback (most recent call last)",
      "Cell \u001b[1;32mIn[3], line 4\u001b[0m\n\u001b[0;32m      1\u001b[0m coordinates \u001b[38;5;241m=\u001b[39m {}\n\u001b[0;32m      2\u001b[0m \u001b[38;5;28;01mfor\u001b[39;00m i, loc \u001b[38;5;129;01min\u001b[39;00m \u001b[38;5;28menumerate\u001b[39m(locations):\n\u001b[0;32m      3\u001b[0m     coordinates[i] \u001b[38;5;241m=\u001b[39m ({\u001b[38;5;124m'\u001b[39m\u001b[38;5;124mplace\u001b[39m\u001b[38;5;124m'\u001b[39m: loc[\u001b[38;5;241m0\u001b[39m], \u001b[38;5;124m'\u001b[39m\u001b[38;5;124mcountry\u001b[39m\u001b[38;5;124m'\u001b[39m: loc[\u001b[38;5;241m1\u001b[39m]} \n\u001b[1;32m----> 4\u001b[0m                       \u001b[38;5;241m|\u001b[39m get_coords(s, \u001b[38;5;124mf\u001b[39m\u001b[38;5;124m\"\u001b[39m\u001b[38;5;132;01m{\u001b[39;00mloc[\u001b[38;5;241m0\u001b[39m]\u001b[38;5;132;01m}\u001b[39;00m\u001b[38;5;124m, \u001b[39m\u001b[38;5;132;01m{\u001b[39;00mloc[\u001b[38;5;241m1\u001b[39m]\u001b[38;5;132;01m}\u001b[39;00m\u001b[38;5;124m\"\u001b[39m))\n\u001b[0;32m      5\u001b[0m     time\u001b[38;5;241m.\u001b[39msleep(\u001b[38;5;241m1.1\u001b[39m)\n\u001b[0;32m      7\u001b[0m coordinates[\u001b[38;5;241m4\u001b[39m]\n",
      "File \u001b[1;32md:\\dev\\jedha-projects\\1-01-Plan_your_trip_with_Kayak\\etl\\api_mgmt.py:58\u001b[0m, in \u001b[0;36mget_coords\u001b[1;34m(session, location, **kwargs)\u001b[0m\n\u001b[0;32m     30\u001b[0m \u001b[38;5;250m\u001b[39m\u001b[38;5;124;03m\"\"\"\u001b[39;00m\n\u001b[0;32m     31\u001b[0m \u001b[38;5;124;03mGet the geographic coordinates of a selected location using\u001b[39;00m\n\u001b[0;32m     32\u001b[0m \u001b[38;5;124;03m[Nominatim API](https://nominatim.org/).\u001b[39;00m\n\u001b[1;32m   (...)\u001b[0m\n\u001b[0;32m     55\u001b[0m \u001b[38;5;124;03m{'latitude': nan, 'longitude': nan} # may also raise HTTPError\u001b[39;00m\n\u001b[0;32m     56\u001b[0m \u001b[38;5;124;03m\"\"\"\u001b[39;00m\n\u001b[0;32m     57\u001b[0m params \u001b[38;5;241m=\u001b[39m kwargs \u001b[38;5;241m|\u001b[39m {\u001b[38;5;124m'\u001b[39m\u001b[38;5;124mq\u001b[39m\u001b[38;5;124m'\u001b[39m: location, \u001b[38;5;124m'\u001b[39m\u001b[38;5;124mformat\u001b[39m\u001b[38;5;124m'\u001b[39m: \u001b[38;5;124m'\u001b[39m\u001b[38;5;124mgeojson\u001b[39m\u001b[38;5;124m'\u001b[39m}\n\u001b[1;32m---> 58\u001b[0m r \u001b[38;5;241m=\u001b[39m session\u001b[38;5;241m.\u001b[39mget(\u001b[38;5;124m\"\u001b[39m\u001b[38;5;124mhttps://nominatim.openstreetmap.org/search\u001b[39m\u001b[38;5;124m\"\u001b[39m,\n\u001b[0;32m     59\u001b[0m                  headers\u001b[38;5;241m=\u001b[39m{\u001b[38;5;124m'\u001b[39m\u001b[38;5;124mUser-agent\u001b[39m\u001b[38;5;124m'\u001b[39m: USER_AGENT},\n\u001b[0;32m     60\u001b[0m                  params\u001b[38;5;241m=\u001b[39mparams)\n\u001b[0;32m     61\u001b[0m r\u001b[38;5;241m.\u001b[39mraise_for_status()\n\u001b[0;32m     62\u001b[0m results \u001b[38;5;241m=\u001b[39m r\u001b[38;5;241m.\u001b[39mjson()[\u001b[38;5;124m'\u001b[39m\u001b[38;5;124mfeatures\u001b[39m\u001b[38;5;124m'\u001b[39m]\n",
      "File \u001b[1;32mc:\\Users\\netes\\anaconda3\\envs\\main\\Lib\\site-packages\\requests\\sessions.py:602\u001b[0m, in \u001b[0;36mSession.get\u001b[1;34m(self, url, **kwargs)\u001b[0m\n\u001b[0;32m    594\u001b[0m \u001b[38;5;250m\u001b[39m\u001b[38;5;124mr\u001b[39m\u001b[38;5;124;03m\"\"\"Sends a GET request. Returns :class:`Response` object.\u001b[39;00m\n\u001b[0;32m    595\u001b[0m \n\u001b[0;32m    596\u001b[0m \u001b[38;5;124;03m:param url: URL for the new :class:`Request` object.\u001b[39;00m\n\u001b[0;32m    597\u001b[0m \u001b[38;5;124;03m:param \\*\\*kwargs: Optional arguments that ``request`` takes.\u001b[39;00m\n\u001b[0;32m    598\u001b[0m \u001b[38;5;124;03m:rtype: requests.Response\u001b[39;00m\n\u001b[0;32m    599\u001b[0m \u001b[38;5;124;03m\"\"\"\u001b[39;00m\n\u001b[0;32m    601\u001b[0m kwargs\u001b[38;5;241m.\u001b[39msetdefault(\u001b[38;5;124m\"\u001b[39m\u001b[38;5;124mallow_redirects\u001b[39m\u001b[38;5;124m\"\u001b[39m, \u001b[38;5;28;01mTrue\u001b[39;00m)\n\u001b[1;32m--> 602\u001b[0m \u001b[38;5;28;01mreturn\u001b[39;00m \u001b[38;5;28mself\u001b[39m\u001b[38;5;241m.\u001b[39mrequest(\u001b[38;5;124m\"\u001b[39m\u001b[38;5;124mGET\u001b[39m\u001b[38;5;124m\"\u001b[39m, url, \u001b[38;5;241m*\u001b[39m\u001b[38;5;241m*\u001b[39mkwargs)\n",
      "File \u001b[1;32mc:\\Users\\netes\\anaconda3\\envs\\main\\Lib\\site-packages\\requests\\sessions.py:589\u001b[0m, in \u001b[0;36mSession.request\u001b[1;34m(self, method, url, params, data, headers, cookies, files, auth, timeout, allow_redirects, proxies, hooks, stream, verify, cert, json)\u001b[0m\n\u001b[0;32m    584\u001b[0m send_kwargs \u001b[38;5;241m=\u001b[39m {\n\u001b[0;32m    585\u001b[0m     \u001b[38;5;124m\"\u001b[39m\u001b[38;5;124mtimeout\u001b[39m\u001b[38;5;124m\"\u001b[39m: timeout,\n\u001b[0;32m    586\u001b[0m     \u001b[38;5;124m\"\u001b[39m\u001b[38;5;124mallow_redirects\u001b[39m\u001b[38;5;124m\"\u001b[39m: allow_redirects,\n\u001b[0;32m    587\u001b[0m }\n\u001b[0;32m    588\u001b[0m send_kwargs\u001b[38;5;241m.\u001b[39mupdate(settings)\n\u001b[1;32m--> 589\u001b[0m resp \u001b[38;5;241m=\u001b[39m \u001b[38;5;28mself\u001b[39m\u001b[38;5;241m.\u001b[39msend(prep, \u001b[38;5;241m*\u001b[39m\u001b[38;5;241m*\u001b[39msend_kwargs)\n\u001b[0;32m    591\u001b[0m \u001b[38;5;28;01mreturn\u001b[39;00m resp\n",
      "File \u001b[1;32mc:\\Users\\netes\\anaconda3\\envs\\main\\Lib\\site-packages\\requests\\sessions.py:703\u001b[0m, in \u001b[0;36mSession.send\u001b[1;34m(self, request, **kwargs)\u001b[0m\n\u001b[0;32m    700\u001b[0m start \u001b[38;5;241m=\u001b[39m preferred_clock()\n\u001b[0;32m    702\u001b[0m \u001b[38;5;66;03m# Send the request\u001b[39;00m\n\u001b[1;32m--> 703\u001b[0m r \u001b[38;5;241m=\u001b[39m adapter\u001b[38;5;241m.\u001b[39msend(request, \u001b[38;5;241m*\u001b[39m\u001b[38;5;241m*\u001b[39mkwargs)\n\u001b[0;32m    705\u001b[0m \u001b[38;5;66;03m# Total elapsed time of the request (approximately)\u001b[39;00m\n\u001b[0;32m    706\u001b[0m elapsed \u001b[38;5;241m=\u001b[39m preferred_clock() \u001b[38;5;241m-\u001b[39m start\n",
      "File \u001b[1;32mc:\\Users\\netes\\anaconda3\\envs\\main\\Lib\\site-packages\\requests\\adapters.py:667\u001b[0m, in \u001b[0;36mHTTPAdapter.send\u001b[1;34m(self, request, stream, timeout, verify, cert, proxies)\u001b[0m\n\u001b[0;32m    664\u001b[0m     timeout \u001b[38;5;241m=\u001b[39m TimeoutSauce(connect\u001b[38;5;241m=\u001b[39mtimeout, read\u001b[38;5;241m=\u001b[39mtimeout)\n\u001b[0;32m    666\u001b[0m \u001b[38;5;28;01mtry\u001b[39;00m:\n\u001b[1;32m--> 667\u001b[0m     resp \u001b[38;5;241m=\u001b[39m conn\u001b[38;5;241m.\u001b[39murlopen(\n\u001b[0;32m    668\u001b[0m         method\u001b[38;5;241m=\u001b[39mrequest\u001b[38;5;241m.\u001b[39mmethod,\n\u001b[0;32m    669\u001b[0m         url\u001b[38;5;241m=\u001b[39murl,\n\u001b[0;32m    670\u001b[0m         body\u001b[38;5;241m=\u001b[39mrequest\u001b[38;5;241m.\u001b[39mbody,\n\u001b[0;32m    671\u001b[0m         headers\u001b[38;5;241m=\u001b[39mrequest\u001b[38;5;241m.\u001b[39mheaders,\n\u001b[0;32m    672\u001b[0m         redirect\u001b[38;5;241m=\u001b[39m\u001b[38;5;28;01mFalse\u001b[39;00m,\n\u001b[0;32m    673\u001b[0m         assert_same_host\u001b[38;5;241m=\u001b[39m\u001b[38;5;28;01mFalse\u001b[39;00m,\n\u001b[0;32m    674\u001b[0m         preload_content\u001b[38;5;241m=\u001b[39m\u001b[38;5;28;01mFalse\u001b[39;00m,\n\u001b[0;32m    675\u001b[0m         decode_content\u001b[38;5;241m=\u001b[39m\u001b[38;5;28;01mFalse\u001b[39;00m,\n\u001b[0;32m    676\u001b[0m         retries\u001b[38;5;241m=\u001b[39m\u001b[38;5;28mself\u001b[39m\u001b[38;5;241m.\u001b[39mmax_retries,\n\u001b[0;32m    677\u001b[0m         timeout\u001b[38;5;241m=\u001b[39mtimeout,\n\u001b[0;32m    678\u001b[0m         chunked\u001b[38;5;241m=\u001b[39mchunked,\n\u001b[0;32m    679\u001b[0m     )\n\u001b[0;32m    681\u001b[0m \u001b[38;5;28;01mexcept\u001b[39;00m (ProtocolError, \u001b[38;5;167;01mOSError\u001b[39;00m) \u001b[38;5;28;01mas\u001b[39;00m err:\n\u001b[0;32m    682\u001b[0m     \u001b[38;5;28;01mraise\u001b[39;00m \u001b[38;5;167;01mConnectionError\u001b[39;00m(err, request\u001b[38;5;241m=\u001b[39mrequest)\n",
      "File \u001b[1;32mc:\\Users\\netes\\anaconda3\\envs\\main\\Lib\\site-packages\\urllib3\\connectionpool.py:787\u001b[0m, in \u001b[0;36mHTTPConnectionPool.urlopen\u001b[1;34m(self, method, url, body, headers, retries, redirect, assert_same_host, timeout, pool_timeout, release_conn, chunked, body_pos, preload_content, decode_content, **response_kw)\u001b[0m\n\u001b[0;32m    784\u001b[0m response_conn \u001b[38;5;241m=\u001b[39m conn \u001b[38;5;28;01mif\u001b[39;00m \u001b[38;5;129;01mnot\u001b[39;00m release_conn \u001b[38;5;28;01melse\u001b[39;00m \u001b[38;5;28;01mNone\u001b[39;00m\n\u001b[0;32m    786\u001b[0m \u001b[38;5;66;03m# Make the request on the HTTPConnection object\u001b[39;00m\n\u001b[1;32m--> 787\u001b[0m response \u001b[38;5;241m=\u001b[39m \u001b[38;5;28mself\u001b[39m\u001b[38;5;241m.\u001b[39m_make_request(\n\u001b[0;32m    788\u001b[0m     conn,\n\u001b[0;32m    789\u001b[0m     method,\n\u001b[0;32m    790\u001b[0m     url,\n\u001b[0;32m    791\u001b[0m     timeout\u001b[38;5;241m=\u001b[39mtimeout_obj,\n\u001b[0;32m    792\u001b[0m     body\u001b[38;5;241m=\u001b[39mbody,\n\u001b[0;32m    793\u001b[0m     headers\u001b[38;5;241m=\u001b[39mheaders,\n\u001b[0;32m    794\u001b[0m     chunked\u001b[38;5;241m=\u001b[39mchunked,\n\u001b[0;32m    795\u001b[0m     retries\u001b[38;5;241m=\u001b[39mretries,\n\u001b[0;32m    796\u001b[0m     response_conn\u001b[38;5;241m=\u001b[39mresponse_conn,\n\u001b[0;32m    797\u001b[0m     preload_content\u001b[38;5;241m=\u001b[39mpreload_content,\n\u001b[0;32m    798\u001b[0m     decode_content\u001b[38;5;241m=\u001b[39mdecode_content,\n\u001b[0;32m    799\u001b[0m     \u001b[38;5;241m*\u001b[39m\u001b[38;5;241m*\u001b[39mresponse_kw,\n\u001b[0;32m    800\u001b[0m )\n\u001b[0;32m    802\u001b[0m \u001b[38;5;66;03m# Everything went great!\u001b[39;00m\n\u001b[0;32m    803\u001b[0m clean_exit \u001b[38;5;241m=\u001b[39m \u001b[38;5;28;01mTrue\u001b[39;00m\n",
      "File \u001b[1;32mc:\\Users\\netes\\anaconda3\\envs\\main\\Lib\\site-packages\\urllib3\\connectionpool.py:534\u001b[0m, in \u001b[0;36mHTTPConnectionPool._make_request\u001b[1;34m(self, conn, method, url, body, headers, retries, timeout, chunked, response_conn, preload_content, decode_content, enforce_content_length)\u001b[0m\n\u001b[0;32m    532\u001b[0m \u001b[38;5;66;03m# Receive the response from the server\u001b[39;00m\n\u001b[0;32m    533\u001b[0m \u001b[38;5;28;01mtry\u001b[39;00m:\n\u001b[1;32m--> 534\u001b[0m     response \u001b[38;5;241m=\u001b[39m conn\u001b[38;5;241m.\u001b[39mgetresponse()\n\u001b[0;32m    535\u001b[0m \u001b[38;5;28;01mexcept\u001b[39;00m (BaseSSLError, \u001b[38;5;167;01mOSError\u001b[39;00m) \u001b[38;5;28;01mas\u001b[39;00m e:\n\u001b[0;32m    536\u001b[0m     \u001b[38;5;28mself\u001b[39m\u001b[38;5;241m.\u001b[39m_raise_timeout(err\u001b[38;5;241m=\u001b[39me, url\u001b[38;5;241m=\u001b[39murl, timeout_value\u001b[38;5;241m=\u001b[39mread_timeout)\n",
      "File \u001b[1;32mc:\\Users\\netes\\anaconda3\\envs\\main\\Lib\\site-packages\\urllib3\\connection.py:516\u001b[0m, in \u001b[0;36mHTTPConnection.getresponse\u001b[1;34m(self)\u001b[0m\n\u001b[0;32m    513\u001b[0m _shutdown \u001b[38;5;241m=\u001b[39m \u001b[38;5;28mgetattr\u001b[39m(\u001b[38;5;28mself\u001b[39m\u001b[38;5;241m.\u001b[39msock, \u001b[38;5;124m\"\u001b[39m\u001b[38;5;124mshutdown\u001b[39m\u001b[38;5;124m\"\u001b[39m, \u001b[38;5;28;01mNone\u001b[39;00m)\n\u001b[0;32m    515\u001b[0m \u001b[38;5;66;03m# Get the response from http.client.HTTPConnection\u001b[39;00m\n\u001b[1;32m--> 516\u001b[0m httplib_response \u001b[38;5;241m=\u001b[39m \u001b[38;5;28msuper\u001b[39m()\u001b[38;5;241m.\u001b[39mgetresponse()\n\u001b[0;32m    518\u001b[0m \u001b[38;5;28;01mtry\u001b[39;00m:\n\u001b[0;32m    519\u001b[0m     assert_header_parsing(httplib_response\u001b[38;5;241m.\u001b[39mmsg)\n",
      "File \u001b[1;32mc:\\Users\\netes\\anaconda3\\envs\\main\\Lib\\http\\client.py:1428\u001b[0m, in \u001b[0;36mHTTPConnection.getresponse\u001b[1;34m(self)\u001b[0m\n\u001b[0;32m   1426\u001b[0m \u001b[38;5;28;01mtry\u001b[39;00m:\n\u001b[0;32m   1427\u001b[0m     \u001b[38;5;28;01mtry\u001b[39;00m:\n\u001b[1;32m-> 1428\u001b[0m         response\u001b[38;5;241m.\u001b[39mbegin()\n\u001b[0;32m   1429\u001b[0m     \u001b[38;5;28;01mexcept\u001b[39;00m \u001b[38;5;167;01mConnectionError\u001b[39;00m:\n\u001b[0;32m   1430\u001b[0m         \u001b[38;5;28mself\u001b[39m\u001b[38;5;241m.\u001b[39mclose()\n",
      "File \u001b[1;32mc:\\Users\\netes\\anaconda3\\envs\\main\\Lib\\http\\client.py:331\u001b[0m, in \u001b[0;36mHTTPResponse.begin\u001b[1;34m(self)\u001b[0m\n\u001b[0;32m    329\u001b[0m \u001b[38;5;66;03m# read until we get a non-100 response\u001b[39;00m\n\u001b[0;32m    330\u001b[0m \u001b[38;5;28;01mwhile\u001b[39;00m \u001b[38;5;28;01mTrue\u001b[39;00m:\n\u001b[1;32m--> 331\u001b[0m     version, status, reason \u001b[38;5;241m=\u001b[39m \u001b[38;5;28mself\u001b[39m\u001b[38;5;241m.\u001b[39m_read_status()\n\u001b[0;32m    332\u001b[0m     \u001b[38;5;28;01mif\u001b[39;00m status \u001b[38;5;241m!=\u001b[39m CONTINUE:\n\u001b[0;32m    333\u001b[0m         \u001b[38;5;28;01mbreak\u001b[39;00m\n",
      "File \u001b[1;32mc:\\Users\\netes\\anaconda3\\envs\\main\\Lib\\http\\client.py:292\u001b[0m, in \u001b[0;36mHTTPResponse._read_status\u001b[1;34m(self)\u001b[0m\n\u001b[0;32m    291\u001b[0m \u001b[38;5;28;01mdef\u001b[39;00m \u001b[38;5;21m_read_status\u001b[39m(\u001b[38;5;28mself\u001b[39m):\n\u001b[1;32m--> 292\u001b[0m     line \u001b[38;5;241m=\u001b[39m \u001b[38;5;28mstr\u001b[39m(\u001b[38;5;28mself\u001b[39m\u001b[38;5;241m.\u001b[39mfp\u001b[38;5;241m.\u001b[39mreadline(_MAXLINE \u001b[38;5;241m+\u001b[39m \u001b[38;5;241m1\u001b[39m), \u001b[38;5;124m\"\u001b[39m\u001b[38;5;124miso-8859-1\u001b[39m\u001b[38;5;124m\"\u001b[39m)\n\u001b[0;32m    293\u001b[0m     \u001b[38;5;28;01mif\u001b[39;00m \u001b[38;5;28mlen\u001b[39m(line) \u001b[38;5;241m>\u001b[39m _MAXLINE:\n\u001b[0;32m    294\u001b[0m         \u001b[38;5;28;01mraise\u001b[39;00m LineTooLong(\u001b[38;5;124m\"\u001b[39m\u001b[38;5;124mstatus line\u001b[39m\u001b[38;5;124m\"\u001b[39m)\n",
      "File \u001b[1;32mc:\\Users\\netes\\anaconda3\\envs\\main\\Lib\\socket.py:707\u001b[0m, in \u001b[0;36mSocketIO.readinto\u001b[1;34m(self, b)\u001b[0m\n\u001b[0;32m    705\u001b[0m \u001b[38;5;28;01mwhile\u001b[39;00m \u001b[38;5;28;01mTrue\u001b[39;00m:\n\u001b[0;32m    706\u001b[0m     \u001b[38;5;28;01mtry\u001b[39;00m:\n\u001b[1;32m--> 707\u001b[0m         \u001b[38;5;28;01mreturn\u001b[39;00m \u001b[38;5;28mself\u001b[39m\u001b[38;5;241m.\u001b[39m_sock\u001b[38;5;241m.\u001b[39mrecv_into(b)\n\u001b[0;32m    708\u001b[0m     \u001b[38;5;28;01mexcept\u001b[39;00m timeout:\n\u001b[0;32m    709\u001b[0m         \u001b[38;5;28mself\u001b[39m\u001b[38;5;241m.\u001b[39m_timeout_occurred \u001b[38;5;241m=\u001b[39m \u001b[38;5;28;01mTrue\u001b[39;00m\n",
      "File \u001b[1;32mc:\\Users\\netes\\anaconda3\\envs\\main\\Lib\\ssl.py:1252\u001b[0m, in \u001b[0;36mSSLSocket.recv_into\u001b[1;34m(self, buffer, nbytes, flags)\u001b[0m\n\u001b[0;32m   1248\u001b[0m     \u001b[38;5;28;01mif\u001b[39;00m flags \u001b[38;5;241m!=\u001b[39m \u001b[38;5;241m0\u001b[39m:\n\u001b[0;32m   1249\u001b[0m         \u001b[38;5;28;01mraise\u001b[39;00m \u001b[38;5;167;01mValueError\u001b[39;00m(\n\u001b[0;32m   1250\u001b[0m           \u001b[38;5;124m\"\u001b[39m\u001b[38;5;124mnon-zero flags not allowed in calls to recv_into() on \u001b[39m\u001b[38;5;132;01m%s\u001b[39;00m\u001b[38;5;124m\"\u001b[39m \u001b[38;5;241m%\u001b[39m\n\u001b[0;32m   1251\u001b[0m           \u001b[38;5;28mself\u001b[39m\u001b[38;5;241m.\u001b[39m\u001b[38;5;18m__class__\u001b[39m)\n\u001b[1;32m-> 1252\u001b[0m     \u001b[38;5;28;01mreturn\u001b[39;00m \u001b[38;5;28mself\u001b[39m\u001b[38;5;241m.\u001b[39mread(nbytes, buffer)\n\u001b[0;32m   1253\u001b[0m \u001b[38;5;28;01melse\u001b[39;00m:\n\u001b[0;32m   1254\u001b[0m     \u001b[38;5;28;01mreturn\u001b[39;00m \u001b[38;5;28msuper\u001b[39m()\u001b[38;5;241m.\u001b[39mrecv_into(buffer, nbytes, flags)\n",
      "File \u001b[1;32mc:\\Users\\netes\\anaconda3\\envs\\main\\Lib\\ssl.py:1104\u001b[0m, in \u001b[0;36mSSLSocket.read\u001b[1;34m(self, len, buffer)\u001b[0m\n\u001b[0;32m   1102\u001b[0m \u001b[38;5;28;01mtry\u001b[39;00m:\n\u001b[0;32m   1103\u001b[0m     \u001b[38;5;28;01mif\u001b[39;00m buffer \u001b[38;5;129;01mis\u001b[39;00m \u001b[38;5;129;01mnot\u001b[39;00m \u001b[38;5;28;01mNone\u001b[39;00m:\n\u001b[1;32m-> 1104\u001b[0m         \u001b[38;5;28;01mreturn\u001b[39;00m \u001b[38;5;28mself\u001b[39m\u001b[38;5;241m.\u001b[39m_sslobj\u001b[38;5;241m.\u001b[39mread(\u001b[38;5;28mlen\u001b[39m, buffer)\n\u001b[0;32m   1105\u001b[0m     \u001b[38;5;28;01melse\u001b[39;00m:\n\u001b[0;32m   1106\u001b[0m         \u001b[38;5;28;01mreturn\u001b[39;00m \u001b[38;5;28mself\u001b[39m\u001b[38;5;241m.\u001b[39m_sslobj\u001b[38;5;241m.\u001b[39mread(\u001b[38;5;28mlen\u001b[39m)\n",
      "\u001b[1;31mKeyboardInterrupt\u001b[0m: "
     ]
    }
   ],
   "source": [
    "coordinates = {}\n",
    "for i, loc in enumerate(locations):\n",
    "    coordinates[i] = ({'place': loc[0], 'country': loc[1]} \n",
    "                      | get_coords(s, f\"{loc[0]}, {loc[1]}\"))\n",
    "    time.sleep(1.1)\n",
    "\n",
    "coordinates[4]"
   ]
  },
  {
   "cell_type": "code",
   "execution_count": null,
   "id": "82ad7abb",
   "metadata": {},
   "outputs": [],
   "source": [
    "# save to csv\n",
    "locations_cols = ['location_id', 'place', 'country', 'latitude', 'longitude']\n",
    "with open('./data/locations.csv', 'wt', encoding='utf-8', newline='') as f:\n",
    "    writer = csv.writer(f, delimiter=';')\n",
    "    writer.writeheader(locations_cols)\n",
    "    for i, coords in coordinates:\n",
    "        writer.writerow([i] + [coords[col] for col in locations_cols[1:]])"
   ]
  },
  {
   "cell_type": "markdown",
   "id": "35d4a818",
   "metadata": {},
   "source": [
    "### <a name=\"weather\"></a>Get weather forecast\n",
    "\n",
    "We use [Open-Meteo API](https://open-meteo.com/en/docs) to get weather forecast information."
   ]
  },
  {
   "cell_type": "code",
   "execution_count": null,
   "id": "8f47b8a3",
   "metadata": {},
   "outputs": [
    {
     "data": {
      "text/plain": [
       "{'latitude': 48.86,\n",
       " 'longitude': 2.3199997,\n",
       " 'generationtime_ms': 0.14066696166992188,\n",
       " 'utc_offset_seconds': 3600,\n",
       " 'timezone': 'Europe/Paris',\n",
       " 'timezone_abbreviation': 'GMT+1',\n",
       " 'elevation': 38.0,\n",
       " 'daily_units': {'time': 'iso8601',\n",
       "  'temperature_2m_max': '°C',\n",
       "  'temperature_2m_min': '°C',\n",
       "  'sunshine_duration': 's',\n",
       "  'precipitation_sum': 'mm'},\n",
       " 'daily': {'time': ['2025-02-23',\n",
       "   '2025-02-24',\n",
       "   '2025-02-25',\n",
       "   '2025-02-26',\n",
       "   '2025-02-27',\n",
       "   '2025-02-28',\n",
       "   '2025-03-01',\n",
       "   '2025-03-02',\n",
       "   '2025-03-03',\n",
       "   '2025-03-04',\n",
       "   '2025-03-05',\n",
       "   '2025-03-06',\n",
       "   '2025-03-07',\n",
       "   '2025-03-08',\n",
       "   '2025-03-09',\n",
       "   '2025-03-10'],\n",
       "  'temperature_2m_max': [14.6,\n",
       "   11.3,\n",
       "   10.1,\n",
       "   10.6,\n",
       "   10.0,\n",
       "   9.8,\n",
       "   10.4,\n",
       "   10.6,\n",
       "   8.8,\n",
       "   11.1,\n",
       "   11.3,\n",
       "   11.9,\n",
       "   14.9,\n",
       "   11.6,\n",
       "   8.9,\n",
       "   6.2],\n",
       "  'temperature_2m_min': [4.8,\n",
       "   9.2,\n",
       "   5.2,\n",
       "   3.7,\n",
       "   3.6,\n",
       "   0.2,\n",
       "   1.0,\n",
       "   1.1,\n",
       "   4.9,\n",
       "   4.2,\n",
       "   8.8,\n",
       "   10.0,\n",
       "   10.0,\n",
       "   6.7,\n",
       "   5.2,\n",
       "   5.5],\n",
       "  'sunshine_duration': [25805.69,\n",
       "   0.0,\n",
       "   9497.92,\n",
       "   35326.91,\n",
       "   35675.95,\n",
       "   35864.44,\n",
       "   36181.11,\n",
       "   36284.96,\n",
       "   6163.21,\n",
       "   35798.49,\n",
       "   0.0,\n",
       "   3776.59,\n",
       "   19906.37,\n",
       "   37524.34,\n",
       "   37743.88,\n",
       "   0.0],\n",
       "  'precipitation_sum': [0.0,\n",
       "   4.3,\n",
       "   3.1,\n",
       "   0.7,\n",
       "   1.4,\n",
       "   0.0,\n",
       "   0.0,\n",
       "   0.0,\n",
       "   0.0,\n",
       "   0.3,\n",
       "   1.2,\n",
       "   0.0,\n",
       "   0.1,\n",
       "   4.7,\n",
       "   0.0,\n",
       "   3.3]}}"
      ]
     },
     "execution_count": 4,
     "metadata": {},
     "output_type": "execute_result"
    }
   ],
   "source": [
    "weather_forecast = {}\n",
    "for i, coords in coordinates.items():\n",
    "    weather_forecast[i] = get_weather_forecast(\n",
    "        s, coords['latitude'], coords['longitude'])\n",
    "save_to_json('./data/temp/weather_forecast.json', weather_forecast)\n",
    "\n",
    "weather_forecast[4]"
   ]
  },
  {
   "cell_type": "code",
   "execution_count": null,
   "id": "361feca3",
   "metadata": {},
   "outputs": [],
   "source": [
    "# save to csv\n",
    "# take the average weather over the next 7 days\n",
    "weather_cols = [\n",
    "    'location_id', 'date', 'min_temperature_C', 'max_temperature_C',\n",
    "    'sunshine_duration_h', 'precipitation_sum_mm'\n",
    "]\n",
    "with open('./data/weather_indicators.csv', 'wt', encoding='utf-8', newline='') as f:\n",
    "    writer = csv.writer(f, delimiter=';')\n",
    "    writer.writeheader(weather_cols)\n",
    "    for i, forecast in weather_forecast.items():\n",
    "        forecast = forecast['daily']\n",
    "        row = [i, forecast['time'][0],\n",
    "               np.mean(forecast['temperature_2m_min'][:8]),\n",
    "               np.mean(forecast['temperature_2m_max'][:8]),\n",
    "               np.mean(forecast['sunshine_duration'][:8])/3600,\n",
    "               np.mean(forecast['precipitation_sum'][:8])]\n",
    "        writer.writerow(row)"
   ]
  },
  {
   "cell_type": "markdown",
   "id": "38442342",
   "metadata": {},
   "source": [
    "## <a name=\"scraping\"></a>Web scraping\n",
    "\n",
    "The collection of hotels information at the selected locations is done through web scraping of [booking.com](https://www.booking.com). This approach is more complex and unstable than API calls. It is standard practice to first study how requests and responses are related to web browser interaction. This will allow us to tailor automated requests for scraping."
   ]
  },
  {
   "cell_type": "markdown",
   "id": "28d311c1",
   "metadata": {},
   "source": [
    "### <a name=\"scraping_reverse\"></a>Reverse engineering the website requests\n",
    "\n",
    "The first step is to get the request resulting from regular user interaction. We thus go to the index page [https://www.booking.com/index.en-gb.html](https://www.booking.com/index.en-gb.html) and fill the search bar. Here we look for an hotal in Rouen, France for 2 adults between march, 1st and march, 9th.\n",
    "\n",
    "<img src=\"media/booking_search.png\" alt=\"booking_search\" width=\"1000\"/>\n",
    "\n",
    "After clicking on \"Search\" the request actually sent by the web browser is displayed in the address bar. This allows us to recover the parameters of the GET request."
   ]
  },
  {
   "cell_type": "code",
   "execution_count": null,
   "id": "67ab4a5a",
   "metadata": {},
   "outputs": [
    {
     "data": {
      "text/plain": [
       "['ss=Rouen%2C+France',\n",
       " 'efdco=1',\n",
       " 'label=gen173nr-1FCAEoggI46AdICVgEaE2IAQGYAQm4ARjIAQ_YAQHoAQH4AQKIAgGoAgS4AsWf4r0GwAIB0gIkYmMwNmI1MjktMzkyZS00N2FjLTllNWYtOWZmZGIwMWZjODhj2AIF4AIB',\n",
       " 'aid=304142',\n",
       " 'lang=en-gb',\n",
       " 'sb=1',\n",
       " 'src_elem=sb',\n",
       " 'src=index',\n",
       " 'dest_id=-1462807',\n",
       " 'dest_type=city',\n",
       " 'ac_position=0',\n",
       " 'ac_click_type=b',\n",
       " 'ac_langcode=en',\n",
       " 'ac_suggestion_list_length=5',\n",
       " 'search_selected=true',\n",
       " 'search_pageview_id=a6f166e2b250077a',\n",
       " 'ac_meta=GhBhNmYxNjZlMmIyNTAwNzdhIAAoATICZW46DVJvdWVuLCBGcmFuY2VAAEoAUAA%3D',\n",
       " 'checkin=2025-03-01',\n",
       " 'checkout=2025-03-09',\n",
       " 'group_adults=2',\n",
       " 'no_rooms=1',\n",
       " 'group_children=0']"
      ]
     },
     "execution_count": 5,
     "metadata": {},
     "output_type": "execute_result"
    }
   ],
   "source": [
    "req_url = 'https://www.booking.com/searchresults.en-gb.html?ss=Rouen%2C+France&efdco=1&label=gen173nr-1FCAEoggI46AdICVgEaE2IAQGYAQm4ARjIAQ_YAQHoAQH4AQKIAgGoAgS4AsWf4r0GwAIB0gIkYmMwNmI1MjktMzkyZS00N2FjLTllNWYtOWZmZGIwMWZjODhj2AIF4AIB&aid=304142&lang=en-gb&sb=1&src_elem=sb&src=index&dest_id=-1462807&dest_type=city&ac_position=0&ac_click_type=b&ac_langcode=en&ac_suggestion_list_length=5&search_selected=true&search_pageview_id=a6f166e2b250077a&ac_meta=GhBhNmYxNjZlMmIyNTAwNzdhIAAoATICZW46DVJvdWVuLCBGcmFuY2VAAEoAUAA%3D&checkin=2025-03-01&checkout=2025-03-09&group_adults=2&no_rooms=1&group_children=0'\n",
    "\n",
    "req_url.split('?')[1].split('&')"
   ]
  },
  {
   "cell_type": "markdown",
   "id": "c216cd85",
   "metadata": {},
   "source": [
    "We can already get a few insights from the request URL:\n",
    "- `ss` (search string) corresponds to the text written in the search bar,\n",
    "- `checkin` and `checkout` correspond to the travel dates (the calendar widget in the center),\n",
    "- `group_adults`, `no_rooms` and `group_children` correspond to the input of the right widget.\n",
    "\n",
    "It turns out that a valid request can be made with a different approach, by specifying only the latitude and longitude of the destination. For instance, the URL\n",
    "`'https://www.booking.com/searchresults.en-gb.html?latitude=49.4404591&longitude=1.0939658'` yields a page with the hotels ranked by inreasing distance to the coordinates. The parameters above can also be specified to refine the search, but we will not use them here."
   ]
  },
  {
   "cell_type": "markdown",
   "id": "ca07a710",
   "metadata": {},
   "source": [
    "### <a name=\"scraping_fetch\"></a>Get hotel information by scraping\n",
    "\n",
    "The above analysis helped to setup the scraping functionality, which is implemented in the module `etl/scraping_mgmt.py`. Let us detail briefly the sraping procedure:\n",
    "- We reach the target website through an automated browser driven with Selenium WebDriver. We favor this approach over other possibilities such as using `scrapy`. The reason is that our target, booking.com, implements infinite scrolling. This feature is implemented in javascript and is complex to trigger if the scraping tool used cannot execute javascript. A browser, however, natively executes javascript and therefore suits better our task.\n",
    "- For each location, we send a request with the URL `'https://www.booking.com/searchresults.en-gb.html?latitude={latitude}&longitude={longitude}'`.\n",
    "- We scrape the hotels data that we need, scrolling down if necessary."
   ]
  },
  {
   "cell_type": "code",
   "execution_count": null,
   "id": "03ace075",
   "metadata": {},
   "outputs": [],
   "source": [
    "from selenium import webdriver\n",
    "from selenium.common.exceptions import StaleElementReferenceException\n",
    "\n",
    "from etl import scrape_from_searchpage"
   ]
  },
  {
   "cell_type": "code",
   "execution_count": null,
   "id": "7d7a1b6a",
   "metadata": {},
   "outputs": [],
   "source": [
    "## setup driver with options to prevent detection\n",
    "## See https://stackoverflow.com/questions/53039551/selenium-webdriver-modifying-navigator-webdriver-flag-to-prevent-selenium-detec/53040904#53040904\n",
    "options = webdriver.ChromeOptions()\n",
    "options.add_argument(\"--start-maximized\")\n",
    "options.add_argument(\"--disable-blink-features=AutomationControlled\")\n",
    "options.add_experimental_option(\"excludeSwitches\", [\"enable-automation\"])\n",
    "options.add_experimental_option('useAutomationExtension', False)\n",
    "driver = webdriver.Chrome(options=options)\n",
    "driver.execute_script(\"Object.defineProperty(navigator, 'webdriver', {get: () => undefined})\")\n",
    "driver.execute_cdp_cmd(\n",
    "    'Network.setUserAgentOverride',\n",
    "    {\"userAgent\": 'Mozilla/5.0 (Windows NT 10.0; Win64; x64) AppleWebKit/537.36 (KHTML, like Gecko) Chrome/83.0.4103.53 Safari/537.36'}\n",
    ")\n",
    "driver.implicitly_wait(1)"
   ]
  },
  {
   "cell_type": "code",
   "execution_count": null,
   "id": "ab1d0822",
   "metadata": {},
   "outputs": [
    {
     "ename": "AttributeError",
     "evalue": "'set' object has no attribute 'items'",
     "output_type": "error",
     "traceback": [
      "\u001b[1;31m---------------------------------------------------------------------------\u001b[0m",
      "\u001b[1;31mAttributeError\u001b[0m                            Traceback (most recent call last)",
      "Cell \u001b[1;32mIn[8], line 8\u001b[0m\n\u001b[0;32m      2\u001b[0m     coordinates \u001b[38;5;241m=\u001b[39m json\u001b[38;5;241m.\u001b[39mload(f)\n\u001b[0;32m      4\u001b[0m search_urls \u001b[38;5;241m=\u001b[39m {(\u001b[38;5;124m'\u001b[39m\u001b[38;5;124mhttps://www.booking.com/searchresults.en-gb.html?\u001b[39m\u001b[38;5;124m'\u001b[39m\n\u001b[0;32m      5\u001b[0m                 \u001b[38;5;124mf\u001b[39m\u001b[38;5;124m'\u001b[39m\u001b[38;5;124mlatitude=\u001b[39m\u001b[38;5;132;01m{\u001b[39;00mcoord[\u001b[38;5;124m\"\u001b[39m\u001b[38;5;124mlatitude\u001b[39m\u001b[38;5;124m\"\u001b[39m]\u001b[38;5;132;01m}\u001b[39;00m\u001b[38;5;124m&longitude=\u001b[39m\u001b[38;5;132;01m{\u001b[39;00mcoord[\u001b[38;5;124m\"\u001b[39m\u001b[38;5;124mlongitude\u001b[39m\u001b[38;5;124m\"\u001b[39m]\u001b[38;5;132;01m}\u001b[39;00m\u001b[38;5;124m'\u001b[39m)\n\u001b[0;32m      6\u001b[0m                \u001b[38;5;28;01mfor\u001b[39;00m i, coord \u001b[38;5;129;01min\u001b[39;00m coordinates\u001b[38;5;241m.\u001b[39mitems()}\n\u001b[1;32m----> 8\u001b[0m \u001b[38;5;28;01mfor\u001b[39;00m i, search_url \u001b[38;5;129;01min\u001b[39;00m search_urls\u001b[38;5;241m.\u001b[39mitems():\n\u001b[0;32m      9\u001b[0m     hotel_infos \u001b[38;5;241m=\u001b[39m scrape_from_searchpage(driver, search_url, limit\u001b[38;5;241m=\u001b[39m\u001b[38;5;241m30\u001b[39m) \u001b[38;5;66;03m# scrape on search\u001b[39;00m\n\u001b[0;32m     10\u001b[0m     save_to_json(\u001b[38;5;124mf\u001b[39m\u001b[38;5;124m'\u001b[39m\u001b[38;5;124m./data/temp/hotels/\u001b[39m\u001b[38;5;132;01m{\u001b[39;00mi\u001b[38;5;132;01m}\u001b[39;00m\u001b[38;5;124m.json\u001b[39m\u001b[38;5;124m'\u001b[39m,\n\u001b[0;32m     11\u001b[0m                  hotel_infos)\n",
      "\u001b[1;31mAttributeError\u001b[0m: 'set' object has no attribute 'items'"
     ]
    }
   ],
   "source": [
    "with open(\"./data/locations.csv\", 'rt', encoding='utf-8') as f:\n",
    "    reader = csv.reader(f, delimiter=',')\n",
    "    next(reader, None) # remove header\n",
    "    locations = [row for row in reader]\n",
    "\n",
    "search_urls = {loc[0]: ('https://www.booking.com/searchresults.en-gb.html?'\n",
    "                        f'latitude={loc[3]}&longitude={loc[4]}')\n",
    "               for loc in locations}\n",
    "\n",
    "for i, search_url in search_urls.items():\n",
    "    hotel_infos = {i: scrape_from_searchpage(driver, search_url, limit=30)} # scrape on search\n",
    "    save_to_json(f'./data/temp/hotels/{i}.json', hotel_infos)\n",
    "    break\n",
    "\n",
    "driver.quit()"
   ]
  },
  {
   "cell_type": "code",
   "execution_count": null,
   "id": "79bde280",
   "metadata": {},
   "outputs": [],
   "source": [
    "# load temporary saved files\n",
    "hotels_list = []\n",
    "root, _, files = next(os.walk('../data/temp/hotels/'))\n",
    "for file in files:\n",
    "    with open(root + file, 'rt', encoding='utf-8') as f:\n",
    "        hotels_list.append(json.load(f))\n",
    "\n",
    "# transform and save csv\n",
    "hotels_cols = ['hotel_id', 'location_id', 'url', 'name',\n",
    "               'description', 'rating', 'georating']\n",
    "hotel_id = 1\n",
    "hotels_data = []\n",
    "for hotels in hotels_list:\n",
    "    loc_id, hotels = next(iter(hotels.values()))\n",
    "    for h in hotels:\n",
    "        entry = [hotel_id, loc_id] + [h[col] for col in hotels_cols[2:]]\n",
    "        hotel_id += 1\n",
    "\n",
    "with open('../data/hotels.csv', 'wt', encoding='utf-8', newline='') as f:\n",
    "    writer = csv.writer(f, delimiter=';')\n",
    "    writer.writeheader(hotels_cols)\n",
    "    for row in hotels_data:\n",
    "        writer.writerow(row)"
   ]
  },
  {
   "cell_type": "markdown",
   "id": "26763c3d",
   "metadata": {},
   "source": [
    "## <a name=\"database\"></a>Storage in a database"
   ]
  },
  {
   "cell_type": "markdown",
   "id": "de55f594",
   "metadata": {},
   "source": [
    "## <a name=\"database\"></a>Storage in a database\n",
    "\n",
    "For long-term storage, the collected data is transferred a data lake in csv format. We use an AWS S3 bucket for that purpose. The functionality to transfer and load data from the database is implemented in the module `etl/db_mgmt.py`. We use SQLAlchemy to define our database structure, connected to a PostgreSQL database hosted on Neon. The structure of the database is the following.\n",
    "\n",
    "<img src=\"media/DB_structure.png\" alt=\"Database structure\" width=\"700\"/>"
   ]
  },
  {
   "cell_type": "code",
   "execution_count": null,
   "id": "0fd875bb",
   "metadata": {},
   "outputs": [],
   "source": []
  },
  {
   "cell_type": "markdown",
   "id": "ae20ce7d",
   "metadata": {},
   "source": [
    "## <a name=\"datalake\"></a>Storage in a data lake\n",
    "\n",
    "For long-term storage, the collected data is transferred a data lake in csv format. We use an AWS S3 bucket for that purpose. The functionality to transfer and load data from the data lake is implemented in the module `etl/s3_mgmt.py`. We format our data in multiple csv file matching the database structure before uploading in the S3 bucket. A copy of the files is then downloaded and stored locally."
   ]
  },
  {
   "cell_type": "code",
   "execution_count": null,
   "id": "01b6b7b4",
   "metadata": {},
   "outputs": [],
   "source": []
  },
  {
   "cell_type": "code",
   "execution_count": null,
   "id": "882e1d78",
   "metadata": {},
   "outputs": [],
   "source": []
  }
 ],
 "metadata": {
  "kernelspec": {
   "display_name": "main",
   "language": "python",
   "name": "python3"
  },
  "language_info": {
   "codemirror_mode": {
    "name": "ipython",
    "version": 3
   },
   "file_extension": ".py",
   "mimetype": "text/x-python",
   "name": "python",
   "nbconvert_exporter": "python",
   "pygments_lexer": "ipython3",
   "version": "3.12.3"
  }
 },
 "nbformat": 4,
 "nbformat_minor": 5
}
