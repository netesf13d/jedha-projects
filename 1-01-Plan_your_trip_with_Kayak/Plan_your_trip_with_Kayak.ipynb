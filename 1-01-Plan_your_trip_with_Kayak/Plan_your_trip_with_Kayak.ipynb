{
 "cells": [
  {
   "cell_type": "markdown",
   "id": "16166ceb",
   "metadata": {},
   "source": [
    "# Plan your trip with Kayak\n",
    "\n",
    "In this notebook we illustrate data loading from the database to display on maps. We show two maps, one representing the weather at the different places, the other giving hotels information at such places.\n",
    "\n",
    "Contents\n",
    "--------\n",
    "1. [Connection to the database](#database)\n",
    "2. [Weather map](#weather)\n",
    "2. [Hotels map](#hotels)"
   ]
  },
  {
   "cell_type": "code",
   "execution_count": 1,
   "id": "43057c4c",
   "metadata": {},
   "outputs": [],
   "source": [
    "import numpy as np\n",
    "import pandas as pd\n",
    "import plotly.graph_objects as go\n",
    "import plotly.express as px\n",
    "from sqlalchemy import create_engine, URL\n",
    "from sqlalchemy import text\n",
    "\n",
    "\n",
    "NEONDB_ACCESS_KEYS = './neondb_access_keys.key'"
   ]
  },
  {
   "cell_type": "markdown",
   "id": "a76f2e91",
   "metadata": {},
   "source": [
    "## <a name='database'></a>Connection to the database\n",
    "\n",
    "We fetch the relevant data from the database using SQL queries."
   ]
  },
  {
   "cell_type": "code",
   "execution_count": 2,
   "id": "4224363d",
   "metadata": {},
   "outputs": [],
   "source": [
    "## get credentials\n",
    "with open(NEONDB_ACCESS_KEYS, 'rt', encoding='utf-8') as f:\n",
    "    pghost = f.readline().split(\"'\")[1]\n",
    "    pgdatabase = f.readline().split(\"'\")[1]\n",
    "    pguser = f.readline().split(\"'\")[1]\n",
    "    pgpassword = f.readline().split(\"'\")[1]\n",
    "\n",
    "url = URL.create(\n",
    "    'postgresql+psycopg',\n",
    "    username=pguser,\n",
    "    password=pgpassword,\n",
    "    host=pghost,\n",
    "    database=pgdatabase,\n",
    ")\n",
    "\n",
    "## setup SQL engine\n",
    "engine = create_engine(url, echo=False)"
   ]
  },
  {
   "cell_type": "markdown",
   "id": "5eff186c",
   "metadata": {},
   "source": [
    "## <a name='weather'></a>Weather map\n",
    "\n",
    "The following code plots the weather map shown below.\n",
    "\n",
    "<img src=\"media/weather_map.png\" alt=\"Weather map\" width=\"600\"/>"
   ]
  },
  {
   "cell_type": "code",
   "execution_count": 3,
   "id": "34ab9178",
   "metadata": {},
   "outputs": [],
   "source": [
    "## Query data from the database\n",
    "weather_df_query = \"\"\"\n",
    "SELECT\n",
    "  loc.name AS name,\n",
    "  loc.latitude AS latitude,\n",
    "  loc.longitude AS longitude,\n",
    "  wi.min_temperature_cels AS min_temp,\n",
    "  wi.max_temperature_cels AS max_temp,\n",
    "  wi.sunshine_duration_h AS sunshine,\n",
    "  wi.precipitation_sum_mm AS precipitations\n",
    "FROM\n",
    "  locations AS loc\n",
    "  JOIN weather_indicators AS wi ON loc.location_id = wi.location_id\n",
    "\"\"\"\n",
    "\n",
    "weather_df = pd.read_sql(text(weather_df_query), con=engine)"
   ]
  },
  {
   "cell_type": "code",
   "execution_count": 4,
   "id": "53e7feca",
   "metadata": {},
   "outputs": [],
   "source": [
    "from sqlalchemy.orm import Session\n",
    "\n",
    "with Session(engine) as s:\n",
    "    s.rollback()"
   ]
  },
  {
   "cell_type": "code",
   "execution_count": 5,
   "id": "e5454f60",
   "metadata": {},
   "outputs": [
    {
     "data": {
      "application/vnd.plotly.v1+json": {
       "config": {
        "plotlyServerURL": "https://plot.ly"
       },
       "data": [
        {
         "customdata": [
          [
           3.5374999999999996,
           10.4125,
           7.34804513888889,
           0.6875
          ],
          [
           4.9875,
           10.25,
           8.376238194444445,
           3.1625
          ],
          [
           3.75,
           9.787500000000001,
           7.4297604166666655,
           1.4999999999999998
          ],
          [
           5.075,
           9.475,
           6.687036458333334,
           1.2
          ],
          [
           3.3625,
           10.0625,
           6.062331597222222,
           2.5625
          ],
          [
           3.825,
           10.287500000000001,
           6.836634027777778,
           1.4500000000000002
          ],
          [
           2.2875,
           9.7375,
           6.276460069444444,
           1.25
          ],
          [
           2.8499999999999996,
           9.5125,
           6.6644225694444446,
           2.025
          ],
          [
           2.3249999999999997,
           10,
           6.75813125,
           1.85
          ],
          [
           -0.2875,
           5.925,
           6.561095138888888,
           2.225
          ],
          [
           2.0875,
           9.9375,
           6.552462152777778,
           0.9874999999999999
          ],
          [
           2.5999999999999996,
           9.7625,
           6.755672222222222,
           1.5624999999999998
          ],
          [
           2.1624999999999996,
           9.662500000000001,
           7.108376388888889,
           3.6000000000000005
          ],
          [
           1.975,
           9.4375,
           7.418322916666667,
           2.325
          ],
          [
           1.325,
           8.9875,
           7.071518055555556,
           1.9000000000000001
          ],
          [
           3.05,
           10.6875,
           6.639392708333333,
           0.85
          ],
          [
           2.6625,
           11.1,
           7.577529861111111,
           0.75
          ],
          [
           2.625,
           9.612499999999999,
           8.240469791666667,
           0.75
          ],
          [
           7.75,
           13.7,
           6.350844097222222,
           0.37500000000000006
          ],
          [
           8.475,
           14.2,
           8.368670486111112,
           0.6749999999999999
          ],
          [
           6.9875,
           14.15,
           9.138951388888891,
           0.0375
          ],
          [
           3.5749999999999997,
           13.175,
           8.105597569444445,
           0.3125
          ],
          [
           5.800000000000001,
           12.05,
           7.712380902777779,
           0.15
          ],
          [
           4.5625,
           11.787500000000001,
           7.625764236111111,
           0.0625
          ],
          [
           5.35,
           12.575000000000001,
           7.580153819444444,
           0.075
          ],
          [
           5.612500000000001,
           12.899999999999999,
           7.528513888888889,
           0.125
          ],
          [
           6.5875,
           12.8375,
           9.093246180555555,
           0.075
          ],
          [
           7.6499999999999995,
           12.774999999999999,
           7.629505555555554,
           1.2625
          ],
          [
           4.4125,
           11.799999999999999,
           7.378877083333333,
           1.5
          ],
          [
           -1.6875,
           4.975,
           6.934307986111111,
           3.5500000000000003
          ],
          [
           3.1000000000000005,
           11.587499999999999,
           7.5426489583333325,
           0.2875
          ],
          [
           2.3375000000000004,
           11.837499999999999,
           7.981533680555555,
           0.1125
          ],
          [
           4.6375,
           13.3625,
           9.044639236111111,
           1.175
          ],
          [
           4.4750000000000005,
           13.675,
           9.207085069444444,
           1.1875
          ],
          [
           5.925,
           10.9375,
           8.446014583333334,
           1.8375
          ]
         ],
         "hovertemplate": "<b>%{text}</b><br><br>Min temperature (°C): %{customdata[0]:.1f}<br>Max temperature (°C): %{customdata[1]:.1f}<br>Sunshine duration (h): %{customdata[2]:,.1f}<br>Precipitations (mm): %{customdata[3]:.2f}<extra></extra>",
         "lat": [
          48.6359541,
          48.649518,
          49.2764624,
          49.4938975,
          49.4404591,
          48.8588897,
          49.8941708,
          50.6365654,
          48.584614,
          48.249410749999996,
          48.0777517,
          48.0447968,
          47.2380222,
          47.3215806,
          45.8992348,
          45.1875602,
          45.7578137,
          43.7496562,
          43.1506968,
          43.2140359,
          43.2961743,
          43.5298424,
          43.9492493,
          44.0121279,
          43.8374249,
          43.5661521,
          43.4515922,
          42.52505,
          43.2130358,
          42.9455368,
          43.6044622,
          44.0175835,
          43.471143749999996,
          43.4945144,
          46.159732
         ],
         "lon": [
          -1.511459954959514,
          -2.0260409,
          -0.7024738,
          0.1079732,
          1.0939658,
          2.3200410217200766,
          2.2956951,
          3.0635282,
          7.7507127,
          7.344320233724503,
          7.3579641,
          7.3079618,
          6.0243622,
          5.0414701,
          6.1288847,
          5.7357819,
          4.8320114,
          6.3285616,
          6.3419285,
          5.5396318,
          5.3699525,
          5.4474738,
          4.8059012,
          4.4196718,
          4.3600687,
          4.19154,
          4.4277202,
          3.0831554,
          2.3491069,
          1.4065544156065486,
          1.4442469,
          1.3549991,
          -1.552726590666314,
          -1.4736657,
          -1.1515951
         ],
         "marker": {
          "color": [
           7.34804513888889,
           8.376238194444445,
           7.4297604166666655,
           6.687036458333334,
           6.062331597222222,
           6.836634027777778,
           6.276460069444444,
           6.6644225694444446,
           6.75813125,
           6.561095138888888,
           6.552462152777778,
           6.755672222222222,
           7.108376388888889,
           7.418322916666667,
           7.071518055555556,
           6.639392708333333,
           7.577529861111111,
           8.240469791666667,
           6.350844097222222,
           8.368670486111112,
           9.138951388888891,
           8.105597569444445,
           7.712380902777779,
           7.625764236111111,
           7.580153819444444,
           7.528513888888889,
           9.093246180555555,
           7.629505555555554,
           7.378877083333333,
           6.934307986111111,
           7.5426489583333325,
           7.981533680555555,
           9.044639236111111,
           9.207085069444444,
           8.446014583333334
          ],
          "colorbar": {
           "thickness": 30,
           "ticklen": 8,
           "ticks": "inside",
           "tickwidth": 2,
           "title": {
            "text": "sunshine<br>duration"
           }
          },
          "size": [
           22.907500000000002,
           22.55,
           21.532500000000006,
           20.845000000000002,
           22.137500000000003,
           22.632500000000004,
           21.422500000000003,
           20.9275,
           22,
           13.035,
           21.8625,
           21.4775,
           21.257500000000004,
           20.762500000000003,
           19.772500000000004,
           23.512500000000003,
           24.42,
           21.1475,
           30.14,
           31.240000000000002,
           31.130000000000003,
           28.985000000000003,
           26.510000000000005,
           25.932500000000005,
           27.665000000000006,
           28.38,
           28.242500000000003,
           28.105,
           25.96,
           10.945,
           25.4925,
           26.0425,
           29.397500000000004,
           30.085000000000004,
           24.062500000000004
          ]
         },
         "text": [
          "Mont Saint Michel",
          "St Malo",
          "Bayeux",
          "Le Havre",
          "Rouen",
          "Paris",
          "Amiens",
          "Lille",
          "Strasbourg",
          "Chateau du Haut Koenigsbourg",
          "Colmar",
          "Eguisheim",
          "Besancon",
          "Dijon",
          "Annecy",
          "Grenoble",
          "Lyon",
          "Gorges du Verdon",
          "Bormes les Mimosas",
          "Cassis",
          "Marseille",
          "Aix en Provence",
          "Avignon",
          "Uzes",
          "Nimes",
          "Aigues Mortes",
          "Saintes Maries de la mer",
          "Collioure",
          "Carcassonne",
          "Ariege",
          "Toulouse",
          "Montauban",
          "Biarritz",
          "Bayonne",
          "La Rochelle"
         ],
         "type": "scattermap"
        }
       ],
       "layout": {
        "height": 800,
        "map": {
         "style": "open-street-map"
        },
        "template": {
         "data": {
          "bar": [
           {
            "error_x": {
             "color": "#2a3f5f"
            },
            "error_y": {
             "color": "#2a3f5f"
            },
            "marker": {
             "line": {
              "color": "#E5ECF6",
              "width": 0.5
             },
             "pattern": {
              "fillmode": "overlay",
              "size": 10,
              "solidity": 0.2
             }
            },
            "type": "bar"
           }
          ],
          "barpolar": [
           {
            "marker": {
             "line": {
              "color": "#E5ECF6",
              "width": 0.5
             },
             "pattern": {
              "fillmode": "overlay",
              "size": 10,
              "solidity": 0.2
             }
            },
            "type": "barpolar"
           }
          ],
          "carpet": [
           {
            "aaxis": {
             "endlinecolor": "#2a3f5f",
             "gridcolor": "white",
             "linecolor": "white",
             "minorgridcolor": "white",
             "startlinecolor": "#2a3f5f"
            },
            "baxis": {
             "endlinecolor": "#2a3f5f",
             "gridcolor": "white",
             "linecolor": "white",
             "minorgridcolor": "white",
             "startlinecolor": "#2a3f5f"
            },
            "type": "carpet"
           }
          ],
          "choropleth": [
           {
            "colorbar": {
             "outlinewidth": 0,
             "ticks": ""
            },
            "type": "choropleth"
           }
          ],
          "contour": [
           {
            "colorbar": {
             "outlinewidth": 0,
             "ticks": ""
            },
            "colorscale": [
             [
              0,
              "#0d0887"
             ],
             [
              0.1111111111111111,
              "#46039f"
             ],
             [
              0.2222222222222222,
              "#7201a8"
             ],
             [
              0.3333333333333333,
              "#9c179e"
             ],
             [
              0.4444444444444444,
              "#bd3786"
             ],
             [
              0.5555555555555556,
              "#d8576b"
             ],
             [
              0.6666666666666666,
              "#ed7953"
             ],
             [
              0.7777777777777778,
              "#fb9f3a"
             ],
             [
              0.8888888888888888,
              "#fdca26"
             ],
             [
              1,
              "#f0f921"
             ]
            ],
            "type": "contour"
           }
          ],
          "contourcarpet": [
           {
            "colorbar": {
             "outlinewidth": 0,
             "ticks": ""
            },
            "type": "contourcarpet"
           }
          ],
          "heatmap": [
           {
            "colorbar": {
             "outlinewidth": 0,
             "ticks": ""
            },
            "colorscale": [
             [
              0,
              "#0d0887"
             ],
             [
              0.1111111111111111,
              "#46039f"
             ],
             [
              0.2222222222222222,
              "#7201a8"
             ],
             [
              0.3333333333333333,
              "#9c179e"
             ],
             [
              0.4444444444444444,
              "#bd3786"
             ],
             [
              0.5555555555555556,
              "#d8576b"
             ],
             [
              0.6666666666666666,
              "#ed7953"
             ],
             [
              0.7777777777777778,
              "#fb9f3a"
             ],
             [
              0.8888888888888888,
              "#fdca26"
             ],
             [
              1,
              "#f0f921"
             ]
            ],
            "type": "heatmap"
           }
          ],
          "heatmapgl": [
           {
            "colorbar": {
             "outlinewidth": 0,
             "ticks": ""
            },
            "colorscale": [
             [
              0,
              "#0d0887"
             ],
             [
              0.1111111111111111,
              "#46039f"
             ],
             [
              0.2222222222222222,
              "#7201a8"
             ],
             [
              0.3333333333333333,
              "#9c179e"
             ],
             [
              0.4444444444444444,
              "#bd3786"
             ],
             [
              0.5555555555555556,
              "#d8576b"
             ],
             [
              0.6666666666666666,
              "#ed7953"
             ],
             [
              0.7777777777777778,
              "#fb9f3a"
             ],
             [
              0.8888888888888888,
              "#fdca26"
             ],
             [
              1,
              "#f0f921"
             ]
            ],
            "type": "heatmapgl"
           }
          ],
          "histogram": [
           {
            "marker": {
             "pattern": {
              "fillmode": "overlay",
              "size": 10,
              "solidity": 0.2
             }
            },
            "type": "histogram"
           }
          ],
          "histogram2d": [
           {
            "colorbar": {
             "outlinewidth": 0,
             "ticks": ""
            },
            "colorscale": [
             [
              0,
              "#0d0887"
             ],
             [
              0.1111111111111111,
              "#46039f"
             ],
             [
              0.2222222222222222,
              "#7201a8"
             ],
             [
              0.3333333333333333,
              "#9c179e"
             ],
             [
              0.4444444444444444,
              "#bd3786"
             ],
             [
              0.5555555555555556,
              "#d8576b"
             ],
             [
              0.6666666666666666,
              "#ed7953"
             ],
             [
              0.7777777777777778,
              "#fb9f3a"
             ],
             [
              0.8888888888888888,
              "#fdca26"
             ],
             [
              1,
              "#f0f921"
             ]
            ],
            "type": "histogram2d"
           }
          ],
          "histogram2dcontour": [
           {
            "colorbar": {
             "outlinewidth": 0,
             "ticks": ""
            },
            "colorscale": [
             [
              0,
              "#0d0887"
             ],
             [
              0.1111111111111111,
              "#46039f"
             ],
             [
              0.2222222222222222,
              "#7201a8"
             ],
             [
              0.3333333333333333,
              "#9c179e"
             ],
             [
              0.4444444444444444,
              "#bd3786"
             ],
             [
              0.5555555555555556,
              "#d8576b"
             ],
             [
              0.6666666666666666,
              "#ed7953"
             ],
             [
              0.7777777777777778,
              "#fb9f3a"
             ],
             [
              0.8888888888888888,
              "#fdca26"
             ],
             [
              1,
              "#f0f921"
             ]
            ],
            "type": "histogram2dcontour"
           }
          ],
          "mesh3d": [
           {
            "colorbar": {
             "outlinewidth": 0,
             "ticks": ""
            },
            "type": "mesh3d"
           }
          ],
          "parcoords": [
           {
            "line": {
             "colorbar": {
              "outlinewidth": 0,
              "ticks": ""
             }
            },
            "type": "parcoords"
           }
          ],
          "pie": [
           {
            "automargin": true,
            "type": "pie"
           }
          ],
          "scatter": [
           {
            "fillpattern": {
             "fillmode": "overlay",
             "size": 10,
             "solidity": 0.2
            },
            "type": "scatter"
           }
          ],
          "scatter3d": [
           {
            "line": {
             "colorbar": {
              "outlinewidth": 0,
              "ticks": ""
             }
            },
            "marker": {
             "colorbar": {
              "outlinewidth": 0,
              "ticks": ""
             }
            },
            "type": "scatter3d"
           }
          ],
          "scattercarpet": [
           {
            "marker": {
             "colorbar": {
              "outlinewidth": 0,
              "ticks": ""
             }
            },
            "type": "scattercarpet"
           }
          ],
          "scattergeo": [
           {
            "marker": {
             "colorbar": {
              "outlinewidth": 0,
              "ticks": ""
             }
            },
            "type": "scattergeo"
           }
          ],
          "scattergl": [
           {
            "marker": {
             "colorbar": {
              "outlinewidth": 0,
              "ticks": ""
             }
            },
            "type": "scattergl"
           }
          ],
          "scattermapbox": [
           {
            "marker": {
             "colorbar": {
              "outlinewidth": 0,
              "ticks": ""
             }
            },
            "type": "scattermapbox"
           }
          ],
          "scatterpolar": [
           {
            "marker": {
             "colorbar": {
              "outlinewidth": 0,
              "ticks": ""
             }
            },
            "type": "scatterpolar"
           }
          ],
          "scatterpolargl": [
           {
            "marker": {
             "colorbar": {
              "outlinewidth": 0,
              "ticks": ""
             }
            },
            "type": "scatterpolargl"
           }
          ],
          "scatterternary": [
           {
            "marker": {
             "colorbar": {
              "outlinewidth": 0,
              "ticks": ""
             }
            },
            "type": "scatterternary"
           }
          ],
          "surface": [
           {
            "colorbar": {
             "outlinewidth": 0,
             "ticks": ""
            },
            "colorscale": [
             [
              0,
              "#0d0887"
             ],
             [
              0.1111111111111111,
              "#46039f"
             ],
             [
              0.2222222222222222,
              "#7201a8"
             ],
             [
              0.3333333333333333,
              "#9c179e"
             ],
             [
              0.4444444444444444,
              "#bd3786"
             ],
             [
              0.5555555555555556,
              "#d8576b"
             ],
             [
              0.6666666666666666,
              "#ed7953"
             ],
             [
              0.7777777777777778,
              "#fb9f3a"
             ],
             [
              0.8888888888888888,
              "#fdca26"
             ],
             [
              1,
              "#f0f921"
             ]
            ],
            "type": "surface"
           }
          ],
          "table": [
           {
            "cells": {
             "fill": {
              "color": "#EBF0F8"
             },
             "line": {
              "color": "white"
             }
            },
            "header": {
             "fill": {
              "color": "#C8D4E3"
             },
             "line": {
              "color": "white"
             }
            },
            "type": "table"
           }
          ]
         },
         "layout": {
          "annotationdefaults": {
           "arrowcolor": "#2a3f5f",
           "arrowhead": 0,
           "arrowwidth": 1
          },
          "autotypenumbers": "strict",
          "coloraxis": {
           "colorbar": {
            "outlinewidth": 0,
            "ticks": ""
           }
          },
          "colorscale": {
           "diverging": [
            [
             0,
             "#8e0152"
            ],
            [
             0.1,
             "#c51b7d"
            ],
            [
             0.2,
             "#de77ae"
            ],
            [
             0.3,
             "#f1b6da"
            ],
            [
             0.4,
             "#fde0ef"
            ],
            [
             0.5,
             "#f7f7f7"
            ],
            [
             0.6,
             "#e6f5d0"
            ],
            [
             0.7,
             "#b8e186"
            ],
            [
             0.8,
             "#7fbc41"
            ],
            [
             0.9,
             "#4d9221"
            ],
            [
             1,
             "#276419"
            ]
           ],
           "sequential": [
            [
             0,
             "#0d0887"
            ],
            [
             0.1111111111111111,
             "#46039f"
            ],
            [
             0.2222222222222222,
             "#7201a8"
            ],
            [
             0.3333333333333333,
             "#9c179e"
            ],
            [
             0.4444444444444444,
             "#bd3786"
            ],
            [
             0.5555555555555556,
             "#d8576b"
            ],
            [
             0.6666666666666666,
             "#ed7953"
            ],
            [
             0.7777777777777778,
             "#fb9f3a"
            ],
            [
             0.8888888888888888,
             "#fdca26"
            ],
            [
             1,
             "#f0f921"
            ]
           ],
           "sequentialminus": [
            [
             0,
             "#0d0887"
            ],
            [
             0.1111111111111111,
             "#46039f"
            ],
            [
             0.2222222222222222,
             "#7201a8"
            ],
            [
             0.3333333333333333,
             "#9c179e"
            ],
            [
             0.4444444444444444,
             "#bd3786"
            ],
            [
             0.5555555555555556,
             "#d8576b"
            ],
            [
             0.6666666666666666,
             "#ed7953"
            ],
            [
             0.7777777777777778,
             "#fb9f3a"
            ],
            [
             0.8888888888888888,
             "#fdca26"
            ],
            [
             1,
             "#f0f921"
            ]
           ]
          },
          "colorway": [
           "#636efa",
           "#EF553B",
           "#00cc96",
           "#ab63fa",
           "#FFA15A",
           "#19d3f3",
           "#FF6692",
           "#B6E880",
           "#FF97FF",
           "#FECB52"
          ],
          "font": {
           "color": "#2a3f5f"
          },
          "geo": {
           "bgcolor": "white",
           "lakecolor": "white",
           "landcolor": "#E5ECF6",
           "showlakes": true,
           "showland": true,
           "subunitcolor": "white"
          },
          "hoverlabel": {
           "align": "left"
          },
          "hovermode": "closest",
          "mapbox": {
           "style": "light"
          },
          "paper_bgcolor": "white",
          "plot_bgcolor": "#E5ECF6",
          "polar": {
           "angularaxis": {
            "gridcolor": "white",
            "linecolor": "white",
            "ticks": ""
           },
           "bgcolor": "#E5ECF6",
           "radialaxis": {
            "gridcolor": "white",
            "linecolor": "white",
            "ticks": ""
           }
          },
          "scene": {
           "xaxis": {
            "backgroundcolor": "#E5ECF6",
            "gridcolor": "white",
            "gridwidth": 2,
            "linecolor": "white",
            "showbackground": true,
            "ticks": "",
            "zerolinecolor": "white"
           },
           "yaxis": {
            "backgroundcolor": "#E5ECF6",
            "gridcolor": "white",
            "gridwidth": 2,
            "linecolor": "white",
            "showbackground": true,
            "ticks": "",
            "zerolinecolor": "white"
           },
           "zaxis": {
            "backgroundcolor": "#E5ECF6",
            "gridcolor": "white",
            "gridwidth": 2,
            "linecolor": "white",
            "showbackground": true,
            "ticks": "",
            "zerolinecolor": "white"
           }
          },
          "shapedefaults": {
           "line": {
            "color": "#2a3f5f"
           }
          },
          "ternary": {
           "aaxis": {
            "gridcolor": "white",
            "linecolor": "white",
            "ticks": ""
           },
           "baxis": {
            "gridcolor": "white",
            "linecolor": "white",
            "ticks": ""
           },
           "bgcolor": "#E5ECF6",
           "caxis": {
            "gridcolor": "white",
            "linecolor": "white",
            "ticks": ""
           }
          },
          "title": {
           "x": 0.05
          },
          "xaxis": {
           "automargin": true,
           "gridcolor": "white",
           "linecolor": "white",
           "ticks": "",
           "title": {
            "standoff": 15
           },
           "zerolinecolor": "white",
           "zerolinewidth": 2
          },
          "yaxis": {
           "automargin": true,
           "gridcolor": "white",
           "linecolor": "white",
           "ticks": "",
           "title": {
            "standoff": 15
           },
           "zerolinecolor": "white",
           "zerolinewidth": 2
          }
         }
        },
        "title": {
         "text": "Weather map"
        },
        "width": 900
       }
      }
     },
     "metadata": {},
     "output_type": "display_data"
    }
   ],
   "source": [
    "## Plot the data on map\n",
    "fig_weather = go.Figure()\n",
    "\n",
    "fig_weather.update_layout(title='Weather map',\n",
    "                          height=800,\n",
    "                          width=900,\n",
    "                          map_style='open-street-map')\n",
    "\n",
    "fig_weather.add_trace(\n",
    "    go.Scattermap(\n",
    "        lat=weather_df['latitude'],\n",
    "        lon=weather_df['longitude'],\n",
    "        marker=go.scattermap.Marker(\n",
    "            color=weather_df['sunshine'],\n",
    "            colorbar={'title': 'sunshine<br>duration', 'thickness': 30,\n",
    "                      'ticks': 'inside', 'ticklen': 8, 'tickwidth': 2},\n",
    "            size=2.2*weather_df['max_temp'],\n",
    "        ),\n",
    "        text=weather_df['name'],\n",
    "        customdata=weather_df.iloc[:, -4:],\n",
    "        hovertemplate=(\n",
    "            '<b>%{text}</b><br><br>'\n",
    "            'Min temperature (°C): %{customdata[0]:.1f}<br>'\n",
    "            'Max temperature (°C): %{customdata[1]:.1f}<br>'\n",
    "            'Sunshine duration (h): %{customdata[2]:,.1f}<br>'\n",
    "            'Precipitations (mm): %{customdata[3]:.2f}'\n",
    "            '<extra></extra>'\n",
    "        ),\n",
    "    )\n",
    ")\n",
    "\n",
    "fig_weather.show()"
   ]
  },
  {
   "cell_type": "markdown",
   "id": "9042ccec",
   "metadata": {},
   "source": [
    "## <a name='hotels'></a>Hotels \n",
    "\n",
    "The following code plots the hotels map shown below. The geographic coordinates of the hotels were not available anymore on booking.com. The map therefore does not indicate each individual hotel, but rather an hover text with the 5 best rated hotels at the given place.\n",
    "\n",
    "<img src=\"media/hotels_map.png\" alt=\"Hotels map\" width=\"600\"/>"
   ]
  },
  {
   "cell_type": "code",
   "execution_count": 6,
   "id": "7c0f0d0f",
   "metadata": {},
   "outputs": [],
   "source": [
    "locations_df = pd.read_sql(text('SELECT location_id, name, latitude, longitude FROM locations'), con=engine)\n",
    "hotels_df = pd.read_sql(text('SELECT location_id, name, rating, georating FROM hotels'), con=engine)"
   ]
  },
  {
   "cell_type": "code",
   "execution_count": 7,
   "id": "f75e13c3",
   "metadata": {},
   "outputs": [],
   "source": [
    "hotels_loc = []\n",
    "for location_id in locations_df['location_id']:\n",
    "    loc = (hotels_df['location_id'] == location_id)\n",
    "    hotels_loc.append(hotels_df.loc[loc].sort_values(['rating', 'georating'], ascending=False).head(5))\n",
    "hotels_loc = [np.ravel(h.loc[:, ['name', 'rating', 'georating']].to_numpy()) for h in hotels_loc]"
   ]
  },
  {
   "cell_type": "code",
   "execution_count": 8,
   "id": "4ef7a27a",
   "metadata": {},
   "outputs": [
    {
     "data": {
      "application/vnd.plotly.v1+json": {
       "config": {
        "plotlyServerURL": "https://plot.ly"
       },
       "data": [
        {
         "customdata": [
          [
           "Roulotte au pied du Mont Saint Michel",
           9.6,
           10,
           "Au Mont Chez Nous Jaccuzi et Sauna",
           9.5,
           10,
           "Etoile des Grèves",
           9.4,
           9.9,
           "Résidence Beauvoir le Mont-Saint-Michel (9 gîtes de 2 à 5 personnes)",
           9.4,
           9.8,
           "Gîte La Mouette de 4 personnes",
           9.3,
           9.8
          ],
          [
           "Nice Apartment In Downtown And Near The Beach",
           9.7,
           10,
           "Le Pilo",
           9.7,
           9.9,
           "Les embruns",
           9.6,
           9.8,
           "Jacques MELCHIOR meublé de tourisme 3 étoiles Intra Muros",
           9.4,
           10,
           "La Suite Saint-Malo Intra-Muros T3 (2-4pers)",
           9.3,
           9.9
          ],
          [
           "La Bayeuzen - La Tropicale - Love Room",
           10,
           null,
           "Cathédrale - Charmant appt pour 4",
           9.8,
           10,
           "Studio Exupere",
           9.7,
           10,
           "Villa Lara Hotel",
           9.6,
           9.9,
           "Le Hêtre Pourpre",
           9.6,
           9.9
          ],
          [
           "Escapade Culturelle Havraise",
           9.6,
           9.7,
           "Appartement…LH center / 6 pers. parking privé",
           9.3,
           9.9,
           "LA PARENTHÈSE HAVRAISE - Parking privé Plein centre & Très calme",
           9.1,
           9.4,
           "Maison Coty - Hypercentre/Plage",
           9,
           9.7,
           "Bienvenue au Chillou - Terrasse & Parking, Quartier Perret UNESCO",
           9,
           null
          ],
          [
           "France, Normandie, Rouen Hyper centre, 3 étoiles",
           9.7,
           10,
           "Le Petit Horloge",
           9.6,
           9.8,
           "Centre historique l'authentique Saint Nicolas ou le bourdon de la Cathédrale",
           9.2,
           9.7,
           "Chez Nata",
           9,
           9.9,
           "La Venelle Saint-Nicolas",
           8.9,
           9.9
          ],
          [
           "View Eiffel Tower",
           10,
           10,
           "Hotel Palais Bourbon",
           9.7,
           9.6,
           "Appart 4Pers#Invalides#Assemblée Nationale#Paris 7",
           9.4,
           10,
           "J.K. Place Paris",
           9.4,
           9.5,
           "Musée d'Orsay-Saint Germain-Invalides-Famille",
           9.2,
           9.9
          ],
          [
           "Magnifique Appartement Vue Cathédrale",
           10,
           10,
           "Splendid Cathedral Amiens Centre Parking",
           10,
           10,
           "Cathédrale et Beffroi à 180 Netflix - Parking",
           10,
           10,
           "Apartment house View Rotonde, Amiens",
           10,
           9.6,
           "Vue Cathédrale, Beffroi, Netflix en Hyper Centre",
           9.9,
           10
          ],
          [
           "Paddy's Place",
           8.9,
           9.6,
           "Little Suite - Simone",
           8.6,
           9.5,
           "Grand Hotel Bellevue - Grand Place",
           8.4,
           9.7,
           "Grand' Place - Beautiful apartment for 2",
           8.4,
           9.4,
           "BON PLAN STUDIO 3PERS - GRAND PLACE - GARE LILLE FLANDRe",
           8.3,
           10
          ],
          [
           "Le Carré d'or - Appartement avec vue Cathédrale",
           9.9,
           10,
           "Appartement 60m2 - Carré d'Or Cathédrale",
           9.5,
           9.9,
           "Gîte Cathédrale Waldner de Freundstein Label \"Clévacances\"",
           9.3,
           10,
           "Bleu Mésange - 2 Bedrooms and 2 Bathrooms",
           9.3,
           9.6,
           "Le Carré d Or Appartement Terrasse vue Cathédrale",
           9.2,
           10
          ],
          [
           "Gîte du forgeron - 6 à 8 personnes - Centre Alsace - Saint-Hippolyte",
           9.8,
           9.9,
           "Gîte La Rodernelle - Sauna privatif - Climatisation - Vue sur le Château du Haut Kœnigsbourg",
           9.8,
           9.8,
           "Les gîtes de la Tour, appartement \"La Plaine\"",
           9.7,
           9.9,
           "Gîte Le Cep d'Or Alsace",
           9.7,
           9.8,
           "Maison d'Hôtes Le Cep d'Or Alsace",
           9.6,
           9.5
          ],
          [
           "Le Cathedral View Colmar - Centre Historique - Parking privé gratuit",
           9.7,
           10,
           "Appartement A Travers Champs avec Sauna et Parking",
           9.6,
           9.9,
           "lesboisjolis",
           9.5,
           9.8,
           "Appartement Coeur de Ville Cathédrale - Ascenseur -",
           9.5,
           9.8,
           "HYPER CENTRE - Colmar Cathédrale - PARKING Gratuit",
           9.4,
           9.9
          ],
          [
           "Gîte La Grange",
           9.8,
           9.8,
           "Fleur de Vigne",
           9.7,
           9.8,
           "Charmant studio avec parking",
           9.7,
           9.6,
           "Chambre Pin Up Wings",
           9.5,
           9.8,
           "Chambre Super Broussard",
           9.5,
           9.8
          ],
          [
           "Lumineux T2 50 m2 - hypercentre Besançon",
           9.3,
           10,
           "Le Central - hypercentre standing wifi tv",
           9,
           10,
           "Appartement hyper centre ville au calme",
           9,
           9.5,
           "*Hypercentre*Spacieux*Calme - Le Vauban - Cocoonhome",
           8.8,
           9.6,
           "Le Saint Amour cosy",
           8.8,
           9.5
          ],
          [
           "Les Suites by Cave Vauban",
           10,
           10,
           "Dijon Hypercentre - Loge Des Ducs",
           10,
           10,
           "Dijon Hypercentre - Loge Pompon",
           10,
           10,
           "Le Palais",
           9.7,
           10,
           "Le Nid De La Chouette",
           9.6,
           10
          ],
          [
           "Le Loft d'Annecy - Vision Luxe",
           10,
           10,
           "Au Faubourg -Old City - Lake & Canal 1 min",
           10,
           10,
           "L'îsle Perrière - Chambre-Balcon-Vue",
           10,
           10,
           "LES SUITES D'ANNICIACA - Hyper centre avec vue sur le chateau",
           9.9,
           10,
           "L'Anneciano - Balcon - Chambre - Vue",
           9.5,
           10
          ],
          [
           "T2 proche centre ville - Climatisation - TV 120cm",
           10,
           10,
           "\"L'Etoile\" 4 chambres-hyper centre",
           10,
           10,
           "Appartements RESIDILAVERDE Hypercentre",
           9.3,
           9.8,
           "Place de Metz, Hyper-centre Grenoble, Studio 25 m2",
           9.2,
           9.6,
           "Cosy and Calm in Grenoble City Heart with free and large parking Q-Park Chavant",
           9,
           9.5
          ],
          [
           "La Cabane Bellecour",
           10,
           10,
           "NOCNOC Le Trianon",
           9.7,
           10,
           "MOHOM - Bellecour",
           9,
           9.7,
           "Bayard Bellecour",
           8.9,
           9.8,
           "Fenêtre sur cour - Studio pour 2",
           8.9,
           9.8
          ],
          [
           "Domaine de Cruvelet Petit gite",
           10,
           10,
           "Domaine du Cruvelet Grand gite",
           9.6,
           9.4,
           "Le gite panda saint-maymes",
           9.5,
           10,
           "La lyalis",
           9.5,
           9.6,
           "Les cabanes de Bourras",
           9.2,
           9.6
          ],
          [
           "La Recampado",
           9.7,
           9.8,
           "Studio Liège, vue mer au village de Bormes les Mimosas",
           9.6,
           10,
           "The Little House",
           9.6,
           10,
           "Cosy studio - Place du Figuier",
           9.6,
           9.8,
           "Lilie House",
           9.6,
           9.5
          ],
          [
           "Lou K-sea den, le terrier de la mer",
           9.6,
           10,
           "*Blue Éden* Au cœur du village",
           9.5,
           10,
           "La Cigale - Centre Ville - Wifi",
           9.3,
           9.6,
           "Le Cassidain - Port et plage - Luxious appartement",
           9.2,
           10,
           "Le Pagnol - Hyper centre - Clim",
           9.1,
           9.9
          ],
          [
           "La Belle Vue - 65m2 au dernier étage avec ascenseur",
           10,
           10,
           "Splendide vue sur ND de la Garde et le Vieux Port",
           9.5,
           9.9,
           "App-Arte Marseille Vieux-Port",
           9.5,
           9.8,
           "Superbe Appartement, vue Notre Dame de la Garde, Vieux port",
           9.2,
           10,
           "Vieux Port Panier Jardin",
           9.2,
           9.9
          ],
          [
           "Appartement cocooning Terrasse - Centre Hist- Clim",
           9.7,
           null,
           "Le Beffroi de Gaston Climatisé",
           9.4,
           9.8,
           "Hypercenter lovely duplex with Terrace CLIM WIFI",
           9.3,
           10,
           "Terrasse à Aix en Provence centre historique",
           9,
           10,
           "Appartement spacieux et calme à Aix en Provence",
           8.6,
           9.7
          ],
          [
           "AVIGNON HYPER CENTRE CLIM 5 CHBRES 10PERS 200m PALAIS DES PAPES",
           10,
           10,
           "Le Petit Change - Clim - Hyper Centre",
           9.8,
           10,
           "Appartement climatisé parking gratuit surveillé",
           9.6,
           9.9,
           "Appartement Maison Aubanel",
           9.4,
           10,
           "Les toits des PAPES - Clim - WIFI - AVIGNON",
           9.1,
           9.9
          ],
          [
           "La DAME de FLAUX",
           9.8,
           10,
           "Appartement dans Hotel de Flaux",
           9.7,
           10,
           "Studio au centre historique d'Uzès",
           9.7,
           10,
           "Bon Jour Uzès",
           9.7,
           10,
           "Les Atlantes",
           9.7,
           10
          ],
          [
           "L'éclat doré",
           10,
           10,
           "L'escale secrète - Emplacement central premium",
           10,
           null,
           "Nî'douillet-P3 Terrasse et climatisé-coeur de ville",
           9.3,
           9.9,
           "La place Zen - Free Wifi - City Center",
           9.3,
           9.6,
           "Au cœur du centre historique - Immeuble classé - Terrasse - climatisé",
           9,
           9.9
          ],
          [
           "Le 41 bis",
           10,
           10,
           "Au Cœur des Remparts",
           9.9,
           10,
           "Marcelle en Camargue",
           9.7,
           9.9,
           "Maison cosy, 2 chambres, adossée aux remparts",
           9.7,
           9.6,
           "Appartement des Sablons",
           9.6,
           10
          ],
          [
           "Flamants 1 5 personnes",
           10,
           10,
           "Appartement Le Méditerranéen à 300m de la plage et au centre des Saintes Maries de la Mer",
           9.7,
           10,
           "Maison au bord de mer",
           9.6,
           9.8,
           "Appartement cosy Le Bohème, à 300m des plages",
           9.4,
           10,
           "Charmant Duplex Climatisé - Terrasse, Parking, Centre-Ville, 200m de la Mer, Animaux Bienvenus - FR-1-475-117",
           9.3,
           10
          ],
          [
           "Appartement T3 avec Mezzanine et Terrasse au Cœur de Collioure, Proche Plages et Commerces - FR-1-309-431",
           10,
           10,
           "Logement plein pied / Confort",
           10,
           10,
           "La Casa Machado 2",
           9.7,
           10,
           "Gorgeous apartment superbly located in old town",
           9.6,
           10,
           "Le Machado",
           9.5,
           10
          ],
          [
           "La Citadine",
           10,
           10,
           "l'Idylle - Coeur de Bastide - balnéo - Clim",
           10,
           null,
           "4 Star CARCASSONNE HISTORIC DUPLEX air conditioned APARTEMENT d`ÉGLANTINE",
           9.8,
           9.7,
           "La Terrasse Tapaja Vue ConciergerieDameCarcas",
           9.4,
           9.5,
           "Le Belem",
           9.3,
           9.7
          ],
          [
           "Gite dans un hameau de charme",
           10,
           10,
           "Superbe demeure au cœur des Pyrénées Ariégeoises",
           10,
           null,
           "chambres et table d'hôtes du Péré",
           9.9,
           9.9,
           "Le Chalet de Brassac",
           9.6,
           10,
           "Velo Ariege Pyrenees",
           9.4,
           9.5
          ],
          [
           "Cœur Capitole 122m2- Clim - Parking - Ascenseur- Métro",
           9.7,
           10,
           "Don Capitolium - A 2 pas de la place du Capitole",
           9.2,
           10,
           "TOULOUSE DUPLEX PLACE DU CAPITOLE",
           9.1,
           10,
           "Comptoir des Étoffes - Proche Place du Capitole",
           9,
           10,
           "Hypercentre Capitole T2 vaste et lumineux",
           9,
           9.6
          ],
          [
           "3-7 Centre Ville",
           10,
           10,
           "Boudu L'Appart ! Le Charme unique en hyper centre",
           10,
           null,
           "L'authentique",
           9.7,
           10,
           "Numéro 6 - Place Nationale - Wifi et Fibre",
           9.7,
           10,
           "room five - parking, balnéothérapie, place nationale, un havre de paix",
           9.6,
           9.9
          ],
          [
           "LA CHOUETTE DU LAC MARION",
           9.5,
           null,
           "Sixties 64 2 bedrooms apartment with a balcony and parking in Biarritz",
           9.5,
           null,
           "Maison à 7 min à pied de la Côte des Basques (océan)",
           9.3,
           null,
           "CHAMBRE D'HOTES Villa BIBICHERI",
           9.2,
           null,
           "Villa Julie",
           9.1,
           9.3
          ],
          [
           "La Chambre d'Hote de Mano - Centre-ville de Bayonne",
           9.5,
           9.6,
           "Le Petit Nid Douillet de Jéjé",
           9.5,
           9.6,
           "Studio Centre Ville Office De Tourisme",
           9.3,
           9.9,
           "Le Prestige YourHostHelper",
           9,
           10,
           "Hôtel Villa KOEGUI Bayonne",
           8.9,
           9.6
          ],
          [
           "The Appart 90m2 au coeur de la vieille ville",
           9.5,
           10,
           "LA ROCHELAISE : Appartement calme & somptueux dans l'hyper centre.",
           9.4,
           10,
           "L'Appartement : location les merciers.",
           9.3,
           9.8,
           "Le Logis des Templiers Vieux Port",
           8.8,
           9.3,
           "Grand studio à deux pas du Vieux Port",
           8.5,
           9.6
          ]
         ],
         "hovertemplate": "<b>%{text}</b><br><br>Hotel name, rating, geo rating<br>%{customdata[0]}: %{customdata[1]:.1f}, %{customdata[2]:.1f}<br>%{customdata[3]}: %{customdata[4]:.1f}, %{customdata[5]:.1f}<br>%{customdata[6]}: %{customdata[7]:.1f}, %{customdata[8]:.1f}<br>%{customdata[9]}: %{customdata[10]:.1f}, %{customdata[11]:.1f}<br>%{customdata[12]}: %{customdata[13]:.1f}, %{customdata[14]:.1f}<br><extra></extra>",
         "lat": [
          48.6359541,
          48.649518,
          49.2764624,
          49.4938975,
          49.4404591,
          48.8588897,
          49.8941708,
          50.6365654,
          48.584614,
          48.249410749999996,
          48.0777517,
          48.0447968,
          47.2380222,
          47.3215806,
          45.8992348,
          45.1875602,
          45.7578137,
          43.7496562,
          43.1506968,
          43.2140359,
          43.2961743,
          43.5298424,
          43.9492493,
          44.0121279,
          43.8374249,
          43.5661521,
          43.4515922,
          42.52505,
          43.2130358,
          42.9455368,
          43.6044622,
          44.0175835,
          43.471143749999996,
          43.4945144,
          46.159732
         ],
         "lon": [
          -1.511459954959514,
          -2.0260409,
          -0.7024738,
          0.1079732,
          1.0939658,
          2.3200410217200766,
          2.2956951,
          3.0635282,
          7.7507127,
          7.344320233724503,
          7.3579641,
          7.3079618,
          6.0243622,
          5.0414701,
          6.1288847,
          5.7357819,
          4.8320114,
          6.3285616,
          6.3419285,
          5.5396318,
          5.3699525,
          5.4474738,
          4.8059012,
          4.4196718,
          4.3600687,
          4.19154,
          4.4277202,
          3.0831554,
          2.3491069,
          1.4065544156065486,
          1.4442469,
          1.3549991,
          -1.552726590666314,
          -1.4736657,
          -1.1515951
         ],
         "marker": {
          "size": 15
         },
         "text": [
          "Mont Saint Michel",
          "St Malo",
          "Bayeux",
          "Le Havre",
          "Rouen",
          "Paris",
          "Amiens",
          "Lille",
          "Strasbourg",
          "Chateau du Haut Koenigsbourg",
          "Colmar",
          "Eguisheim",
          "Besancon",
          "Dijon",
          "Annecy",
          "Grenoble",
          "Lyon",
          "Gorges du Verdon",
          "Bormes les Mimosas",
          "Cassis",
          "Marseille",
          "Aix en Provence",
          "Avignon",
          "Uzes",
          "Nimes",
          "Aigues Mortes",
          "Saintes Maries de la mer",
          "Collioure",
          "Carcassonne",
          "Ariege",
          "Toulouse",
          "Montauban",
          "Biarritz",
          "Bayonne",
          "La Rochelle"
         ],
         "type": "scattermap"
        }
       ],
       "layout": {
        "height": 800,
        "map": {
         "style": "open-street-map"
        },
        "template": {
         "data": {
          "bar": [
           {
            "error_x": {
             "color": "#2a3f5f"
            },
            "error_y": {
             "color": "#2a3f5f"
            },
            "marker": {
             "line": {
              "color": "#E5ECF6",
              "width": 0.5
             },
             "pattern": {
              "fillmode": "overlay",
              "size": 10,
              "solidity": 0.2
             }
            },
            "type": "bar"
           }
          ],
          "barpolar": [
           {
            "marker": {
             "line": {
              "color": "#E5ECF6",
              "width": 0.5
             },
             "pattern": {
              "fillmode": "overlay",
              "size": 10,
              "solidity": 0.2
             }
            },
            "type": "barpolar"
           }
          ],
          "carpet": [
           {
            "aaxis": {
             "endlinecolor": "#2a3f5f",
             "gridcolor": "white",
             "linecolor": "white",
             "minorgridcolor": "white",
             "startlinecolor": "#2a3f5f"
            },
            "baxis": {
             "endlinecolor": "#2a3f5f",
             "gridcolor": "white",
             "linecolor": "white",
             "minorgridcolor": "white",
             "startlinecolor": "#2a3f5f"
            },
            "type": "carpet"
           }
          ],
          "choropleth": [
           {
            "colorbar": {
             "outlinewidth": 0,
             "ticks": ""
            },
            "type": "choropleth"
           }
          ],
          "contour": [
           {
            "colorbar": {
             "outlinewidth": 0,
             "ticks": ""
            },
            "colorscale": [
             [
              0,
              "#0d0887"
             ],
             [
              0.1111111111111111,
              "#46039f"
             ],
             [
              0.2222222222222222,
              "#7201a8"
             ],
             [
              0.3333333333333333,
              "#9c179e"
             ],
             [
              0.4444444444444444,
              "#bd3786"
             ],
             [
              0.5555555555555556,
              "#d8576b"
             ],
             [
              0.6666666666666666,
              "#ed7953"
             ],
             [
              0.7777777777777778,
              "#fb9f3a"
             ],
             [
              0.8888888888888888,
              "#fdca26"
             ],
             [
              1,
              "#f0f921"
             ]
            ],
            "type": "contour"
           }
          ],
          "contourcarpet": [
           {
            "colorbar": {
             "outlinewidth": 0,
             "ticks": ""
            },
            "type": "contourcarpet"
           }
          ],
          "heatmap": [
           {
            "colorbar": {
             "outlinewidth": 0,
             "ticks": ""
            },
            "colorscale": [
             [
              0,
              "#0d0887"
             ],
             [
              0.1111111111111111,
              "#46039f"
             ],
             [
              0.2222222222222222,
              "#7201a8"
             ],
             [
              0.3333333333333333,
              "#9c179e"
             ],
             [
              0.4444444444444444,
              "#bd3786"
             ],
             [
              0.5555555555555556,
              "#d8576b"
             ],
             [
              0.6666666666666666,
              "#ed7953"
             ],
             [
              0.7777777777777778,
              "#fb9f3a"
             ],
             [
              0.8888888888888888,
              "#fdca26"
             ],
             [
              1,
              "#f0f921"
             ]
            ],
            "type": "heatmap"
           }
          ],
          "heatmapgl": [
           {
            "colorbar": {
             "outlinewidth": 0,
             "ticks": ""
            },
            "colorscale": [
             [
              0,
              "#0d0887"
             ],
             [
              0.1111111111111111,
              "#46039f"
             ],
             [
              0.2222222222222222,
              "#7201a8"
             ],
             [
              0.3333333333333333,
              "#9c179e"
             ],
             [
              0.4444444444444444,
              "#bd3786"
             ],
             [
              0.5555555555555556,
              "#d8576b"
             ],
             [
              0.6666666666666666,
              "#ed7953"
             ],
             [
              0.7777777777777778,
              "#fb9f3a"
             ],
             [
              0.8888888888888888,
              "#fdca26"
             ],
             [
              1,
              "#f0f921"
             ]
            ],
            "type": "heatmapgl"
           }
          ],
          "histogram": [
           {
            "marker": {
             "pattern": {
              "fillmode": "overlay",
              "size": 10,
              "solidity": 0.2
             }
            },
            "type": "histogram"
           }
          ],
          "histogram2d": [
           {
            "colorbar": {
             "outlinewidth": 0,
             "ticks": ""
            },
            "colorscale": [
             [
              0,
              "#0d0887"
             ],
             [
              0.1111111111111111,
              "#46039f"
             ],
             [
              0.2222222222222222,
              "#7201a8"
             ],
             [
              0.3333333333333333,
              "#9c179e"
             ],
             [
              0.4444444444444444,
              "#bd3786"
             ],
             [
              0.5555555555555556,
              "#d8576b"
             ],
             [
              0.6666666666666666,
              "#ed7953"
             ],
             [
              0.7777777777777778,
              "#fb9f3a"
             ],
             [
              0.8888888888888888,
              "#fdca26"
             ],
             [
              1,
              "#f0f921"
             ]
            ],
            "type": "histogram2d"
           }
          ],
          "histogram2dcontour": [
           {
            "colorbar": {
             "outlinewidth": 0,
             "ticks": ""
            },
            "colorscale": [
             [
              0,
              "#0d0887"
             ],
             [
              0.1111111111111111,
              "#46039f"
             ],
             [
              0.2222222222222222,
              "#7201a8"
             ],
             [
              0.3333333333333333,
              "#9c179e"
             ],
             [
              0.4444444444444444,
              "#bd3786"
             ],
             [
              0.5555555555555556,
              "#d8576b"
             ],
             [
              0.6666666666666666,
              "#ed7953"
             ],
             [
              0.7777777777777778,
              "#fb9f3a"
             ],
             [
              0.8888888888888888,
              "#fdca26"
             ],
             [
              1,
              "#f0f921"
             ]
            ],
            "type": "histogram2dcontour"
           }
          ],
          "mesh3d": [
           {
            "colorbar": {
             "outlinewidth": 0,
             "ticks": ""
            },
            "type": "mesh3d"
           }
          ],
          "parcoords": [
           {
            "line": {
             "colorbar": {
              "outlinewidth": 0,
              "ticks": ""
             }
            },
            "type": "parcoords"
           }
          ],
          "pie": [
           {
            "automargin": true,
            "type": "pie"
           }
          ],
          "scatter": [
           {
            "fillpattern": {
             "fillmode": "overlay",
             "size": 10,
             "solidity": 0.2
            },
            "type": "scatter"
           }
          ],
          "scatter3d": [
           {
            "line": {
             "colorbar": {
              "outlinewidth": 0,
              "ticks": ""
             }
            },
            "marker": {
             "colorbar": {
              "outlinewidth": 0,
              "ticks": ""
             }
            },
            "type": "scatter3d"
           }
          ],
          "scattercarpet": [
           {
            "marker": {
             "colorbar": {
              "outlinewidth": 0,
              "ticks": ""
             }
            },
            "type": "scattercarpet"
           }
          ],
          "scattergeo": [
           {
            "marker": {
             "colorbar": {
              "outlinewidth": 0,
              "ticks": ""
             }
            },
            "type": "scattergeo"
           }
          ],
          "scattergl": [
           {
            "marker": {
             "colorbar": {
              "outlinewidth": 0,
              "ticks": ""
             }
            },
            "type": "scattergl"
           }
          ],
          "scattermapbox": [
           {
            "marker": {
             "colorbar": {
              "outlinewidth": 0,
              "ticks": ""
             }
            },
            "type": "scattermapbox"
           }
          ],
          "scatterpolar": [
           {
            "marker": {
             "colorbar": {
              "outlinewidth": 0,
              "ticks": ""
             }
            },
            "type": "scatterpolar"
           }
          ],
          "scatterpolargl": [
           {
            "marker": {
             "colorbar": {
              "outlinewidth": 0,
              "ticks": ""
             }
            },
            "type": "scatterpolargl"
           }
          ],
          "scatterternary": [
           {
            "marker": {
             "colorbar": {
              "outlinewidth": 0,
              "ticks": ""
             }
            },
            "type": "scatterternary"
           }
          ],
          "surface": [
           {
            "colorbar": {
             "outlinewidth": 0,
             "ticks": ""
            },
            "colorscale": [
             [
              0,
              "#0d0887"
             ],
             [
              0.1111111111111111,
              "#46039f"
             ],
             [
              0.2222222222222222,
              "#7201a8"
             ],
             [
              0.3333333333333333,
              "#9c179e"
             ],
             [
              0.4444444444444444,
              "#bd3786"
             ],
             [
              0.5555555555555556,
              "#d8576b"
             ],
             [
              0.6666666666666666,
              "#ed7953"
             ],
             [
              0.7777777777777778,
              "#fb9f3a"
             ],
             [
              0.8888888888888888,
              "#fdca26"
             ],
             [
              1,
              "#f0f921"
             ]
            ],
            "type": "surface"
           }
          ],
          "table": [
           {
            "cells": {
             "fill": {
              "color": "#EBF0F8"
             },
             "line": {
              "color": "white"
             }
            },
            "header": {
             "fill": {
              "color": "#C8D4E3"
             },
             "line": {
              "color": "white"
             }
            },
            "type": "table"
           }
          ]
         },
         "layout": {
          "annotationdefaults": {
           "arrowcolor": "#2a3f5f",
           "arrowhead": 0,
           "arrowwidth": 1
          },
          "autotypenumbers": "strict",
          "coloraxis": {
           "colorbar": {
            "outlinewidth": 0,
            "ticks": ""
           }
          },
          "colorscale": {
           "diverging": [
            [
             0,
             "#8e0152"
            ],
            [
             0.1,
             "#c51b7d"
            ],
            [
             0.2,
             "#de77ae"
            ],
            [
             0.3,
             "#f1b6da"
            ],
            [
             0.4,
             "#fde0ef"
            ],
            [
             0.5,
             "#f7f7f7"
            ],
            [
             0.6,
             "#e6f5d0"
            ],
            [
             0.7,
             "#b8e186"
            ],
            [
             0.8,
             "#7fbc41"
            ],
            [
             0.9,
             "#4d9221"
            ],
            [
             1,
             "#276419"
            ]
           ],
           "sequential": [
            [
             0,
             "#0d0887"
            ],
            [
             0.1111111111111111,
             "#46039f"
            ],
            [
             0.2222222222222222,
             "#7201a8"
            ],
            [
             0.3333333333333333,
             "#9c179e"
            ],
            [
             0.4444444444444444,
             "#bd3786"
            ],
            [
             0.5555555555555556,
             "#d8576b"
            ],
            [
             0.6666666666666666,
             "#ed7953"
            ],
            [
             0.7777777777777778,
             "#fb9f3a"
            ],
            [
             0.8888888888888888,
             "#fdca26"
            ],
            [
             1,
             "#f0f921"
            ]
           ],
           "sequentialminus": [
            [
             0,
             "#0d0887"
            ],
            [
             0.1111111111111111,
             "#46039f"
            ],
            [
             0.2222222222222222,
             "#7201a8"
            ],
            [
             0.3333333333333333,
             "#9c179e"
            ],
            [
             0.4444444444444444,
             "#bd3786"
            ],
            [
             0.5555555555555556,
             "#d8576b"
            ],
            [
             0.6666666666666666,
             "#ed7953"
            ],
            [
             0.7777777777777778,
             "#fb9f3a"
            ],
            [
             0.8888888888888888,
             "#fdca26"
            ],
            [
             1,
             "#f0f921"
            ]
           ]
          },
          "colorway": [
           "#636efa",
           "#EF553B",
           "#00cc96",
           "#ab63fa",
           "#FFA15A",
           "#19d3f3",
           "#FF6692",
           "#B6E880",
           "#FF97FF",
           "#FECB52"
          ],
          "font": {
           "color": "#2a3f5f"
          },
          "geo": {
           "bgcolor": "white",
           "lakecolor": "white",
           "landcolor": "#E5ECF6",
           "showlakes": true,
           "showland": true,
           "subunitcolor": "white"
          },
          "hoverlabel": {
           "align": "left"
          },
          "hovermode": "closest",
          "mapbox": {
           "style": "light"
          },
          "paper_bgcolor": "white",
          "plot_bgcolor": "#E5ECF6",
          "polar": {
           "angularaxis": {
            "gridcolor": "white",
            "linecolor": "white",
            "ticks": ""
           },
           "bgcolor": "#E5ECF6",
           "radialaxis": {
            "gridcolor": "white",
            "linecolor": "white",
            "ticks": ""
           }
          },
          "scene": {
           "xaxis": {
            "backgroundcolor": "#E5ECF6",
            "gridcolor": "white",
            "gridwidth": 2,
            "linecolor": "white",
            "showbackground": true,
            "ticks": "",
            "zerolinecolor": "white"
           },
           "yaxis": {
            "backgroundcolor": "#E5ECF6",
            "gridcolor": "white",
            "gridwidth": 2,
            "linecolor": "white",
            "showbackground": true,
            "ticks": "",
            "zerolinecolor": "white"
           },
           "zaxis": {
            "backgroundcolor": "#E5ECF6",
            "gridcolor": "white",
            "gridwidth": 2,
            "linecolor": "white",
            "showbackground": true,
            "ticks": "",
            "zerolinecolor": "white"
           }
          },
          "shapedefaults": {
           "line": {
            "color": "#2a3f5f"
           }
          },
          "ternary": {
           "aaxis": {
            "gridcolor": "white",
            "linecolor": "white",
            "ticks": ""
           },
           "baxis": {
            "gridcolor": "white",
            "linecolor": "white",
            "ticks": ""
           },
           "bgcolor": "#E5ECF6",
           "caxis": {
            "gridcolor": "white",
            "linecolor": "white",
            "ticks": ""
           }
          },
          "title": {
           "x": 0.05
          },
          "xaxis": {
           "automargin": true,
           "gridcolor": "white",
           "linecolor": "white",
           "ticks": "",
           "title": {
            "standoff": 15
           },
           "zerolinecolor": "white",
           "zerolinewidth": 2
          },
          "yaxis": {
           "automargin": true,
           "gridcolor": "white",
           "linecolor": "white",
           "ticks": "",
           "title": {
            "standoff": 15
           },
           "zerolinecolor": "white",
           "zerolinewidth": 2
          }
         }
        },
        "title": {
         "text": "Hotels map"
        },
        "width": 900
       }
      }
     },
     "metadata": {},
     "output_type": "display_data"
    }
   ],
   "source": [
    "fig_hotels = go.Figure()\n",
    "\n",
    "fig_hotels.update_layout(title='Hotels map',\n",
    "                          height=800,\n",
    "                          width=900,\n",
    "                          map_style='open-street-map')\n",
    "\n",
    "fig_hotels.add_trace(\n",
    "    go.Scattermap(\n",
    "        lat=locations_df['latitude'],\n",
    "        lon=locations_df['longitude'],\n",
    "        marker=go.scattermap.Marker(size=15,),\n",
    "        text=locations_df['name'],\n",
    "        customdata=hotels_loc,\n",
    "        hovertemplate=(\n",
    "            '<b>%{text}</b><br><br>'\n",
    "            'Hotel name, rating, geo rating<br>'\n",
    "            '%{customdata[0]}: %{customdata[1]:.1f}, %{customdata[2]:.1f}<br>'\n",
    "            '%{customdata[3]}: %{customdata[4]:.1f}, %{customdata[5]:.1f}<br>'\n",
    "            '%{customdata[6]}: %{customdata[7]:.1f}, %{customdata[8]:.1f}<br>'\n",
    "            '%{customdata[9]}: %{customdata[10]:.1f}, %{customdata[11]:.1f}<br>'\n",
    "            '%{customdata[12]}: %{customdata[13]:.1f}, %{customdata[14]:.1f}<br>'\n",
    "            '<extra></extra>'\n",
    "        ),\n",
    "    )\n",
    ")\n",
    "\n",
    "fig_hotels.show()"
   ]
  },
  {
   "cell_type": "code",
   "execution_count": 9,
   "id": "9a4a1c6a",
   "metadata": {},
   "outputs": [],
   "source": [
    "## close database connection gracefully\n",
    "engine.dispose()"
   ]
  }
 ],
 "metadata": {
  "kernelspec": {
   "display_name": "kayak",
   "language": "python",
   "name": "python3"
  },
  "language_info": {
   "codemirror_mode": {
    "name": "ipython",
    "version": 3
   },
   "file_extension": ".py",
   "mimetype": "text/x-python",
   "name": "python",
   "nbconvert_exporter": "python",
   "pygments_lexer": "ipython3",
   "version": "3.13.2"
  }
 },
 "nbformat": 4,
 "nbformat_minor": 5
}
