{
 "cells": [
  {
   "cell_type": "markdown",
   "id": "16166ceb",
   "metadata": {},
   "source": [
    "# Plan your trip with Kayak\n",
    "\n",
    "\n",
    "\n",
    "Contents\n",
    "--------\n",
    "1. [Fetching data from the database](#fetch)\n",
    "2. [Application](#application)"
   ]
  },
  {
   "cell_type": "markdown",
   "id": "a76f2e91",
   "metadata": {},
   "source": [
    "## <a name=\"fetch\"></a>Fetching data from the database\n",
    "\n"
   ]
  },
  {
   "cell_type": "code",
   "execution_count": 3,
   "id": "44842315",
   "metadata": {},
   "outputs": [],
   "source": [
    "import pandas as pd\n",
    "from sqlalchemy import create_engine, URL, inspect\n",
    "from sqlalchemy import text\n",
    "from sqlalchemy.orm import Session"
   ]
  },
  {
   "cell_type": "code",
   "execution_count": 4,
   "id": "4224363d",
   "metadata": {},
   "outputs": [],
   "source": [
    "## get credentials\n",
    "with open('./neondb_access_keys.key', 'rt', encoding='utf-8') as f:\n",
    "    PGHOST = f.readline().split(\"'\")[1]\n",
    "    PGDATABASE = f.readline().split(\"'\")[1]\n",
    "    PGUSER = f.readline().split(\"'\")[1]\n",
    "    PGPASSWORD = f.readline().split(\"'\")[1]\n",
    "\n",
    "url = URL.create(\n",
    "    \"postgresql+psycopg\",\n",
    "    username=PGUSER,\n",
    "    password=PGPASSWORD,\n",
    "    host=PGHOST,\n",
    "    database=PGDATABASE,\n",
    ")\n",
    "\n",
    "## setup SQL engine\n",
    "engine = create_engine(url, echo=False)\n",
    "# inspector = inspect(engine)"
   ]
  },
  {
   "cell_type": "code",
   "execution_count": 5,
   "id": "03ace075",
   "metadata": {},
   "outputs": [],
   "source": [
    "locations = pd.read_sql(text(\"SELECT * FROM locations\"), con=engine)\n",
    "# weather_indicators = pd.read_sql(text(\"SELECT * FROM weather_indicators\"), con=engine)\n",
    "# hotels = pd.read_sql(text(\"SELECT * FROM hotels\"), con=engine)"
   ]
  },
  {
   "cell_type": "markdown",
   "id": "5eff186c",
   "metadata": {},
   "source": [
    "## <a name=\"application\"></a>Application"
   ]
  },
  {
   "cell_type": "code",
   "execution_count": null,
   "id": "19aaad7e",
   "metadata": {},
   "outputs": [],
   "source": []
  },
  {
   "cell_type": "code",
   "execution_count": null,
   "id": "1d6651b2",
   "metadata": {},
   "outputs": [],
   "source": []
  }
 ],
 "metadata": {
  "kernelspec": {
   "display_name": "main",
   "language": "python",
   "name": "python3"
  },
  "language_info": {
   "codemirror_mode": {
    "name": "ipython",
    "version": 3
   },
   "file_extension": ".py",
   "mimetype": "text/x-python",
   "name": "python",
   "nbconvert_exporter": "python",
   "pygments_lexer": "ipython3",
   "version": "3.12.3"
  }
 },
 "nbformat": 4,
 "nbformat_minor": 5
}
