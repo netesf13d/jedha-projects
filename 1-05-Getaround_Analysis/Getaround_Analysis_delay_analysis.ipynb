{
 "cells": [
  {
   "cell_type": "markdown",
   "metadata": {},
   "source": [
    "# Getaround Analysis project\n",
    "\n",
    "\n",
    "Contents\n",
    "--------\n",
    "1. [Loading the dataset](#loading)\n",
    "2. [Preliminary EDA](#eda)\n",
    "2. [Conclusion and perspectives](#conclusion)\n",
    "\n"
   ]
  }
 ],
 "metadata": {
  "language_info": {
   "name": "python"
  }
 },
 "nbformat": 4,
 "nbformat_minor": 2
}
